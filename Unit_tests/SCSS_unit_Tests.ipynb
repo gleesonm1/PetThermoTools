{
 "cells": [
  {
   "cell_type": "code",
   "execution_count": 1,
   "id": "3ca0d9ba-37c3-4c88-89dc-2e07db30db9b",
   "metadata": {},
   "outputs": [
    {
     "data": {
      "text/plain": [
       "'0.0.10'"
      ]
     },
     "execution_count": 1,
     "metadata": {},
     "output_type": "execute_result"
    }
   ],
   "source": [
    "import numpy as np\n",
    "import pandas as pd\n",
    "import pyMELTScalc as ss\n",
    "ss.__version__"
   ]
  },
  {
   "cell_type": "code",
   "execution_count": 2,
   "id": "3078399f-dd18-4349-b586-56aac3d0327e",
   "metadata": {},
   "outputs": [],
   "source": [
    "Liq_test=pd.DataFrame(data={'SiO2_Liq': 52.72,\n",
    "                            'TiO2_Liq': 2.08,\n",
    "                            'Al2O3_Liq': 13.26,\n",
    "                            'FeOt_Liq': 9.21,\n",
    "                            'MgO_Liq': 9.32,\n",
    "                            'CaO_Liq': 10.26,\n",
    "                            'Na2O_Liq': 2.24,\n",
    "                            'K2O_Liq': 0.43,\n",
    "                            'P2O5_Liq': 0.22,\n",
    "                            'Fe3Fet_Liq': 0.095,\n",
    "                            'T_K': 1498,\n",
    "                            'P_kbar':0.01,\n",
    "                           'H2O_Liq': 0}, index=[0])\n",
    "decimalPlace=4   \n"
   ]
  },
  {
   "cell_type": "code",
   "execution_count": 10,
   "id": "f8264683-69da-494b-b45b-d220dbabd540",
   "metadata": {},
   "outputs": [],
   "source": [
    "## Mantle Melting\n",
    "\n",
    "Modes=pd.DataFrame(data={'ol': 0.6, 'opx': 0.2, \n",
    "       'cpx': 0.18, 'sp': 0.02, 'gt': 0}, index=[0])\n",
    "\n",
    "KDs_Cu=pd.DataFrame(data={'element': 'Cu',\n",
    "        'ol': 0.048, 'opx': 0.034, \n",
    "        'cpx': 0.043, 'sp': 0.223, \n",
    "        'gt': 0, 'sulf': 800}, index=[0])\n",
    "\n",
    "S_Sulf = 33*(10**4)\n"
   ]
  },
  {
   "cell_type": "code",
   "execution_count": 13,
   "id": "1a5fa0cd-2af5-42af-ad96-b9cd0ca3bf61",
   "metadata": {},
   "outputs": [
    {
     "data": {
      "text/plain": [
       "59.205447166128984"
      ]
     },
     "execution_count": 13,
     "metadata": {},
     "output_type": "execute_result"
    }
   ],
   "source": [
    "ss.Lee_Wieser_sulfide_melting(Modes=Modes, KDs=KDs_Cu,\n",
    "                        N=100, S_Mantle=[200],\n",
    "                        S_Sulf=S_Sulf, S_Melt_SCSS_2_ppm=1000,\n",
    "                        elem_Per=30, Prop_S6=0)['Cu_Melt_Agg'][3]"
   ]
  },
  {
   "cell_type": "code",
   "execution_count": 18,
   "id": "596e36dc-ea88-4fb5-ba48-c7e8db94f583",
   "metadata": {},
   "outputs": [
    {
     "data": {
      "text/plain": [
       "175.2577319587629"
      ]
     },
     "execution_count": 18,
     "metadata": {},
     "output_type": "execute_result"
    }
   ],
   "source": [
    "ss.Lee_Wieser_sulfide_melting(Modes=Modes, KDs=KDs_Cu,\n",
    "                        N=100, S_Mantle=[200],\n",
    "                        S_Sulf=S_Sulf, S_Melt_SCSS_2_ppm=1000,\n",
    "                        elem_Per=30, Prop_S6=0)['S_Residue'][3]"
   ]
  },
  {
   "cell_type": "code",
   "execution_count": 19,
   "id": "e97a2c8c-1274-45c3-9fc2-7299e992ea01",
   "metadata": {},
   "outputs": [
    {
     "data": {
      "text/html": [
       "<div>\n",
       "<style scoped>\n",
       "    .dataframe tbody tr th:only-of-type {\n",
       "        vertical-align: middle;\n",
       "    }\n",
       "\n",
       "    .dataframe tbody tr th {\n",
       "        vertical-align: top;\n",
       "    }\n",
       "\n",
       "    .dataframe thead th {\n",
       "        text-align: right;\n",
       "    }\n",
       "</style>\n",
       "<table border=\"1\" class=\"dataframe\">\n",
       "  <thead>\n",
       "    <tr style=\"text-align: right;\">\n",
       "      <th></th>\n",
       "      <th>F</th>\n",
       "      <th>M</th>\n",
       "      <th>Cu_KD</th>\n",
       "      <th>Cu_Melt_Agg</th>\n",
       "      <th>Cu_Melt_Inst</th>\n",
       "      <th>Cu_Residue</th>\n",
       "      <th>S_Residue</th>\n",
       "      <th>S_Melt_Inst</th>\n",
       "      <th>S_Melt_Agg</th>\n",
       "      <th>S_Melt_input</th>\n",
       "      <th>XSulf</th>\n",
       "    </tr>\n",
       "  </thead>\n",
       "  <tbody>\n",
       "    <tr>\n",
       "      <th>0</th>\n",
       "      <td>0.00</td>\n",
       "      <td>1.00</td>\n",
       "      <td>0.532620</td>\n",
       "      <td>0.000000</td>\n",
       "      <td>0.000000e+00</td>\n",
       "      <td>3.000000e+01</td>\n",
       "      <td>200.000000</td>\n",
       "      <td>1000.0</td>\n",
       "      <td>0.000000</td>\n",
       "      <td>1000.0</td>\n",
       "      <td>0.000606</td>\n",
       "    </tr>\n",
       "    <tr>\n",
       "      <th>1</th>\n",
       "      <td>0.01</td>\n",
       "      <td>0.99</td>\n",
       "      <td>0.513031</td>\n",
       "      <td>57.410461</td>\n",
       "      <td>5.741046e+01</td>\n",
       "      <td>2.972313e+01</td>\n",
       "      <td>191.919192</td>\n",
       "      <td>1000.0</td>\n",
       "      <td>1000.000000</td>\n",
       "      <td>1000.0</td>\n",
       "      <td>0.000582</td>\n",
       "    </tr>\n",
       "    <tr>\n",
       "      <th>2</th>\n",
       "      <td>0.02</td>\n",
       "      <td>0.98</td>\n",
       "      <td>0.493042</td>\n",
       "      <td>58.282913</td>\n",
       "      <td>5.915536e+01</td>\n",
       "      <td>2.942280e+01</td>\n",
       "      <td>183.673469</td>\n",
       "      <td>1000.0</td>\n",
       "      <td>1000.000000</td>\n",
       "      <td>1000.0</td>\n",
       "      <td>0.000557</td>\n",
       "    </tr>\n",
       "    <tr>\n",
       "      <th>3</th>\n",
       "      <td>0.03</td>\n",
       "      <td>0.97</td>\n",
       "      <td>0.472642</td>\n",
       "      <td>59.205447</td>\n",
       "      <td>6.105052e+01</td>\n",
       "      <td>2.909674e+01</td>\n",
       "      <td>175.257732</td>\n",
       "      <td>1000.0</td>\n",
       "      <td>1000.000000</td>\n",
       "      <td>1000.0</td>\n",
       "      <td>0.000531</td>\n",
       "    </tr>\n",
       "    <tr>\n",
       "      <th>4</th>\n",
       "      <td>0.04</td>\n",
       "      <td>0.96</td>\n",
       "      <td>0.451816</td>\n",
       "      <td>60.183616</td>\n",
       "      <td>6.311812e+01</td>\n",
       "      <td>2.874235e+01</td>\n",
       "      <td>166.666667</td>\n",
       "      <td>1000.0</td>\n",
       "      <td>1000.000000</td>\n",
       "      <td>1000.0</td>\n",
       "      <td>0.000505</td>\n",
       "    </tr>\n",
       "    <tr>\n",
       "      <th>...</th>\n",
       "      <td>...</td>\n",
       "      <td>...</td>\n",
       "      <td>...</td>\n",
       "      <td>...</td>\n",
       "      <td>...</td>\n",
       "      <td>...</td>\n",
       "      <td>...</td>\n",
       "      <td>...</td>\n",
       "      <td>...</td>\n",
       "      <td>...</td>\n",
       "      <td>...</td>\n",
       "    </tr>\n",
       "    <tr>\n",
       "      <th>95</th>\n",
       "      <td>0.95</td>\n",
       "      <td>0.05</td>\n",
       "      <td>0.047800</td>\n",
       "      <td>31.578947</td>\n",
       "      <td>2.625905e-14</td>\n",
       "      <td>1.255183e-15</td>\n",
       "      <td>0.000000</td>\n",
       "      <td>0.0</td>\n",
       "      <td>210.526316</td>\n",
       "      <td>1000.0</td>\n",
       "      <td>0.000000</td>\n",
       "    </tr>\n",
       "    <tr>\n",
       "      <th>96</th>\n",
       "      <td>0.96</td>\n",
       "      <td>0.04</td>\n",
       "      <td>0.047800</td>\n",
       "      <td>31.250000</td>\n",
       "      <td>5.268564e-15</td>\n",
       "      <td>2.518374e-16</td>\n",
       "      <td>0.000000</td>\n",
       "      <td>0.0</td>\n",
       "      <td>208.333333</td>\n",
       "      <td>1000.0</td>\n",
       "      <td>0.000000</td>\n",
       "    </tr>\n",
       "    <tr>\n",
       "      <th>97</th>\n",
       "      <td>0.97</td>\n",
       "      <td>0.03</td>\n",
       "      <td>0.047800</td>\n",
       "      <td>30.927835</td>\n",
       "      <td>8.810123e-16</td>\n",
       "      <td>4.211239e-17</td>\n",
       "      <td>0.000000</td>\n",
       "      <td>0.0</td>\n",
       "      <td>206.185567</td>\n",
       "      <td>1000.0</td>\n",
       "      <td>0.000000</td>\n",
       "    </tr>\n",
       "    <tr>\n",
       "      <th>98</th>\n",
       "      <td>0.98</td>\n",
       "      <td>0.02</td>\n",
       "      <td>0.047800</td>\n",
       "      <td>30.612245</td>\n",
       "      <td>1.153132e-16</td>\n",
       "      <td>5.511972e-18</td>\n",
       "      <td>0.000000</td>\n",
       "      <td>0.0</td>\n",
       "      <td>204.081633</td>\n",
       "      <td>1000.0</td>\n",
       "      <td>0.000000</td>\n",
       "    </tr>\n",
       "    <tr>\n",
       "      <th>99</th>\n",
       "      <td>0.99</td>\n",
       "      <td>0.01</td>\n",
       "      <td>0.000000</td>\n",
       "      <td>0.000000</td>\n",
       "      <td>0.000000e+00</td>\n",
       "      <td>9.900000e-01</td>\n",
       "      <td>0.010000</td>\n",
       "      <td>0.0</td>\n",
       "      <td>0.000000</td>\n",
       "      <td>1000.0</td>\n",
       "      <td>0.990000</td>\n",
       "    </tr>\n",
       "  </tbody>\n",
       "</table>\n",
       "<p>100 rows × 11 columns</p>\n",
       "</div>"
      ],
      "text/plain": [
       "       F     M     Cu_KD  Cu_Melt_Agg  Cu_Melt_Inst    Cu_Residue   S_Residue  \\\n",
       "0   0.00  1.00  0.532620     0.000000  0.000000e+00  3.000000e+01  200.000000   \n",
       "1   0.01  0.99  0.513031    57.410461  5.741046e+01  2.972313e+01  191.919192   \n",
       "2   0.02  0.98  0.493042    58.282913  5.915536e+01  2.942280e+01  183.673469   \n",
       "3   0.03  0.97  0.472642    59.205447  6.105052e+01  2.909674e+01  175.257732   \n",
       "4   0.04  0.96  0.451816    60.183616  6.311812e+01  2.874235e+01  166.666667   \n",
       "..   ...   ...       ...          ...           ...           ...         ...   \n",
       "95  0.95  0.05  0.047800    31.578947  2.625905e-14  1.255183e-15    0.000000   \n",
       "96  0.96  0.04  0.047800    31.250000  5.268564e-15  2.518374e-16    0.000000   \n",
       "97  0.97  0.03  0.047800    30.927835  8.810123e-16  4.211239e-17    0.000000   \n",
       "98  0.98  0.02  0.047800    30.612245  1.153132e-16  5.511972e-18    0.000000   \n",
       "99  0.99  0.01  0.000000     0.000000  0.000000e+00  9.900000e-01    0.010000   \n",
       "\n",
       "    S_Melt_Inst   S_Melt_Agg  S_Melt_input     XSulf  \n",
       "0        1000.0     0.000000        1000.0  0.000606  \n",
       "1        1000.0  1000.000000        1000.0  0.000582  \n",
       "2        1000.0  1000.000000        1000.0  0.000557  \n",
       "3        1000.0  1000.000000        1000.0  0.000531  \n",
       "4        1000.0  1000.000000        1000.0  0.000505  \n",
       "..          ...          ...           ...       ...  \n",
       "95          0.0   210.526316        1000.0  0.000000  \n",
       "96          0.0   208.333333        1000.0  0.000000  \n",
       "97          0.0   206.185567        1000.0  0.000000  \n",
       "98          0.0   204.081633        1000.0  0.000000  \n",
       "99          0.0     0.000000        1000.0  0.990000  \n",
       "\n",
       "[100 rows x 11 columns]"
      ]
     },
     "execution_count": 19,
     "metadata": {},
     "output_type": "execute_result"
    }
   ],
   "source": [
    "ss.Lee_Wieser_sulfide_melting(Modes=Modes, KDs=KDs_Cu,\n",
    "                        N=100, S_Mantle=[200],\n",
    "                        S_Sulf=S_Sulf, S_Melt_SCSS_2_ppm=1000,\n",
    "                        elem_Per=30, Prop_S6=0)"
   ]
  },
  {
   "cell_type": "markdown",
   "id": "9b151468-022f-45dd-b30a-a21474a47a16",
   "metadata": {},
   "source": [
    "## Total S solubility"
   ]
  },
  {
   "cell_type": "code",
   "execution_count": 8,
   "id": "a9cc87ee-c43d-42c3-9876-15f7b2759963",
   "metadata": {},
   "outputs": [
    {
     "name": "stderr",
     "output_type": "stream",
     "text": [
      "g:\\my drive\\berkeley_new\\pyMELTScalc\\pyMELTScalc_structure\\src\\pyMELTScalc\\s6_corrections.py:265: FutureWarning: In a future version, `df.iloc[:, i] = newvals` will attempt to set the values inplace instead of always setting a new array. To retain the old behavior, use either `df[df.columns[i]] = newvals` or, if columns are non-unique, `df.isetitem(i, newvals)`\n",
      "  df_Species.loc[toomuchS2, 'SCAS_Tot_check']=df_Species['SCAS_6_ppm']+df_Species['SCSS_2_ppm']\n"
     ]
    },
    {
     "data": {
      "text/plain": [
       "1006.9936479729372"
      ]
     },
     "execution_count": 8,
     "metadata": {},
     "output_type": "execute_result"
    }
   ],
   "source": [
    "ss.calculate_S_Total_SCSS_SCAS(Fe3Fet_Liq=Liq_test['Fe3Fet_Liq'], T_K=Liq_test['T_K'],\n",
    "            SCSS=1000, SCAS=5000, model='Nash')['Total_S_ppm'][0]"
   ]
  },
  {
   "cell_type": "code",
   "execution_count": 9,
   "id": "6bf95bfe-e5ed-4962-a702-55b160e61c75",
   "metadata": {},
   "outputs": [
    {
     "name": "stderr",
     "output_type": "stream",
     "text": [
      "g:\\my drive\\berkeley_new\\pyMELTScalc\\pyMELTScalc_structure\\src\\pyMELTScalc\\s6_corrections.py:256: FutureWarning: In a future version, `df.iloc[:, i] = newvals` will attempt to set the values inplace instead of always setting a new array. To retain the old behavior, use either `df[df.columns[i]] = newvals` or, if columns are non-unique, `df.isetitem(i, newvals)`\n",
      "  df_Species.loc[toomuchS6, 'SCSS_Tot_check']=df_Species['SCAS_6_ppm']+df_Species['SCSS_2_ppm']\n"
     ]
    },
    {
     "data": {
      "text/plain": [
       "5000.02347426457"
      ]
     },
     "execution_count": 9,
     "metadata": {},
     "output_type": "execute_result"
    }
   ],
   "source": [
    "ss.calculate_S_Total_SCSS_SCAS(Fe3Fet_Liq=Liq_test['Fe3Fet_Liq']*5, T_K=Liq_test['T_K'],\n",
    "            SCSS=1000, SCAS=5000, model='Nash')['Total_S_ppm'][0]"
   ]
  },
  {
   "cell_type": "code",
   "execution_count": 4,
   "id": "19bfeada-4a70-485a-8578-3431c5327782",
   "metadata": {},
   "outputs": [
    {
     "name": "stderr",
     "output_type": "stream",
     "text": [
      "g:\\my drive\\berkeley_new\\pyMELTScalc\\pyMELTScalc_structure\\src\\pyMELTScalc\\s6_corrections.py:265: FutureWarning: In a future version, `df.iloc[:, i] = newvals` will attempt to set the values inplace instead of always setting a new array. To retain the old behavior, use either `df[df.columns[i]] = newvals` or, if columns are non-unique, `df.isetitem(i, newvals)`\n",
      "  df_Species.loc[toomuchS2, 'SCAS_Tot_check']=df_Species['SCAS_6_ppm']+df_Species['SCSS_2_ppm']\n"
     ]
    },
    {
     "data": {
      "text/plain": [
       "1031.6227766016839"
      ]
     },
     "execution_count": 4,
     "metadata": {},
     "output_type": "execute_result"
    }
   ],
   "source": [
    "ss.calculate_S_Total_SCSS_SCAS(deltaQFM=0.3,\n",
    "            SCSS=1000, SCAS=5000, model='Jugo')['Total_S_ppm'][0]"
   ]
  },
  {
   "cell_type": "markdown",
   "id": "524a983c-a474-4517-87c2-1f139d01a1a6",
   "metadata": {},
   "source": [
    "## Testing S6 corrections"
   ]
  },
  {
   "cell_type": "code",
   "execution_count": 12,
   "id": "cbec712d-64e0-4d48-bf1d-9e5c97be529d",
   "metadata": {},
   "outputs": [
    {
     "data": {
      "text/plain": [
       "0.030653430031715508"
      ]
     },
     "execution_count": 12,
     "metadata": {},
     "output_type": "execute_result"
    }
   ],
   "source": [
    "ss.calculate_S6St_Jugo2010_eq10(deltaQFM=0.3)"
   ]
  },
  {
   "cell_type": "code",
   "execution_count": 14,
   "id": "0c7fdec1-6a6e-4b82-a829-cd2b86bcd2aa",
   "metadata": {},
   "outputs": [
    {
     "data": {
      "text/plain": [
       "0    0.006945\n",
       "dtype: float64"
      ]
     },
     "execution_count": 14,
     "metadata": {},
     "output_type": "execute_result"
    }
   ],
   "source": [
    "ss.calculate_S6St_Nash2019(T_K=Liq_test['T_K'], Fe3Fet_Liq=Liq_test['Fe3Fet_Liq'])"
   ]
  },
  {
   "cell_type": "code",
   "execution_count": 17,
   "id": "5a183de6-411c-40fc-a125-6e7b3e1798be",
   "metadata": {},
   "outputs": [
    {
     "data": {
      "text/html": [
       "<div>\n",
       "<style scoped>\n",
       "    .dataframe tbody tr th:only-of-type {\n",
       "        vertical-align: middle;\n",
       "    }\n",
       "\n",
       "    .dataframe tbody tr th {\n",
       "        vertical-align: top;\n",
       "    }\n",
       "\n",
       "    .dataframe thead th {\n",
       "        text-align: right;\n",
       "    }\n",
       "</style>\n",
       "<table border=\"1\" class=\"dataframe\">\n",
       "  <thead>\n",
       "    <tr style=\"text-align: right;\">\n",
       "      <th></th>\n",
       "      <th>S6St_Liq</th>\n",
       "      <th>LnCS2_calc</th>\n",
       "      <th>LnCS6_calc</th>\n",
       "      <th>LnKSO2S2</th>\n",
       "      <th>LnS6S2</th>\n",
       "      <th>deltaQFM_calc</th>\n",
       "      <th>SiO2_Liq</th>\n",
       "      <th>TiO2_Liq</th>\n",
       "      <th>Al2O3_Liq</th>\n",
       "      <th>FeOt_Liq</th>\n",
       "      <th>...</th>\n",
       "      <th>Ca_Liq_cat_frac</th>\n",
       "      <th>Al_Liq_cat_frac</th>\n",
       "      <th>Na_Liq_cat_frac</th>\n",
       "      <th>K_Liq_cat_frac</th>\n",
       "      <th>Ti_Liq_cat_frac</th>\n",
       "      <th>P_Liq_cat_frac</th>\n",
       "      <th>Mg_Number_Liq_NoFe3</th>\n",
       "      <th>Mg_Number_Liq_Fe3</th>\n",
       "      <th>logfo2_calc</th>\n",
       "      <th>Fe2_Liq_cat_frac</th>\n",
       "    </tr>\n",
       "  </thead>\n",
       "  <tbody>\n",
       "    <tr>\n",
       "      <th>0</th>\n",
       "      <td>0.008973</td>\n",
       "      <td>-2.566264</td>\n",
       "      <td>12.575097</td>\n",
       "      <td>-16.991249</td>\n",
       "      <td>-4.704549</td>\n",
       "      <td>0.144884</td>\n",
       "      <td>52.72</td>\n",
       "      <td>2.08</td>\n",
       "      <td>13.26</td>\n",
       "      <td>9.21</td>\n",
       "      <td>...</td>\n",
       "      <td>0.102186</td>\n",
       "      <td>0.145268</td>\n",
       "      <td>0.040371</td>\n",
       "      <td>0.005099</td>\n",
       "      <td>0.014543</td>\n",
       "      <td>0.001731</td>\n",
       "      <td>0.643344</td>\n",
       "      <td>0.665907</td>\n",
       "      <td>-7.999087</td>\n",
       "      <td>0.064794</td>\n",
       "    </tr>\n",
       "  </tbody>\n",
       "</table>\n",
       "<p>1 rows × 43 columns</p>\n",
       "</div>"
      ],
      "text/plain": [
       "   S6St_Liq  LnCS2_calc  LnCS6_calc   LnKSO2S2    LnS6S2  deltaQFM_calc  \\\n",
       "0  0.008973   -2.566264   12.575097 -16.991249 -4.704549       0.144884   \n",
       "\n",
       "   SiO2_Liq  TiO2_Liq  Al2O3_Liq  FeOt_Liq  ...  Ca_Liq_cat_frac  \\\n",
       "0     52.72      2.08      13.26      9.21  ...         0.102186   \n",
       "\n",
       "   Al_Liq_cat_frac  Na_Liq_cat_frac  K_Liq_cat_frac  Ti_Liq_cat_frac  \\\n",
       "0         0.145268         0.040371        0.005099         0.014543   \n",
       "\n",
       "   P_Liq_cat_frac  Mg_Number_Liq_NoFe3  Mg_Number_Liq_Fe3  logfo2_calc  \\\n",
       "0        0.001731             0.643344           0.665907    -7.999087   \n",
       "\n",
       "   Fe2_Liq_cat_frac  \n",
       "0          0.064794  \n",
       "\n",
       "[1 rows x 43 columns]"
      ]
     },
     "execution_count": 17,
     "metadata": {},
     "output_type": "execute_result"
    }
   ],
   "source": [
    "ss.calculate_OM2022_S6St(df=Liq_test, T_K=Liq_test['T_K'], logfo2=None,\n",
    "                    Fe3Fet_Liq=Liq_test['Fe3Fet_Liq'])"
   ]
  },
  {
   "cell_type": "markdown",
   "id": "a5059f46-4189-4a37-b120-d31a57e7129a",
   "metadata": {},
   "source": [
    "## Using calculated sulfide"
   ]
  },
  {
   "cell_type": "code",
   "execution_count": 3,
   "id": "ba3f5d27-8538-415d-9e45-a18bb77486e2",
   "metadata": {},
   "outputs": [
    {
     "data": {
      "text/plain": [
       "968.5364514652154"
      ]
     },
     "execution_count": 3,
     "metadata": {},
     "output_type": "execute_result"
    }
   ],
   "source": [
    "ss.calculate_S2017_SCSS(df=Liq_test,\n",
    "T_K=Liq_test['T_K'], P_kbar=Liq_test['P_kbar'],\n",
    "Fe3Fet_Liq=Liq_test['Fe3Fet_Liq'],\n",
    "Ni_Liq=100, Cu_Liq=150,\n",
    "Fe_FeNiCu_Sulf='Calc_Smythe')['SCSS2_ppm_ideal_Smythe2017'][0]"
   ]
  },
  {
   "cell_type": "code",
   "execution_count": 4,
   "id": "250ac14e-63ac-4569-97d5-c896b880533b",
   "metadata": {},
   "outputs": [
    {
     "name": "stdout",
     "output_type": "stream",
     "text": [
      "no non ideal SCSS as no Cu/CuFeNiCu\n"
     ]
    },
    {
     "data": {
      "text/plain": [
       "930.3940622962762"
      ]
     },
     "execution_count": 4,
     "metadata": {},
     "output_type": "execute_result"
    }
   ],
   "source": [
    "ss.calculate_S2017_SCSS(df=Liq_test,\n",
    "T_K=Liq_test['T_K'], P_kbar=Liq_test['P_kbar'],\n",
    "Fe3Fet_Liq=Liq_test['Fe3Fet_Liq'],\n",
    "Ni_Liq=100, Cu_Liq=150,\n",
    "Fe_FeNiCu_Sulf='Calc_ONeill')['SCSS2_ppm_ideal_Smythe2017'][0]"
   ]
  },
  {
   "cell_type": "code",
   "execution_count": 5,
   "id": "2218b86a-b060-4da6-a133-e2b3f4565132",
   "metadata": {},
   "outputs": [
    {
     "data": {
      "text/plain": [
       "955.4837286314"
      ]
     },
     "execution_count": 5,
     "metadata": {},
     "output_type": "execute_result"
    }
   ],
   "source": [
    "ss.calculate_O2021_SCSS(df=Liq_test,\n",
    "T_K=Liq_test['T_K'], P_kbar=Liq_test['P_kbar'],\n",
    "Fe3Fet_Liq=Liq_test['Fe3Fet_Liq'],\n",
    "Ni_Liq=100, Cu_Liq=150,\n",
    "Fe_FeNiCu_Sulf='Calc_ONeill')['SCSS2_ppm'][0]"
   ]
  },
  {
   "cell_type": "code",
   "execution_count": 6,
   "id": "05467121-803a-491f-a475-f8fda23f086e",
   "metadata": {},
   "outputs": [
    {
     "data": {
      "text/plain": [
       "994.6546925260972"
      ]
     },
     "execution_count": 6,
     "metadata": {},
     "output_type": "execute_result"
    }
   ],
   "source": [
    "ss.calculate_O2021_SCSS(df=Liq_test,\n",
    "T_K=Liq_test['T_K'], P_kbar=Liq_test['P_kbar'],\n",
    "Fe3Fet_Liq=Liq_test['Fe3Fet_Liq'],\n",
    "Ni_Liq=100, Cu_Liq=150,\n",
    "Fe_FeNiCu_Sulf='Calc_Smythe')['SCSS2_ppm'][0]"
   ]
  },
  {
   "cell_type": "code",
   "execution_count": 7,
   "id": "e7d82cc8-f432-4860-b7fd-b2fcf22a82c0",
   "metadata": {},
   "outputs": [
    {
     "data": {
      "text/plain": [
       "1074.7469538219757"
      ]
     },
     "execution_count": 7,
     "metadata": {},
     "output_type": "execute_result"
    }
   ],
   "source": [
    "ss.calculate_B2021_SCSS(df=Liq_test,\n",
    "T_K=Liq_test['T_K'], P_kbar=Liq_test['P_kbar'],\n",
    "Fe3Fet_Liq=Liq_test['Fe3Fet_Liq'],\n",
    "Ni_Liq=100, Cu_Liq=150,\n",
    "Fe_FeNiCu_Sulf='Calc_Smythe')['SCSS2_ppm_eq11'][0]"
   ]
  },
  {
   "cell_type": "code",
   "execution_count": 8,
   "id": "bf6f28de-f088-4485-9851-ed82a04e9391",
   "metadata": {},
   "outputs": [
    {
     "data": {
      "text/plain": [
       "1034.4417069163972"
      ]
     },
     "execution_count": 8,
     "metadata": {},
     "output_type": "execute_result"
    }
   ],
   "source": [
    "ss.calculate_Liu2021_SCSS(df=Liq_test,\n",
    "T_K=Liq_test['T_K'], P_kbar=Liq_test['P_kbar'],\n",
    "Fe3Fet_Liq=Liq_test['Fe3Fet_Liq'],\n",
    "Ni_Liq=100, Cu_Liq=150,\n",
    "Fe_FeNiCu_Sulf='Calc_Smythe')['SCSS2_ppm'][0]"
   ]
  },
  {
   "cell_type": "markdown",
   "id": "d1edf136-ba1e-4a8d-9076-90085a8279e6",
   "metadata": {},
   "source": [
    "## Testing SCSS fixed sulfide"
   ]
  },
  {
   "cell_type": "code",
   "execution_count": 3,
   "id": "6a570515-81ee-4f2c-93d2-1ad0d9fb7577",
   "metadata": {},
   "outputs": [
    {
     "name": "stdout",
     "output_type": "stream",
     "text": [
      "Using inputted Fe_FeNiCu_Sulf ratio for calculations.\n",
      "no non ideal SCSS as no Cu/CuFeNiCu\n"
     ]
    },
    {
     "data": {
      "text/plain": [
       "971.1628818423652"
      ]
     },
     "execution_count": 3,
     "metadata": {},
     "output_type": "execute_result"
    }
   ],
   "source": [
    "Smythe_FixedSulf=ss.calculate_S2017_SCSS(df=Liq_test,\n",
    "T_K=Liq_test['T_K'], P_kbar=Liq_test['P_kbar'], \n",
    "Fe3Fet_Liq=Liq_test['Fe3Fet_Liq'],\n",
    "Fe_FeNiCu_Sulf=0.65)['SCSS2_ppm_ideal_Smythe2017'][0]\n",
    "Smythe_FixedSulf"
   ]
  },
  {
   "cell_type": "code",
   "execution_count": 4,
   "id": "a8e55f59-5098-42f2-bc8a-c9acfb5712d6",
   "metadata": {},
   "outputs": [
    {
     "name": "stdout",
     "output_type": "stream",
     "text": [
      "Using inputted Fe_FeNiCu_Sulf ratio for calculations.\n"
     ]
    },
    {
     "data": {
      "text/plain": [
       "997.3519490880699"
      ]
     },
     "execution_count": 4,
     "metadata": {},
     "output_type": "execute_result"
    }
   ],
   "source": [
    "ONeill_FixedSulf=ss.calculate_O2021_SCSS(df=Liq_test,\n",
    "T_K=Liq_test['T_K'], P_kbar=Liq_test['P_kbar'], \n",
    "Fe3Fet_Liq=Liq_test['Fe3Fet_Liq'],\n",
    "Fe_FeNiCu_Sulf=0.65)['SCSS2_ppm'][0]\n",
    "ONeill_FixedSulf"
   ]
  },
  {
   "cell_type": "code",
   "execution_count": 5,
   "id": "552592a3-d489-49f7-b9b0-cda2b0b6ec80",
   "metadata": {},
   "outputs": [
    {
     "name": "stdout",
     "output_type": "stream",
     "text": [
      "Using inputted Fe_FeNiCu_Sulf ratio for calculations.\n"
     ]
    },
    {
     "data": {
      "text/plain": [
       "1077.661400710366"
      ]
     },
     "execution_count": 5,
     "metadata": {},
     "output_type": "execute_result"
    }
   ],
   "source": [
    "Bl_FixedSulf=ss.calculate_B2021_SCSS(df=Liq_test,\n",
    "T_K=Liq_test['T_K'], P_kbar=Liq_test['P_kbar'], \n",
    "Fe3Fet_Liq=Liq_test['Fe3Fet_Liq'],\n",
    "Fe_FeNiCu_Sulf=0.65)['SCSS2_ppm_eq11'][0]\n",
    "Bl_FixedSulf"
   ]
  },
  {
   "cell_type": "code",
   "execution_count": 6,
   "id": "39027e0c-a820-47d0-aa00-7f3dc08458df",
   "metadata": {},
   "outputs": [
    {
     "name": "stderr",
     "output_type": "stream",
     "text": [
      "g:\\my drive\\berkeley_new\\pyMELTScalc\\pyMELTScalc_structure\\src\\pyMELTScalc\\scss_calcs2.py:522: UserWarning: F2015 doesnt use your inputted Fe3Fet_Liq value\n",
      "  w.warn('F2015 doesnt use your inputted Fe3Fet_Liq value')\n",
      "g:\\my drive\\berkeley_new\\pyMELTScalc\\pyMELTScalc_structure\\src\\pyMELTScalc\\scss_calcs2.py:524: UserWarning: F2015 doesnt use your inputted sulfide comp\n",
      "  w.warn('F2015 doesnt use your inputted sulfide comp')\n"
     ]
    },
    {
     "data": {
      "text/plain": [
       "1367.444449878481"
      ]
     },
     "execution_count": 6,
     "metadata": {},
     "output_type": "execute_result"
    }
   ],
   "source": [
    "ss.calculate_F2015_SCSS(df=Liq_test,\n",
    "T_K=Liq_test['T_K'], P_kbar=Liq_test['P_kbar'], \n",
    "Fe3Fet_Liq=Liq_test['Fe3Fet_Liq'], Fe_FeNiCu_Sulf=0.65)['SCSS2_ppm'][0]"
   ]
  },
  {
   "cell_type": "code",
   "execution_count": 7,
   "id": "ed51f090-5315-4e06-9151-ab71895c326a",
   "metadata": {},
   "outputs": [
    {
     "name": "stdout",
     "output_type": "stream",
     "text": [
      "Using inputted Fe_FeNiCu_Sulf ratio for calculations.\n"
     ]
    },
    {
     "data": {
      "text/plain": [
       "1037.2468559826248"
      ]
     },
     "execution_count": 7,
     "metadata": {},
     "output_type": "execute_result"
    }
   ],
   "source": [
    "ss.calculate_Liu2021_SCSS(df=Liq_test,\n",
    "T_K=Liq_test['T_K'], P_kbar=Liq_test['P_kbar'], \n",
    "Fe3Fet_Liq=Liq_test['Fe3Fet_Liq'], Fe_FeNiCu_Sulf=0.65)['SCSS2_ppm'][0]"
   ]
  },
  {
   "cell_type": "code",
   "execution_count": 8,
   "id": "9211f735-4236-42cd-b710-2eaf7ff41bd8",
   "metadata": {},
   "outputs": [],
   "source": [
    "# Swapped SCSS_calc for SCSS2_ppm"
   ]
  },
  {
   "cell_type": "code",
   "execution_count": 9,
   "id": "ba82a56b-fb2f-48fa-8fa3-a7cffc0980be",
   "metadata": {},
   "outputs": [
    {
     "name": "stdout",
     "output_type": "stream",
     "text": [
      "Using inputted Fe_FeNiCu_Sulf ratio for calculations.\n"
     ]
    },
    {
     "data": {
      "text/plain": [
       "997.3519490880699"
      ]
     },
     "execution_count": 9,
     "metadata": {},
     "output_type": "execute_result"
    }
   ],
   "source": [
    "ss.calculate_OM2022_SCSS(df=Liq_test,\n",
    "T_K=Liq_test['T_K'], P_kbar=Liq_test['P_kbar'], \n",
    "Fe3Fet_Liq=Liq_test['Fe3Fet_Liq'], Fe_FeNiCu_Sulf=0.65)['SCSS2_ppm'][0]"
   ]
  },
  {
   "cell_type": "markdown",
   "id": "8e2a2f72-99e5-4e7d-8455-303b3007ebef",
   "metadata": {},
   "source": [
    "## Testing SCAS"
   ]
  },
  {
   "cell_type": "code",
   "execution_count": 10,
   "id": "4e4bb09a-0e2a-4f59-8743-659042414d53",
   "metadata": {},
   "outputs": [
    {
     "name": "stderr",
     "output_type": "stream",
     "text": [
      "g:\\my drive\\berkeley_new\\pyMELTScalc\\pyMELTScalc_structure\\src\\pyMELTScalc\\scas_calc.py:55: UserWarning: you entered a P_kbar, just be aware this function isnt actually pressure sensitive\n",
      "  w.warn('you entered a P_kbar, just be aware this function isnt actually pressure sensitive')\n",
      "g:\\my drive\\berkeley_new\\pyMELTScalc\\pyMELTScalc_structure\\src\\pyMELTScalc\\scas_calc.py:57: UserWarning: you entered a Fe3Fet_Liq, just be aware this function isnt actually redox sensitive\n",
      "  w.warn('you entered a Fe3Fet_Liq, just be aware this function isnt actually redox sensitive')\n"
     ]
    },
    {
     "data": {
      "text/plain": [
       "7043.40006526207"
      ]
     },
     "execution_count": 10,
     "metadata": {},
     "output_type": "execute_result"
    }
   ],
   "source": [
    "ss.calculate_CD2019_SCAS(df=Liq_test,\n",
    "T_K=Liq_test['T_K'], P_kbar=Liq_test['P_kbar'],\n",
    "Fe3Fet_Liq=Liq_test['Fe3Fet_Liq'])['SCAS6_ppm'][0]"
   ]
  },
  {
   "cell_type": "code",
   "execution_count": 11,
   "id": "4b3f954e-ff34-43b9-b151-0e57e0cc1db1",
   "metadata": {},
   "outputs": [
    {
     "name": "stderr",
     "output_type": "stream",
     "text": [
      "g:\\my drive\\berkeley_new\\pyMELTScalc\\pyMELTScalc_structure\\src\\pyMELTScalc\\scas_calc.py:126: UserWarning: you entered a P_kbar, just be aware this function isnt actually pressure sensitive\n",
      "  w.warn('you entered a P_kbar, just be aware this function isnt actually pressure sensitive')\n",
      "g:\\my drive\\berkeley_new\\pyMELTScalc\\pyMELTScalc_structure\\src\\pyMELTScalc\\scas_calc.py:128: UserWarning: you entered a Fe3Fet_Liq, just be aware this function isnt actually redox sensitive\n",
      "  w.warn('you entered a Fe3Fet_Liq, just be aware this function isnt actually redox sensitive')\n"
     ]
    },
    {
     "data": {
      "text/plain": [
       "7025.572329292286"
      ]
     },
     "execution_count": 11,
     "metadata": {},
     "output_type": "execute_result"
    }
   ],
   "source": [
    "ss.calculate_ZT2022_SCAS(df=Liq_test,\n",
    "T_K=Liq_test['T_K'], P_kbar=Liq_test['P_kbar'],\n",
    "Fe3Fet_Liq=Liq_test['Fe3Fet_Liq'])['SCAS6_ppm'][0]"
   ]
  },
  {
   "cell_type": "code",
   "execution_count": 18,
   "id": "75d983bc-fff4-4473-bf5a-8deab7519d29",
   "metadata": {},
   "outputs": [
    {
     "name": "stderr",
     "output_type": "stream",
     "text": [
      "g:\\my drive\\berkeley_new\\pyMELTScalc\\pyMELTScalc_structure\\src\\pyMELTScalc\\scas_calc.py:194: UserWarning: you entered a P_kbar, just be aware this function isnt actually pressure sensitive\n",
      "  w.warn('you entered a P_kbar, just be aware this function isnt actually pressure sensitive')\n",
      "g:\\my drive\\berkeley_new\\pyMELTScalc\\pyMELTScalc_structure\\src\\pyMELTScalc\\scas_calc.py:196: UserWarning: you entered a Fe3Fet_Liq, just be aware this function isnt actually redox sensitive\n",
      "  w.warn('you entered a Fe3Fet_Liq, just be aware this function isnt actually redox sensitive')\n"
     ]
    },
    {
     "data": {
      "text/plain": [
       "0.005101492327453715"
      ]
     },
     "execution_count": 18,
     "metadata": {},
     "output_type": "execute_result"
    }
   ],
   "source": [
    "ss.calculate_MK2015_SCAS(df=Liq_test,\n",
    "T_K=Liq_test['T_K'], P_kbar=Liq_test['P_kbar'],\n",
    "Fe3Fet_Liq=Liq_test['Fe3Fet_Liq'])['SCAS6_ppm'][0]"
   ]
  },
  {
   "cell_type": "code",
   "execution_count": 14,
   "id": "b0ad99b6-03c9-4826-ae1d-ed29ee60945d",
   "metadata": {},
   "outputs": [
    {
     "data": {
      "text/plain": [
       "0    0.01\n",
       "Name: P_kbar, dtype: float64"
      ]
     },
     "execution_count": 14,
     "metadata": {},
     "output_type": "execute_result"
    }
   ],
   "source": [
    "Liq_test['P_kbar']"
   ]
  },
  {
   "cell_type": "code",
   "execution_count": null,
   "id": "7bc2927d-bcc4-49c9-a061-1393864bfae3",
   "metadata": {},
   "outputs": [],
   "source": []
  }
 ],
 "metadata": {
  "kernelspec": {
   "display_name": "Python 3 (ipykernel)",
   "language": "python",
   "name": "python3"
  },
  "language_info": {
   "codemirror_mode": {
    "name": "ipython",
    "version": 3
   },
   "file_extension": ".py",
   "mimetype": "text/x-python",
   "name": "python",
   "nbconvert_exporter": "python",
   "pygments_lexer": "ipython3",
   "version": "3.9.16"
  }
 },
 "nbformat": 4,
 "nbformat_minor": 5
}
