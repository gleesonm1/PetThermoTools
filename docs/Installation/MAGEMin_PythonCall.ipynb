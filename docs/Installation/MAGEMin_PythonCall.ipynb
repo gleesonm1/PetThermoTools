{
 "cells": [
  {
   "cell_type": "markdown",
   "metadata": {},
   "source": [
    "# Running MAGEMin calculations through Julia\n",
    "\n",
    "PetThermoTools provides the ability to run calculations/models that utilize the recent Weller et al. (2024) and Green et al. (2025) thermodynamic models. Once everything is set up you should be able to run these calculations from the same functions used to run models with alphaMELTS, but simply setting the ```Model``` kwarg to ```Green2025``` or ```Weller2024```.\n",
    "\n",
    "I've worked hard to try and ensure a set up routine that works on every operating system, regardless of prior installations etc. There is, however, a good chance you'll come across a bug/issue I haven't seen before. If there is an issue in the following script please email me (gleesonm@berkeley.edu) and I will try to find a fix as quickly as possible!\n",
    "\n",
    "**Please read the markdown cells carefully for instructions before each code cell**. If everything goes well you should be able to run calculations using the Weller et al. (2024) and Green et al. (2025) thermodynamic models!\n",
    "\n",
    "### Step 1 \n",
    "Uncomment the line below and install juliacall in your Python environment"
   ]
  },
  {
   "cell_type": "code",
   "execution_count": 1,
   "metadata": {},
   "outputs": [],
   "source": [
    "# !pip install juliacall"
   ]
  },
  {
   "cell_type": "markdown",
   "metadata": {},
   "source": [
    "### Step 2\n",
    "Import Main as jl from juliacall. This means that we can call julia functions directly from Python by typing ```jl.{function_name}```."
   ]
  },
  {
   "cell_type": "code",
   "execution_count": 1,
   "metadata": {},
   "outputs": [],
   "source": [
    "from juliacall import Main as jl, convert as jlconvert"
   ]
  },
  {
   "cell_type": "markdown",
   "metadata": {},
   "source": [
    "### Step 3\n",
    "To ensure that this is going to work we need to remove any pre-existing julia packages that might interfere with ```PythonCall```. The main culprits are ```PyCall``` and ```Pandas```. If you are new to Julia or haven't done extensive work in Julia before, the easiest way to do this is to set `option1 = True` in the cell below. \n",
    "\n",
    "**If you use Julia and don't want to remove any other packages that you might need then please put `option2 = True` and `option1 = False`. This will just remove PyCall and Pandas.** If you select option 2 and then get issues later on in this notebook please let me know. If Pandas and/or PyCall are not installed in your Julia environment option 2 might return an error. This isn't as issue as long as neither of these packages are installed. If you're unsure what option to select and don't use Julia for other purposes, the safest option is to select option 1."
   ]
  },
  {
   "cell_type": "code",
   "execution_count": 2,
   "metadata": {},
   "outputs": [],
   "source": [
    "option1 = True\n",
    "option2 = False\n",
    "if option1:\n",
    "    jl.seval(\"\"\"\n",
    "    using Pkg\n",
    "\n",
    "    for pkg in values(Pkg.dependencies())  # Get metadata values instead of UUIDs\n",
    "        if pkg.is_direct_dep  # Only remove explicitly installed packages\n",
    "            Pkg.rm(pkg.name)  # Use the package name instead of UUID\n",
    "        end\n",
    "    end\n",
    "\n",
    "    Pkg.gc()  # Clean up unused dependencies\n",
    "\n",
    "    \"\"\")\n",
    "elif option2:\n",
    "    jl.seval(\"Using Pkg\")\n",
    "    jl.Pkg.rm(\"PyCall\")\n",
    "    jl.Pkg.rm(\"Pandas\")"
   ]
  },
  {
   "cell_type": "markdown",
   "metadata": {},
   "source": [
    "### Step 4\n",
    "Install ```PythonCall``` in Julia."
   ]
  },
  {
   "cell_type": "code",
   "execution_count": 3,
   "metadata": {},
   "outputs": [],
   "source": [
    "jl.Pkg.add(\"PythonCall\")"
   ]
  },
  {
   "cell_type": "markdown",
   "metadata": {},
   "source": [
    "### Step 5\n",
    "Next we need to install MAGEMinCalc (my code) which will also install the underlying MAGEMin_C code (Riel et al. 2022). I've encountered some issues on Windows with this step, so if you originally get an error similar to that listed below then uncomment the line ```jl.seval('ENV[\"JULIA_SSL_CA_ROOTS_PATH\"] = \"\"')``` and rerun this cell.\n",
    "\n",
    "```JuliaError: failed to clone from https://github.com/gleesonm1/MAGEMinCalc.git, error: GitError(Code:ERROR, Class:SSL, Your Julia is built with a SSL/TLS engine that libgit2 doesn't know how to configure to use a file or directory of certificate authority roots, but your environment specifies one via the SSL_CERT_FILE variable. If you believe your system's root certificates are safe to use, you can export JULIA_SSL_CA_ROOTS_PATH=\"\" in your environment to use those instead.)```"
   ]
  },
  {
   "cell_type": "code",
   "execution_count": 4,
   "metadata": {},
   "outputs": [],
   "source": [
    "# Set the environment variable inside Julia - uncomment if the code below returns an error.\n",
    "# jl.seval('ENV[\"JULIA_SSL_CA_ROOTS_PATH\"] = \"\"')\n",
    "\n",
    "# Install MAGEMinCalc\n",
    "jl.Pkg.add(url=\"https://github.com/gleesonm1/MAGEMinCalc.git\", rev=\"v0.4.1\")"
   ]
  },
  {
   "cell_type": "markdown",
   "metadata": {},
   "source": [
    "### Step 6\n",
    "Precompile the Julia packages to check for any issues."
   ]
  },
  {
   "cell_type": "code",
   "execution_count": 5,
   "metadata": {},
   "outputs": [],
   "source": [
    "jl.Pkg.precompile()"
   ]
  },
  {
   "cell_type": "markdown",
   "metadata": {},
   "source": [
    "### Step 7\n",
    "Test the installation by running the following cell. This is calling the MAGEMinCalc functions directly with Julia code using juliacall. This is different to how the code is usually initiated in PetThermoTools but it provides an initial test of the installation. If successful it should print a Pandas DataFrame containing the predicted melt compositions in this crystallization example:"
   ]
  },
  {
   "cell_type": "code",
   "execution_count": 6,
   "metadata": {},
   "outputs": [],
   "source": [
    "jl.seval(\"\"\"\n",
    "using MAGEMinCalc\n",
    "\n",
    "comp = Dict(\"SiO2_Liq\" => 47.5, \"Al2O3_Liq\" => 16.4, \"CaO_Liq\" => 11.6, \"MgO_Liq\" => 9.38,\n",
    "            \"FeOt_Liq\" => 9.16, \"K2O_Liq\" => 0.329, \"Na2O_Liq\" => 2.25, \"TiO2_Liq\" => 2.29, \n",
    "            \"Fe3Fet_Liq\" => 0.15, \"Cr2O3_Liq\" => 0.0, \"H2O_Liq\" => 0.68)\n",
    "\n",
    "Results = MAGEMinCalc.path(comp = comp, T_end_C = 1100.0, dt_C = 2.0, \n",
    "            P_bar = 1000.0, frac_xtal = true, \n",
    "            Model = \"ig\",\n",
    "            find_liquidus = true)\n",
    "\n",
    "\"\"\")\n",
    "\n",
    "jl.Results[\"liq1\"]"
   ]
  },
  {
   "cell_type": "markdown",
   "metadata": {},
   "source": [
    "## Step 8 - You need to restart your kernal before running any of the code below!\n",
    "Assuming the crystallization model above ran without any issues we can now progress to testing the integration of MAGEMin with PetThermoTools. First make sure you have the up to date version of PetThermoTools installed (v0.2.32 or later)."
   ]
  },
  {
   "cell_type": "code",
   "execution_count": 7,
   "metadata": {},
   "outputs": [],
   "source": [
    "# !pip install --upgrade PetThermoTools"
   ]
  },
  {
   "cell_type": "code",
   "execution_count": 8,
   "metadata": {},
   "outputs": [],
   "source": [
    "import PetThermoTools as ptt\n",
    "ptt.__version__"
   ]
  },
  {
   "cell_type": "markdown",
   "metadata": {},
   "source": [
    "### Step 9\n",
    "We are now going to run the same crystallization model as we did above, but this time through PetThermoTools. You don't need to change anything, the two cells of code below should run the model and plot a simple graph of MgO vs FeOt. Expect the code to take 10 - 60 seconds depending on your computer performance."
   ]
  },
  {
   "cell_type": "code",
   "execution_count": 9,
   "metadata": {},
   "outputs": [],
   "source": [
    "comp = {\"SiO2_Liq\": 47.5, \n",
    "        \"Al2O3_Liq\": 16.4, \n",
    "        \"CaO_Liq\": 11.6, \n",
    "        \"MgO_Liq\": 9.38,\n",
    "        \"FeOt_Liq\": 9.16, \n",
    "        \"K2O_Liq\": 0.329, \n",
    "        \"Na2O_Liq\": 2.25, \n",
    "        \"TiO2_Liq\": 2.29,\n",
    "        \"Fe3Fet_Liq\": 0.15, \n",
    "        \"Cr2O3_Liq\": 0.0, \n",
    "        \"H2O_Liq\": 0.68}\n",
    "\n",
    "Results = ptt.isobaric_crystallisation(bulk=comp,\n",
    "                             Model = \"Green\",\n",
    "                             dt_C = 2.0,\n",
    "                             T_end_C=1100.0,\n",
    "                             P_bar=1000.0,\n",
    "                             find_liquidus=True,\n",
    "                             Frac_solid=True)"
   ]
  },
  {
   "cell_type": "code",
   "execution_count": 10,
   "metadata": {},
   "outputs": [],
   "source": [
    "import matplotlib.pyplot as plt\n",
    "plt.plot(Results[\"All\"][\"MgO_Liq\"], Results[\"All\"][\"FeOt_Liq\"], '-r')\n",
    "plt.xlabel('MgO')\n",
    "plt.ylabel('FeO$_t$')"
   ]
  },
  {
   "cell_type": "markdown",
   "metadata": {},
   "source": [
    "### Step 10 - use PetThermoTools alongside MAGEMin in your research!"
   ]
  }
 ],
 "metadata": {
  "kernelspec": {
   "display_name": "base",
   "language": "python",
   "name": "python3"
  },
  "language_info": {
   "codemirror_mode": {
    "name": "ipython",
    "version": 3
   },
   "file_extension": ".py",
   "mimetype": "text/x-python",
   "name": "python",
   "nbconvert_exporter": "python",
   "pygments_lexer": "ipython3",
   "version": "3.11.0"
  },
  "orig_nbformat": 4
 },
 "nbformat": 4,
 "nbformat_minor": 2
}
