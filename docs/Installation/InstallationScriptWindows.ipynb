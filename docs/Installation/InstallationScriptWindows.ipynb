{
 "cells": [
  {
   "cell_type": "markdown",
   "metadata": {},
   "source": [
    "# Installation of alphaMELTS for python source files"
   ]
  },
  {
   "cell_type": "markdown",
   "metadata": {},
   "source": [
    "## Step 1 - Install Python\n",
    "This may seem obvious, but the first step is to obtain Python3 (tested on V3.7). If you haven't used python before, we recommend installing it through anaconda.\n",
    "\n",
    "anaconda3 \"https://www.anaconda.com/products/individual\"."
   ]
  },
  {
   "cell_type": "markdown",
   "metadata": {},
   "source": [
    "## Step 2 - Pip install PetThermoTools and it's dependencies"
   ]
  },
  {
   "cell_type": "code",
   "execution_count": 2,
   "metadata": {},
   "outputs": [],
   "source": [
    "#!pip install PetThermoTools\n",
    "#!pip install --upgrade PetThermoTools"
   ]
  },
  {
   "cell_type": "code",
   "execution_count": 1,
   "metadata": {},
   "outputs": [
    {
     "data": {
      "text/plain": [
       "'0.2.16'"
      ]
     },
     "execution_count": 1,
     "metadata": {},
     "output_type": "execute_result"
    }
   ],
   "source": [
    "import PetThermoTools as ptt \n",
    "ptt.__version__"
   ]
  },
  {
   "cell_type": "code",
   "execution_count": 5,
   "metadata": {},
   "outputs": [
    {
     "name": "stdout",
     "output_type": "stream",
     "text": [
      "Download and Extraction of alphaMELTS for Python files is successful.\n"
     ]
    }
   ],
   "source": [
    "# to add files to current working directory - \n",
    "# You need to keep the r to make it a relative path. Your life might be easier with a separate MELTS installation folder on your computer\n",
    "# you need to make sure you use double slashes\n",
    "ptt.install_alphaMELTS(chip=\"Windows\", file_location=r'C:\\\\Users\\\\penny\\\\Box\\\\Berkeley_new\\\\MELTS_Installation\\\\') ### <--- change chip if necessary. Options 'Apple', 'Windows', 'Intel4Mac', 'Linux'."
   ]
  },
  {
   "cell_type": "markdown",
   "metadata": {},
   "source": [
    "To check that the download and extract proceeded without issue run the code below. This should print a message with current alphaMELTS verions (2.3) if there are no issues."
   ]
  },
  {
   "cell_type": "code",
   "execution_count": 5,
   "metadata": {},
   "outputs": [
    {
     "data": {
      "text/plain": [
       "'2.3'"
      ]
     },
     "execution_count": 5,
     "metadata": {},
     "output_type": "execute_result"
    }
   ],
   "source": [
    "from meltsdynamic import MELTSdynamic\n",
    "MELTSdynamic.version"
   ]
  },
  {
   "cell_type": "code",
   "execution_count": 6,
   "metadata": {},
   "outputs": [
    {
     "name": "stdout",
     "output_type": "stream",
     "text": [
      "\n",
      "alphaMELTS for Python version 2.3.1beta (Aug  3 2024 10:53:51)\n",
      "Setting calculation mode to rhyolite-MELTS 1.0.2\n",
      "\n"
     ]
    },
    {
     "data": {
      "text/plain": [
       "'2.3.1beta (Aug  3 2024 10:53:51)'"
      ]
     },
     "execution_count": 6,
     "metadata": {},
     "output_type": "execute_result"
    }
   ],
   "source": [
    "meltstest = MELTSdynamic(1)\n",
    "meltstest.version"
   ]
  },
  {
   "cell_type": "markdown",
   "metadata": {},
   "source": [
    "# Remove alphaMELTS files from the Python path"
   ]
  },
  {
   "cell_type": "markdown",
   "metadata": {},
   "source": [
    "This might be necessary in cases where there is a new version of alphaMELTS for Python that you want to upgrade to. If this doesnt work, you may need to restart your kernel between the add and delete. "
   ]
  },
  {
   "cell_type": "code",
   "execution_count": 6,
   "metadata": {},
   "outputs": [],
   "source": [
    "# ptt.remove_alphaMELTS_path()\n",
    "#ptt.install_alphaMELTS(chip=\"Windows\", file_location=r'C:\\Users\\penny\\Box\\Berkeley_new\\MELTS_Installation') ### <--- change chip if necessary. Options 'Apple', 'Windows', 'Intel4Mac', 'Linux'."
   ]
  },
  {
   "cell_type": "code",
   "execution_count": null,
   "metadata": {},
   "outputs": [],
   "source": []
  }
 ],
 "metadata": {
  "kernelspec": {
   "display_name": "base",
   "language": "python",
   "name": "python3"
  },
  "language_info": {
   "codemirror_mode": {
    "name": "ipython",
    "version": 3
   },
   "file_extension": ".py",
   "mimetype": "text/x-python",
   "name": "python",
   "nbconvert_exporter": "python",
   "pygments_lexer": "ipython3",
   "version": "3.11.9"
  },
  "orig_nbformat": 4
 },
 "nbformat": 4,
 "nbformat_minor": 2
}
