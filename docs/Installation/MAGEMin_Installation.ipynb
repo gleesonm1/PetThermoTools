{
 "cells": [
  {
   "cell_type": "markdown",
   "metadata": {},
   "source": [
    "# Installing MAGEMin and running calculations through python"
   ]
  },
  {
   "cell_type": "markdown",
   "metadata": {},
   "source": [
    "First make sure you have a local installation of Julia on your computer. In some cases we've found that uninstalling and then reinstalling Julia can help if you are getting errors trying to run MAGEMin through PetThermoTools.\n",
    "\n",
    "To install Julia go to this webpage: \"https://julialang.org/downloads/#current_stable_release\" and download the .exe (Windows) or .dmg (MacOS) file depending on your operating system. You can also install Julia via the command line/terminal, but I've come across more issues when trying to link Python and Julia when Julia is installed via the terminal.\n",
    "\n",
    "Once Julia is installed open the Julia App and run the following code:\n",
    "\n",
    "using Pkg\n",
    "\n",
    "Pkg.add(\"PyCall\")\n",
    "\n",
    "Pkg.add(name=\"MAGEMin_C\", version=\"1.5.9\")\n",
    "\n",
    "Pkg.add(url=\"https://github.com/gleesonm1/MAGEMinCalc\")\n",
    "\n",
    "Once this has been done close and restart your Python environment and then run the code below:"
   ]
  },
  {
   "cell_type": "markdown",
   "metadata": {},
   "source": [
    "#### First install the pyMAGEMINcalc code - this connects PetThermoTools to MAGEMin"
   ]
  },
  {
   "cell_type": "code",
   "execution_count": null,
   "metadata": {},
   "outputs": [],
   "source": [
    "%pip install \"https://github.com/gleesonm1/pyMAGEMINcalc/archive/refs/tags/v0.0.8.zip\""
   ]
  },
  {
   "cell_type": "markdown",
   "metadata": {},
   "source": [
    "#### Then make sure pyjulia is installed in your python environment"
   ]
  },
  {
   "cell_type": "code",
   "execution_count": null,
   "metadata": {},
   "outputs": [],
   "source": [
    "%pip install julia"
   ]
  },
  {
   "cell_type": "markdown",
   "metadata": {},
   "source": [
    "#### Next update pyjulia to make sure it can find all the Julia packages your previously installed.  MacOS users will have to run all 4 lines every time you want to run MAGEMin calculations (i.e., every time you restart the kernel). Windows users only need to run the first 2 lines and only when you have updated packages etc. in Julia."
   ]
  },
  {
   "cell_type": "code",
   "execution_count": 7,
   "metadata": {},
   "outputs": [
    {
     "name": "stderr",
     "output_type": "stream",
     "text": [
      "[ Info: Julia version info\n"
     ]
    },
    {
     "name": "stdout",
     "output_type": "stream",
     "text": [
      "Julia Version 1.9.3\n",
      "Commit bed2cd540a1 (2023-08-24 14:43 UTC)\n",
      "Build Info:\n",
      "  Official https://julialang.org/ release\n",
      "Platform Info:\n",
      "  OS: macOS (arm64-apple-darwin22.4.0)\n",
      "  uname: Darwin 23.6.0 Darwin Kernel Version 23.6.0: Mon Jul 29 21:16:46 PDT 2024; root:xnu-10063.141.2~1/RELEASE_ARM64_T8112 arm64 arm\n",
      "  CPU: Apple M2: \n",
      "              speed         user         nice          sys         idle          irq\n",
      "       #1  2400 MHz     556369 s          0 s     325174 s    1881198 s          0 s\n",
      "       #2  2400 MHz     516926 s          0 s     297271 s    1950338 s          0 s\n",
      "       #3  2400 MHz     461870 s          0 s     262928 s    2042694 s          0 s\n",
      "       #4  2400 MHz     418521 s          0 s     233623 s    2118343 s          0 s\n",
      "       #5  2400 MHz     222946 s          0 s      88890 s    2468167 s          0 s\n",
      "       #6  2400 MHz     147739 s          0 s      48808 s    2585332 s          0 s\n",
      "       #7  2400 MHz      95050 s          0 s      27118 s    2660946 s          0 s\n",
      "       #8  2400 MHz      70881 s          0 s      18099 s    2695107 s          0 s\n",
      "  Memory: 16.0 GB (49.328125 MB free)\n",
      "  Uptime: 841328.0 sec\n",
      "  Load Avg:  2.904296875  2.8017578125  2.77783203125\n",
      "  WORD_SIZE: 64\n",
      "  LIBM: libopenlibm\n",
      "  LLVM: libLLVM-14.0.6 (ORCJIT, apple-m1)\n",
      "  Threads: 1 on 4 virtual cores\n",
      "Environment:\n",
      "  HOME = /Users/gleesonm\n",
      "  HOMEBREW_CELLAR = /opt/homebrew/Cellar\n",
      "  HOMEBREW_PREFIX = /opt/homebrew\n",
      "  HOMEBREW_REPOSITORY = /opt/homebrew\n",
      "  INFOPATH = /opt/homebrew/share/info:\n",
      "  PATH = /Users/gleesonm/anaconda3/bin:/Users/gleesonm/anaconda3/condabin:/opt/homebrew/bin:/opt/homebrew/sbin:/usr/local/bin:/System/Cryptexes/App/usr/bin:/usr/bin:/bin:/usr/sbin:/sbin:/var/run/com.apple.security.cryptexd/codex.system/bootstrap/usr/local/bin:/var/run/com.apple.security.cryptexd/codex.system/bootstrap/usr/bin:/var/run/com.apple.security.cryptexd/codex.system/bootstrap/usr/appleinternal/bin:/Library/TeX/texbin\n",
      "  VSCODE_CODE_CACHE_PATH = /Users/gleesonm/Library/Application Support/Code/CachedData/6c3e3dba23e8fadc360aed75ce363ba185c49794\n",
      "  XPC_FLAGS = 0x0\n",
      "  TERM = xterm-color\n"
     ]
    },
    {
     "name": "stderr",
     "output_type": "stream",
     "text": [
      "[ Info: Julia executable: /Applications/Julia-1.9.app/Contents/Resources/julia/bin/julia\n",
      "[ Info: Trying to import PyCall...\n",
      "┌ Info: PyCall is already installed and compatible with Python executable.\n",
      "│ \n",
      "│ PyCall:\n",
      "│     python: /Users/gleesonm/anaconda3/bin/python\n",
      "│     libpython: /Users/gleesonm/anaconda3/lib/libpython3.11.dylib\n",
      "│ Python:\n",
      "│     python: /Users/gleesonm/anaconda3/bin/python\n",
      "└     libpython: \n"
     ]
    }
   ],
   "source": [
    "### If using MacOS copy these 4 lines into every notebook where you are running MAGEMin calculations ###\n",
    "import julia\n",
    "julia.install()\n",
    "from julia.api import Julia ### COMMENT THIS LINE IF ON WINDOWS ###\n",
    "jl = Julia(compiled_modules=False) ### COMMENT THIS LINE IF ON WINDOWS ###"
   ]
  },
  {
   "cell_type": "markdown",
   "metadata": {},
   "source": [
    "#### Finally test the MAGEMIN/Julia installation, if everything has gone to plan an adiabatic decompression melting model should run below"
   ]
  },
  {
   "cell_type": "code",
   "execution_count": 1,
   "metadata": {},
   "outputs": [
    {
     "name": "stdout",
     "output_type": "stream",
     "text": [
      "Using libMAGEMin.dylib from MAGEMin_jll\n",
      "0.1301584141743144\n",
      "30.029.829.629.429.229.028.828.628.428.228.027.827.627.427.227.026.826.626.426.226.025.825.625.425.225.024.824.624.424.224.023.823.623.423.223.022.822.622.422.222.021.821.621.421.221.020.820.620.420.220.019.819.619.419.219.018.818.618.418.218.017.817.617.417.217.016.816.616.416.216.015.815.615.415.215.014.814.614.414.214.013.813.613.413.213.012.812.612.412.212.011.811.611.411.211.010.810.610.410.210.09.89.69.49.29.08.88.68.48.28.07.87.67.47.27.06.86.66.46.26.05.85.65.45.25.04.84.64.44.24.03.83.63.43.23.02.82.62.42.22.0"
     ]
    }
   ],
   "source": [
    "import PetThermoTools as ptt \n",
    "Melting = ptt.AdiabaticDecompressionMelting(Model=\"Holland\")"
   ]
  },
  {
   "cell_type": "code",
   "execution_count": 12,
   "metadata": {},
   "outputs": [
    {
     "data": {
      "text/plain": [
       "(40000.0, 0.0)"
      ]
     },
     "execution_count": 12,
     "metadata": {},
     "output_type": "execute_result"
    },
    {
     "data": {
      "image/png": "[encoded data removed]",
      "text/plain": [
       "<Figure size 640x480 with 1 Axes>"
      ]
     },
     "metadata": {},
     "output_type": "display_data"
    }
   ],
   "source": [
    "import matplotlib.pyplot as plt\n",
    "plt.plot(Melting['All']['SiO2_Liq'], Melting['All']['P_bar'], '-k')\n",
    "plt.xlabel('Melt SiO$_2$ (wt%)')\n",
    "plt.ylabel('Pressure (GPa)')\n",
    "plt.ylim([40000,0])"
   ]
  },
  {
   "cell_type": "code",
   "execution_count": null,
   "metadata": {},
   "outputs": [],
   "source": []
  }
 ],
 "metadata": {
  "kernelspec": {
   "display_name": "base",
   "language": "python",
   "name": "python3"
  },
  "language_info": {
   "codemirror_mode": {
    "name": "ipython",
    "version": 3
   },
   "file_extension": ".py",
   "mimetype": "text/x-python",
   "name": "python",
   "nbconvert_exporter": "python",
   "pygments_lexer": "ipython3",
   "version": "3.11.0"
  },
  "orig_nbformat": 4
 },
 "nbformat": 4,
 "nbformat_minor": 2
}
