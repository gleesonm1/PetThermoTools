{
 "cells": [
  {
   "cell_type": "code",
   "execution_count": null,
   "metadata": {},
   "outputs": [],
   "source": [
    "from juliacall import Main as jl\n",
    "\n",
    "# Uncomment the following if you get SSL or CA certificate errors:\n",
    "# jl.seval('ENV[\"JULIA_SSL_CA_ROOTS_PATH\"] = \"\"')\n",
    "\n",
    "jl.seval(\"\"\"\n",
    "import Pkg\n",
    "\n",
    "# Install or update MAGEMinCalc and MAGEMin_C\n",
    "Pkg.add(url=\"https://github.com/gleesonm1/MAGEMinCalc.git\", rev=\"v0.4.5\")\n",
    "Pkg.add(name=\"MAGEMin_C\", version=\"1.9.6\")\n",
    "\n",
    "# Clean up environment and precompile\n",
    "Pkg.resolve()\n",
    "Pkg.precompile()\n",
    "\"\"\")\n",
    "\n",
    "print(\"✅ MAGEMinCalc and MAGEMin_C successfully installed and up to date.\")\n"
   ]
  }
 ],
 "metadata": {
  "language_info": {
   "name": "python"
  },
  "orig_nbformat": 4
 },
 "nbformat": 4,
 "nbformat_minor": 2
}
