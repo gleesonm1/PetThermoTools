{
 "cells": [
  {
   "cell_type": "markdown",
   "metadata": {},
   "source": [
    "# Installation of alphaMELTS for python source files"
   ]
  },
  {
   "cell_type": "markdown",
   "metadata": {},
   "source": [
    "## Step 1 - Install Python\n",
    "This may seem obvious, but the first step is to obtain Python3 (tested on v3.8 through 3.11). If you haven't used python before, we recommend installing it through anaconda.\n",
    "\n",
    "anaconda3 \"https://www.anaconda.com/products/individual\"."
   ]
  },
  {
   "cell_type": "markdown",
   "metadata": {},
   "source": [
    "## Step 2 - Pip install PetThermoTools and it's dependencies"
   ]
  },
  {
   "cell_type": "code",
   "execution_count": null,
   "metadata": {},
   "outputs": [],
   "source": [
    "!pip install PetThermoTools\n",
    "#!pip install --upgrade PetThermoTools"
   ]
  },
  {
   "cell_type": "markdown",
   "metadata": {},
   "source": [
    "## Step 3 - Download alphaMELTS for Python files and add them to your Python path. \n",
    "**Read carefully, instructions might vary based on operating system**"
   ]
  },
  {
   "cell_type": "markdown",
   "metadata": {},
   "source": [
    "### If using MacOS with native M1 (or later) chip\n",
    "Before proceeding please you need to install GSL with Homebrew. \n",
    "- Open the terminal\n",
    "- Copy and past the install command from https://brew.sh into the terminal\n",
    "- Follow the installation instructions as they appear\n",
    "- Once it has finished type \"brew install gsl\"\n",
    "\n",
    "You may come across an error when trying to run PetThermoTools calculations that indicates the libgsl.28.dylib file cannot be found. If you've installed Homebrew and GSL and you are still getting this error message then try running 'brew update' and 'brew upgrade' in the terminal. If the issue still persists (it shouldn't) to can create a workaround by copying the following line into the terminal:\n",
    "\n",
    "ln -s /opt/homebrew/opt/gsl/lib/libgsl.27.dylib /opt/homebrew/opt/gsl/lib/libgsl.28.dylib \n",
    "\n",
    "Following this the calculations should run without issue!"
   ]
  },
  {
   "cell_type": "markdown",
   "metadata": {},
   "source": [
    "If after following all the steps here your calculations still don't work, or if you're running a Linux machine, please check through the full installation guide for alphaMELTS for Python here: https://github.com/magmasource/alphaMELTS/wiki/alphaMELTS-installation-and-testing#alphamelts-for-python\n",
    "\n",
    "If issues still persist then contact me so we can figure out what went wront and so that I can update these instructions!"
   ]
  },
  {
   "cell_type": "markdown",
   "metadata": {},
   "source": [
    "### Once GSL has been installed (or if you're using a Windows OS) you can continue onto the script below. This code will do a  few things:\n",
    "1. Locate the alphaMELTS for python source files from GitHub. **Change the 'chip' variable if not using Linux. Note there are 2 options for MacOs based on your chipset.**\n",
    "2. Download the .zip file containing the source files.\n",
    "3. Extract the files into a folder named 'alphamelts_py'\n",
    "4. Add this folder to your Python path."
   ]
  },
  {
   "cell_type": "code",
   "execution_count": 1,
   "metadata": {},
   "outputs": [],
   "source": [
    "import PetThermoTools as ptt \n",
    "ptt.__version__"
   ]
  },
  {
   "cell_type": "code",
   "execution_count": 2,
   "metadata": {},
   "outputs": [
    {
     "name": "stdout",
     "output_type": "stream",
     "text": [
      "Download and Extraction of alphaMELTS for Python files is successful.\n"
     ]
    }
   ],
   "source": [
    "# to add files to current working directory\n",
    "ptt.install_alphaMELTS(chip=\"Apple\") ### <--- change chip if necessary. Options 'Apple', 'Windows', 'Intel4Mac', 'Linux'.\n",
    "# to add files to folder of choice\n",
    "# ptt.install_alphaMELTS(chip=\"Apple\", file_location=\"/Users/gleesonm/Library/CloudStorage/GoogleDrive-matthew.gleeson.geo@gmail.com/My Drive/!!!Berkeley/2024/MELTS/\") # change the chip variable to \"Windows\", \"Linux\", or \"Intel4Mac\" depending on your OS an chip type."
   ]
  },
  {
   "cell_type": "markdown",
   "metadata": {},
   "source": [
    "To check that the download and extract proceeded without issue run the code below. This should print a message with current alphaMELTS verions (2.3) if there are no issues."
   ]
  },
  {
   "cell_type": "code",
   "execution_count": 3,
   "metadata": {},
   "outputs": [
    {
     "data": {
      "text/plain": [
       "'2.3'"
      ]
     },
     "execution_count": 3,
     "metadata": {},
     "output_type": "execute_result"
    }
   ],
   "source": [
    "from meltsdynamic import MELTSdynamic\n",
    "MELTSdynamic.version"
   ]
  },
  {
   "cell_type": "code",
   "execution_count": 4,
   "metadata": {},
   "outputs": [
    {
     "name": "stdout",
     "output_type": "stream",
     "text": [
      "\n",
      "alphaMELTS for Python version 2.3.1beta (Aug  3 2024 10:01:38)\n",
      "Setting calculation mode to rhyolite-MELTS 1.0.2\n",
      "\n"
     ]
    },
    {
     "data": {
      "text/plain": [
       "'2.3.1beta (Aug  3 2024 10:01:38)'"
      ]
     },
     "execution_count": 4,
     "metadata": {},
     "output_type": "execute_result"
    }
   ],
   "source": [
    "meltstest = MELTSdynamic(1)\n",
    "meltstest.version"
   ]
  },
  {
   "cell_type": "markdown",
   "metadata": {},
   "source": [
    "# Remove alphaMELTS files from the Python path"
   ]
  },
  {
   "cell_type": "markdown",
   "metadata": {},
   "source": [
    "This might be necessary in cases where there is a new version of alphaMELTS for Python that you want to upgrade to."
   ]
  },
  {
   "cell_type": "code",
   "execution_count": 6,
   "metadata": {},
   "outputs": [],
   "source": [
    "# ptt.remove_alphaMELTS_path()"
   ]
  },
  {
   "cell_type": "code",
   "execution_count": null,
   "metadata": {},
   "outputs": [],
   "source": []
  }
 ],
 "metadata": {
  "kernelspec": {
   "display_name": "base",
   "language": "python",
   "name": "python3"
  },
  "language_info": {
   "codemirror_mode": {
    "name": "ipython",
    "version": 3
   },
   "file_extension": ".py",
   "mimetype": "text/x-python",
   "name": "python",
   "nbconvert_exporter": "python",
   "pygments_lexer": "ipython3",
   "version": "3.11.0"
  },
  "orig_nbformat": 4
 },
 "nbformat": 4,
 "nbformat_minor": 2
}
