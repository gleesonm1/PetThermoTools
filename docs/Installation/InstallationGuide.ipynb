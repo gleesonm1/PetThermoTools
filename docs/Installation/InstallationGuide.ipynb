{
 "cells": [
  {
   "cell_type": "markdown",
   "metadata": {},
   "source": [
    "# Installation of alphaMELTS for python source files"
   ]
  },
  {
   "cell_type": "markdown",
   "metadata": {},
   "source": [
    "## Step 1 - Install Python\n",
    "This may seem obvious, but the first step is to obtain Python3 (tested on V3.7). If you haven't used python before, we recommend installing it through anaconda.\n",
    "\n",
    "anaconda3 \"https://www.anaconda.com/products/individual\"."
   ]
  },
  {
   "cell_type": "markdown",
   "metadata": {},
   "source": [
    "## Step 2 - Pip install PetThermoTools and it's dependencies"
   ]
  },
  {
   "cell_type": "code",
   "execution_count": null,
   "metadata": {},
   "outputs": [],
   "source": [
    "!pip install PetThermoTools\n",
    "#!pip install --upgrade PetThermoTools"
   ]
  },
  {
   "cell_type": "markdown",
   "metadata": {},
   "source": [
    "## Step 3 - Download alphaMELTS for Python files and add them to your Python path. \n",
    "**Read carefully, instructions might vary based on operating system**"
   ]
  },
  {
   "cell_type": "markdown",
   "metadata": {},
   "source": [
    "### If using MacOS with native M1 (or later) chip\n",
    "Before proceeding please you need to install GSL with Homebrew. \n",
    "- Open the terminal\n",
    "- Copy and past the install command from https://brew.sh into the terminal\n",
    "- Follow the installation instructions as they appear\n",
    "- Once it has finished type \"brew install gsl\"\n",
    "\n",
    "You may come across an error when trying to run PetThermoTools calculations that indicates the libgsl.28.dylib file cannot be found. If you've installed Homebrew and GSL and you are still getting this error message then try running 'brew update' and 'brew upgrade' in the terminal. If the issue still persists (it shouldn't) to can create a workaround by copying the following line into the terminal:\n",
    "\n",
    "ln -s /opt/homebrew/opt/gsl/lib/libgsl.27.dylib /opt/homebrew/opt/gsl/lib/libgsl.28.dylib \n",
    "\n",
    "Following this the calculations should run without issue!"
   ]
  },
  {
   "cell_type": "markdown",
   "metadata": {},
   "source": [
    "If after following all the steps here your calculations still don't work, or if you're running a Linux machine, please check through the full installation guide for alphaMELTS for Python here: https://github.com/magmasource/alphaMELTS/wiki/alphaMELTS-installation-and-testing#alphamelts-for-python\n",
    "\n",
    "If issues still persist then contact me so we can figure out what went wront and so that I can update these instructions!"
   ]
  },
  {
   "cell_type": "markdown",
   "metadata": {},
   "source": [
    "Once GSL has been installed (or if you're using a Windows OS) you can continue onto the script below. This code will do a  few things:\n",
    "1. Locate the alphaMELTS for python source files from GitHub. **Change the 'chip' variable if not using Linux. Note there are 2 options for MacOs based on your chipset.**\n",
    "2. Download the .zip file containing the source files.\n",
    "3. Extract the files into a folder named 'alphamelts_py'\n",
    "4. Add this folder to your Python path."
   ]
  },
  {
   "cell_type": "code",
   "execution_count": 1,
   "metadata": {},
   "outputs": [],
   "source": [
    "import urllib.request\n",
    "import zipfile\n",
    "import os\n",
    "import sys\n",
    "import site\n",
    "import sysconfig\n",
    "\n",
    "# URL of the file\n",
    "chip = \"Apple\"  # Change this variable if using different OS or chipset.\n",
    "if chip == \"Apple\":\n",
    "    url = \"https://github.com/magmasource/alphaMELTS/releases/download/v2.3.1/alphamelts-py-2.3.1-macos-arm64.zip\"\n",
    "elif chip == \"Intel4Mac\":\n",
    "    url = \"https://github.com/magmasource/alphaMELTS/releases/download/v2.3.1/alphamelts-py-2.3.1-macos-x86_64.zip\"\n",
    "elif chip == \"Windows\":\n",
    "    url = \"https://github.com/magmasource/alphaMELTS/releases/download/v2.3.1/alphamelts-py-2.3.1-win64.zip\"\n",
    "else:\n",
    "    url = \"https://github.com/magmasource/alphaMELTS/releases/download/v2.3.1/alphamelts-py-2.3.1-linux.zip\"\n",
    "\n",
    "# Path to save the file\n",
    "if chip == \"Apple\":\n",
    "    zip_path = \"alphamelts-py-2.3.1-macos-arm64.zip\"\n",
    "elif chip == \"Intel4Mac\":\n",
    "    zip_path = \"alphamelts-py-2.3.1-macos-x86_64.zip\"\n",
    "elif chip == \"Windows\":\n",
    "    zip_path = \"alphamelts-py-2.3.1-win64.zip\"\n",
    "else:\n",
    "    zip_path = \"alphamelts-py-2.3.1-linux.zip\"\n",
    "\n",
    "# Download the file with error handling\n",
    "try:\n",
    "    urllib.request.urlretrieve(url, zip_path)\n",
    "except Exception as e:\n",
    "    print(f\"Error downloading file: {e}\")\n",
    "    sys.exit(1)\n",
    "\n",
    "# Path to extract the contents\n",
    "extract_path = \"alphamelts_py\"\n",
    "\n",
    "# Extract the zip file with error handling\n",
    "try:\n",
    "    with zipfile.ZipFile(zip_path, 'r') as zip_ref:\n",
    "        zip_ref.extractall(extract_path)\n",
    "except zipfile.BadZipFile as e:\n",
    "    print(f\"Error extracting zip file: {e}\")\n",
    "    sys.exit(1)\n",
    "\n",
    "# Add the extracted directory to the Python path\n",
    "sys.path.append(os.path.join(extract_path, zip_path[:-4]))"
   ]
  },
  {
   "cell_type": "markdown",
   "metadata": {},
   "source": [
    "To check that the download and extract proceeded without issue run the code below. This should print a message with current alphaMELTS verions (2.3) if there are no issues."
   ]
  },
  {
   "cell_type": "code",
   "execution_count": 2,
   "metadata": {},
   "outputs": [
    {
     "data": {
      "text/plain": [
       "'2.3'"
      ]
     },
     "execution_count": 2,
     "metadata": {},
     "output_type": "execute_result"
    }
   ],
   "source": [
    "from meltsdynamic import MELTSdynamic\n",
    "MELTSdynamic.version"
   ]
  },
  {
   "cell_type": "code",
   "execution_count": 5,
   "metadata": {},
   "outputs": [
    {
     "name": "stdout",
     "output_type": "stream",
     "text": [
      "\n",
      "alphaMELTS for Python version 2.3.1beta (Aug  3 2024 10:01:38)\n",
      "Setting calculation mode to rhyolite-MELTS 1.0.2\n",
      "\n"
     ]
    },
    {
     "data": {
      "text/plain": [
       "'2.3.1beta (Aug  3 2024 10:01:38)'"
      ]
     },
     "execution_count": 5,
     "metadata": {},
     "output_type": "execute_result"
    }
   ],
   "source": [
    "meltstest = MELTSdynamic(1)\n",
    "meltstest.version"
   ]
  },
  {
   "cell_type": "markdown",
   "metadata": {},
   "source": [
    "### Optional - Permanently add alphaMELTS for Python files to your Python path\n",
    "If you want to add these files to your Python path permanently (so that you don't have to run the sys.path.append line every time you open a new file or restart the kernal) use the two code cells below. The first defines the path to add and specifies a new .pth file to be created. The second cell writes this new file."
   ]
  },
  {
   "cell_type": "code",
   "execution_count": 4,
   "metadata": {},
   "outputs": [],
   "source": [
    "# get current working directory\n",
    "cwd = os.getcwd()\n",
    "\n",
    "# Get site-packages path\n",
    "site_packages_path = sysconfig.get_paths()[\"purelib\"]\n",
    "\n",
    "# Define pth file path and custom path\n",
    "pth_file_path = os.path.join(site_packages_path, \"my_MELTS_path.pth\")\n",
    "custom_path = os.path.join(cwd, extract_path, zip_path[:-4])\n",
    "\n",
    "# Normalize paths before writing\n",
    "custom_path = os.path.normpath(custom_path)\n",
    "\n",
    "# Write to the .pth file with error handling\n",
    "try:\n",
    "    with open(pth_file_path, \"w\") as f:\n",
    "        f.write(custom_path)\n",
    "except Exception as e:\n",
    "    print(f\"Error writing to .pth file: {e}\")\n",
    "    sys.exit(1)"
   ]
  },
  {
   "cell_type": "markdown",
   "metadata": {},
   "source": [
    "### Remove alphaMELTS files from Python path\n",
    "This might be necessary if you're downloaded an updated version of the code and want to update which files are being used. Always check the MELTSdynamic.version variable to see which version of the code is in your path. "
   ]
  },
  {
   "cell_type": "markdown",
   "metadata": {},
   "source": [
    "First we can list the site-package directories to see if the .pth file we created is there:"
   ]
  },
  {
   "cell_type": "code",
   "execution_count": 2,
   "metadata": {},
   "outputs": [
    {
     "name": "stdout",
     "output_type": "stream",
     "text": [
      "Checking /Users/gleesonm/anaconda3/lib/python3.11/site-packages for .pth files\n",
      "Found .pth file: sphinxcontrib_jsmath-1.0.1-py3.9-nspkg.pth\n",
      "Found .pth file: ruamel.yaml-0.17.21-py3.11-nspkg.pth\n",
      "Found .pth file: zope.interface-5.4.0-py3.11-nspkg.pth\n",
      "Found .pth file: sphinxcontrib_serializinghtml-1.1.5-py3.9-nspkg.pth\n",
      "Found .pth file: easy-install.pth\n",
      "Found .pth file: sphinxcontrib_applehelp-1.0.2-py3.9-nspkg.pth\n",
      "Found .pth file: my_MELTS_path.pth\n",
      "Found .pth file: aeosa.pth\n",
      "Found .pth file: distutils-precedence.pth\n",
      "Found .pth file: sphinxcontrib_devhelp-1.0.2-py3.9-nspkg.pth\n",
      "Found .pth file: sphinxcontrib_htmlhelp-2.0.0-py3.9-nspkg.pth\n",
      "Found .pth file: sphinxcontrib_qthelp-1.0.3-py3.9-nspkg.pth\n"
     ]
    }
   ],
   "source": [
    "site_packages_dirs = site.getsitepackages()\n",
    "\n",
    "for dir in site_packages_dirs:\n",
    "    print(f\"Checking {dir} for .pth files\")\n",
    "    for file in os.listdir(dir):\n",
    "        if file.endswith(\".pth\"):\n",
    "            print(f\"Found .pth file: {file}\")"
   ]
  },
  {
   "cell_type": "markdown",
   "metadata": {},
   "source": [
    "To remove the file we can then use the following code:"
   ]
  },
  {
   "cell_type": "code",
   "execution_count": 3,
   "metadata": {},
   "outputs": [
    {
     "name": "stdout",
     "output_type": "stream",
     "text": [
      "Removed /Users/gleesonm/anaconda3/lib/python3.11/site-packages/my_MELTS_path.pth\n"
     ]
    }
   ],
   "source": [
    "# Path to your site-packages directory (adjust as needed)\n",
    "site_packages_path = site.getsitepackages()[0]\n",
    "\n",
    "# Path to the .pth file\n",
    "pth_file_path = os.path.join(site_packages_path, \"my_MELTS_path.pth\")\n",
    "\n",
    "# Remove the .pth file\n",
    "if os.path.exists(pth_file_path):\n",
    "    os.remove(pth_file_path)\n",
    "    print(f\"Removed {pth_file_path}\")\n",
    "else:\n",
    "    print(f\".pth file not found: {pth_file_path}\")\n"
   ]
  },
  {
   "cell_type": "code",
   "execution_count": null,
   "metadata": {},
   "outputs": [],
   "source": []
  }
 ],
 "metadata": {
  "kernelspec": {
   "display_name": "base",
   "language": "python",
   "name": "python3"
  },
  "language_info": {
   "codemirror_mode": {
    "name": "ipython",
    "version": 3
   },
   "file_extension": ".py",
   "mimetype": "text/x-python",
   "name": "python",
   "nbconvert_exporter": "python",
   "pygments_lexer": "ipython3",
   "version": "3.11.0"
  },
  "orig_nbformat": 4
 },
 "nbformat": 4,
 "nbformat_minor": 2
}
