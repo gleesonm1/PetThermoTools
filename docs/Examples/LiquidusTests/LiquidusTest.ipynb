{
 "cells": [
  {
   "cell_type": "markdown",
   "id": "3e3260d9",
   "metadata": {},
   "source": [
    "## Using MELTS to find the liquidus temperature"
   ]
  },
  {
   "cell_type": "markdown",
   "id": "ce0ce115",
   "metadata": {},
   "source": [
    "- Finding the liquidus temperature of a magma is one of the first steps of most crystallisation and/or decompression calculations.\n",
    "- Usually this command is used as part of the isobaric_crystallisation and isothermal_decompression functions (amongst others).\n",
    "- However, it's still useful to consider how the liquidus function works independently, and examine how well MELTS performs as a Thermometer in igneous systems.\n",
    "\n",
    "**Before any calculations can be run** users need to download the alphaMELTS for MATLAB files (https://magmasource.caltech.edu/gitlist/MELTS_Matlab.git/) and store them locally on their computer. These files then need to be added to the Python path by using the $sys.path.append()$ command below.\n",
    "\n",
    "Data used in the calculations below can be downloaded from here: https://github.com/gleesonm1/pyMELTScalc/blob/master/docs/Examples/LiquidusTests/LEPR_Wet_Stitched_Sept2022.xlsx"
   ]
  },
  {
   "cell_type": "code",
   "execution_count": 1,
   "id": "3de6fb57",
   "metadata": {},
   "outputs": [],
   "source": [
    "import numpy as np\n",
    "import pandas as pd\n",
    "import matplotlib.pyplot as plt\n",
    "import pyMELTScalc as M\n",
    "\n",
    "import sys\n",
    "sys.path.append(r'MELTS')"
   ]
  },
  {
   "cell_type": "markdown",
   "id": "04a64d78",
   "metadata": {},
   "source": [
    "To test the ability of MELTS to act as a liquid-only thermometer we need some experiments to test them against. Here, we use a database of experimental data compiled by P. Wieser and isolate all the melt compositions in the $Liq$ sheet. "
   ]
  },
  {
   "cell_type": "code",
   "execution_count": 2,
   "id": "936c6ed6",
   "metadata": {},
   "outputs": [],
   "source": [
    "Data = pd.read_excel('LEPR_Wet_stitched_Sept2022.xlsx', sheet_name = 'Liq')"
   ]
  },
  {
   "cell_type": "markdown",
   "id": "8e67b0bb",
   "metadata": {},
   "source": [
    "The entire experimental dataset contains over 2000 samples. Therefore, to reduce the computational time in this example spreadsheet I isolate 200 experiments (randomly selected) to be used in the following calculations. A new DataFrame is constructed using only these experiments."
   ]
  },
  {
   "cell_type": "code",
   "execution_count": 3,
   "id": "108c082e",
   "metadata": {},
   "outputs": [],
   "source": [
    "# randomly select 200 rows from the original DataFrame\n",
    "Ch = np.random.choice(range(len(Data['SiO2_Liq'])), 200, replace=False)\n",
    "Test = Data.copy()\n",
    "Test = Test.loc[Ch]\n",
    "\n",
    "# reset the index in the new DataFrame\n",
    "Test = Test.reset_index(drop = True)"
   ]
  },
  {
   "cell_type": "markdown",
   "id": "3d6416f3",
   "metadata": {},
   "source": [
    "Now that we have this 'Test' DataFrame we can use the findLiq_multi function to identify the liquidus temperature of each sample. Ideally, we'd have information about either the Fe redox state or an estimate of the oxygen fugacity of each melt. Unfortunately, we don't have this information for every sample so instead we will define a constant Fe$^{3+}$/Fe$_{tot}$ ratio for all samples:"
   ]
  },
  {
   "cell_type": "code",
   "execution_count": 4,
   "id": "05e04659",
   "metadata": {},
   "outputs": [
    {
     "data": {
      "application/vnd.jupyter.widget-view+json": {
       "model_id": "2ace9f3ddea34955853b3e316f126fe1",
       "version_major": 2,
       "version_minor": 0
      },
      "text/plain": [
       "  0%|          | 0/25 [00:00<?, ?it/s]"
      ]
     },
     "metadata": {},
     "output_type": "display_data"
    }
   ],
   "source": [
    "Results_pMELTS = M.findLiq_multi(Model = \"pMELTS\", # which MELTS model to use - \"pMELTS\", \"MELTSv1.0.2\", \"MELTSv1.1.0\", or \"MELTSv1.2.0\"\n",
    "                        bulk = Test, # initial composition(s) wither a dictionary (if one composition) or a DataFrame (multiple compositions)\n",
    "                        T_initial_C = Test['T_K'].values-200, # Initial guess for the liquidus temperature (optional)\n",
    "                        P_bar = Test['P_kbar'].values*1000, # Pressure (in bars) of the calculation\n",
    "                        Fe3Fet_Liq = 0.15) # initial Fe3Fet_Liq ratio of the sample(s)"
   ]
  },
  {
   "cell_type": "markdown",
   "id": "f421b5d3",
   "metadata": {},
   "source": [
    "Examining the results demonstrates the information that is recorded by this code. Notably, the findLiq_multi code will return the composition of the melt at the liquidus (in wt% hydrous normalized), whether or not the melt is fluid saturated at the liquidus, the liquidus phase and (critically) the liquidus temperature (in degrees Celsius)."
   ]
  },
  {
   "cell_type": "code",
   "execution_count": 5,
   "id": "c2abcfcd-b9ce-4cd6-b70c-e89dbd8eb92c",
   "metadata": {},
   "outputs": [
    {
     "data": {
      "text/html": [
       "<div>\n",
       "<style scoped>\n",
       "    .dataframe tbody tr th:only-of-type {\n",
       "        vertical-align: middle;\n",
       "    }\n",
       "\n",
       "    .dataframe tbody tr th {\n",
       "        vertical-align: top;\n",
       "    }\n",
       "\n",
       "    .dataframe thead th {\n",
       "        text-align: right;\n",
       "    }\n",
       "</style>\n",
       "<table border=\"1\" class=\"dataframe\">\n",
       "  <thead>\n",
       "    <tr style=\"text-align: right;\">\n",
       "      <th></th>\n",
       "      <th>T_Liq</th>\n",
       "      <th>liquidus_phase</th>\n",
       "      <th>fluid_saturated</th>\n",
       "      <th>SiO2_Liq</th>\n",
       "      <th>TiO2_Liq</th>\n",
       "      <th>Al2O3_Liq</th>\n",
       "      <th>Fe2O3</th>\n",
       "      <th>Cr2O3</th>\n",
       "      <th>FeO</th>\n",
       "      <th>MnO_Liq</th>\n",
       "      <th>MgO_Liq</th>\n",
       "      <th>CaO_Liq</th>\n",
       "      <th>Na2O_Liq</th>\n",
       "      <th>K2O_Liq</th>\n",
       "      <th>P2O5_Liq</th>\n",
       "      <th>H2O_Liq</th>\n",
       "      <th>CO2_Liq</th>\n",
       "      <th>FeOt_Liq</th>\n",
       "      <th>Fe3Fet_Liq</th>\n",
       "    </tr>\n",
       "  </thead>\n",
       "  <tbody>\n",
       "    <tr>\n",
       "      <th>0</th>\n",
       "      <td>1157.35</td>\n",
       "      <td>olivine1</td>\n",
       "      <td>No</td>\n",
       "      <td>52.997792</td>\n",
       "      <td>0.670484</td>\n",
       "      <td>16.555032</td>\n",
       "      <td>1.279656</td>\n",
       "      <td>0.0</td>\n",
       "      <td>6.528835</td>\n",
       "      <td>0.108461</td>\n",
       "      <td>6.438616</td>\n",
       "      <td>10.106556</td>\n",
       "      <td>3.766541</td>\n",
       "      <td>0.069020</td>\n",
       "      <td>0.000000</td>\n",
       "      <td>1.479008</td>\n",
       "      <td>0.0</td>\n",
       "      <td>7.680261</td>\n",
       "      <td>0.14992</td>\n",
       "    </tr>\n",
       "    <tr>\n",
       "      <th>1</th>\n",
       "      <td>980.75</td>\n",
       "      <td>clinopyroxene1</td>\n",
       "      <td>No</td>\n",
       "      <td>61.938726</td>\n",
       "      <td>0.539009</td>\n",
       "      <td>15.981137</td>\n",
       "      <td>0.531496</td>\n",
       "      <td>0.0</td>\n",
       "      <td>2.711704</td>\n",
       "      <td>0.113476</td>\n",
       "      <td>2.108754</td>\n",
       "      <td>4.822710</td>\n",
       "      <td>4.321526</td>\n",
       "      <td>1.219862</td>\n",
       "      <td>0.151301</td>\n",
       "      <td>5.560301</td>\n",
       "      <td>0.0</td>\n",
       "      <td>3.189940</td>\n",
       "      <td>0.14992</td>\n",
       "    </tr>\n",
       "    <tr>\n",
       "      <th>2</th>\n",
       "      <td>885.75</td>\n",
       "      <td>biotite1</td>\n",
       "      <td>No</td>\n",
       "      <td>67.007141</td>\n",
       "      <td>0.343422</td>\n",
       "      <td>13.375135</td>\n",
       "      <td>0.386015</td>\n",
       "      <td>0.0</td>\n",
       "      <td>1.969458</td>\n",
       "      <td>0.088343</td>\n",
       "      <td>0.509983</td>\n",
       "      <td>2.072056</td>\n",
       "      <td>4.489019</td>\n",
       "      <td>2.866449</td>\n",
       "      <td>0.000000</td>\n",
       "      <td>6.892978</td>\n",
       "      <td>0.0</td>\n",
       "      <td>2.316791</td>\n",
       "      <td>0.14992</td>\n",
       "    </tr>\n",
       "    <tr>\n",
       "      <th>3</th>\n",
       "      <td>902.75</td>\n",
       "      <td>plagioclase1</td>\n",
       "      <td>No</td>\n",
       "      <td>70.409287</td>\n",
       "      <td>0.292452</td>\n",
       "      <td>13.346339</td>\n",
       "      <td>0.282837</td>\n",
       "      <td>0.0</td>\n",
       "      <td>1.443042</td>\n",
       "      <td>0.155660</td>\n",
       "      <td>0.176578</td>\n",
       "      <td>0.859103</td>\n",
       "      <td>4.320344</td>\n",
       "      <td>4.310279</td>\n",
       "      <td>0.000000</td>\n",
       "      <td>4.404078</td>\n",
       "      <td>0.0</td>\n",
       "      <td>1.697537</td>\n",
       "      <td>0.14992</td>\n",
       "    </tr>\n",
       "    <tr>\n",
       "      <th>4</th>\n",
       "      <td>1338.55</td>\n",
       "      <td>olivine1</td>\n",
       "      <td>No</td>\n",
       "      <td>46.724667</td>\n",
       "      <td>0.724176</td>\n",
       "      <td>14.197934</td>\n",
       "      <td>1.457974</td>\n",
       "      <td>0.0</td>\n",
       "      <td>7.438616</td>\n",
       "      <td>0.163195</td>\n",
       "      <td>14.259132</td>\n",
       "      <td>10.781046</td>\n",
       "      <td>2.019534</td>\n",
       "      <td>0.142795</td>\n",
       "      <td>0.000000</td>\n",
       "      <td>2.090931</td>\n",
       "      <td>0.0</td>\n",
       "      <td>8.750491</td>\n",
       "      <td>0.14992</td>\n",
       "    </tr>\n",
       "  </tbody>\n",
       "</table>\n",
       "</div>"
      ],
      "text/plain": [
       "     T_Liq  liquidus_phase fluid_saturated   SiO2_Liq  TiO2_Liq  Al2O3_Liq   \n",
       "0  1157.35        olivine1              No  52.997792  0.670484  16.555032  \\\n",
       "1   980.75  clinopyroxene1              No  61.938726  0.539009  15.981137   \n",
       "2   885.75        biotite1              No  67.007141  0.343422  13.375135   \n",
       "3   902.75    plagioclase1              No  70.409287  0.292452  13.346339   \n",
       "4  1338.55        olivine1              No  46.724667  0.724176  14.197934   \n",
       "\n",
       "      Fe2O3  Cr2O3       FeO   MnO_Liq    MgO_Liq    CaO_Liq  Na2O_Liq   \n",
       "0  1.279656    0.0  6.528835  0.108461   6.438616  10.106556  3.766541  \\\n",
       "1  0.531496    0.0  2.711704  0.113476   2.108754   4.822710  4.321526   \n",
       "2  0.386015    0.0  1.969458  0.088343   0.509983   2.072056  4.489019   \n",
       "3  0.282837    0.0  1.443042  0.155660   0.176578   0.859103  4.320344   \n",
       "4  1.457974    0.0  7.438616  0.163195  14.259132  10.781046  2.019534   \n",
       "\n",
       "    K2O_Liq  P2O5_Liq   H2O_Liq  CO2_Liq  FeOt_Liq  Fe3Fet_Liq  \n",
       "0  0.069020  0.000000  1.479008      0.0  7.680261     0.14992  \n",
       "1  1.219862  0.151301  5.560301      0.0  3.189940     0.14992  \n",
       "2  2.866449  0.000000  6.892978      0.0  2.316791     0.14992  \n",
       "3  4.310279  0.000000  4.404078      0.0  1.697537     0.14992  \n",
       "4  0.142795  0.000000  2.090931      0.0  8.750491     0.14992  "
      ]
     },
     "execution_count": 5,
     "metadata": {},
     "output_type": "execute_result"
    }
   ],
   "source": [
    "Results_pMELTS.head()"
   ]
  },
  {
   "cell_type": "markdown",
   "id": "6e8437f0",
   "metadata": {},
   "source": [
    "In this initial calculation, the liquidus temperature is calculated using the pMELTS model, which was designed for use on mantle-like bulk compositions at 1 - 3 GPa (Ghiorso et al. 2002). For the majorty of samples in this database it may be more appropriate to use the rhyoliteMELTSv1.0.2 (Gualda et al. 2012) or rhyoliteMELTSv1.2.0 (Ghiorso and Gualda, 2015) models. We can rerun the same calculations but change the Model selected:"
   ]
  },
  {
   "cell_type": "code",
   "execution_count": 6,
   "id": "eca8b27a",
   "metadata": {},
   "outputs": [
    {
     "data": {
      "application/vnd.jupyter.widget-view+json": {
       "model_id": "50b05aa432e1416daaaa3d87d6853a39",
       "version_major": 2,
       "version_minor": 0
      },
      "text/plain": [
       "  0%|          | 0/25 [00:00<?, ?it/s]"
      ]
     },
     "metadata": {},
     "output_type": "display_data"
    }
   ],
   "source": [
    "Results_MELTSv102 = M.findLiq_multi(Model = \"MELTSv1.0.2\", # which MELTS model to use - \"pMELTS\", \"MELTSv1.0.2\", \"MELTSv1.1.0\", or \"MELTSv1.2.0\"\n",
    "                        bulk = Test, # initial composition(s) wither a dictionary (if one composition) or a DataFrame (multiple compositions)\n",
    "                        T_initial_C = Test['T_K'].values-200, # Initial guess for the liquidus temperature (optional)\n",
    "                        P_bar = Test['P_kbar'].values*1000, # Pressure (in bars) of the calculation\n",
    "                        Fe3Fet_Liq = 0.15) # initial Fe3Fet_Liq ratio of the sample(s)"
   ]
  },
  {
   "cell_type": "code",
   "execution_count": 7,
   "id": "c3d0de3f",
   "metadata": {},
   "outputs": [
    {
     "data": {
      "application/vnd.jupyter.widget-view+json": {
       "model_id": "a9bfdf3cebfd41778558bee08e98a4a4",
       "version_major": 2,
       "version_minor": 0
      },
      "text/plain": [
       "  0%|          | 0/25 [00:00<?, ?it/s]"
      ]
     },
     "metadata": {},
     "output_type": "display_data"
    }
   ],
   "source": [
    "Results_MELTSv120 = M.findLiq_multi(Model = \"MELTSv1.2.0\", # which MELTS model to use - \"pMELTS\", \"MELTSv1.0.2\", \"MELTSv1.1.0\", or \"MELTSv1.2.0\"\n",
    "                        bulk = Test, # initial composition(s) wither a dictionary (if one composition) or a DataFrame (multiple compositions)\n",
    "                        T_initial_C = Test['T_K'].values-200, # Initial guess for the liquidus temperature (optional)\n",
    "                        P_bar = Test['P_kbar'].values*1000, # Pressure (in bars) of the calculation\n",
    "                        Fe3Fet_Liq = 0.15) # initial Fe3Fet_Liq ratio of the sample(s)"
   ]
  },
  {
   "cell_type": "markdown",
   "id": "3c5a9736",
   "metadata": {},
   "source": [
    "Now that we have the results of this analysis, we can compare the results of these calculations to the true experimental temperature. Experiments that have no reported water typically show a very poor match to the experimental temperature, and are thus excluded from the following comparison. Additionally, we exlude any calculations that did not return a result (Results['T_C_liq'] = 0).\n",
    "\n",
    "Overall, MELTS does an acceptable job in reproducing the experimental temperatures, although it is notable that the liquidus temperature is typically overpredicted by around 50 $^{o}$C."
   ]
  },
  {
   "cell_type": "code",
   "execution_count": 8,
   "id": "eea88d76",
   "metadata": {},
   "outputs": [
    {
     "data": {
      "text/plain": [
       "Text(750, 1460, 'rhyoliteMELTSv1.2.0')"
      ]
     },
     "execution_count": 8,
     "metadata": {},
     "output_type": "execute_result"
    },
    {
     "name": "stderr",
     "output_type": "stream",
     "text": [
      "findfont: Font family ['cmsy10'] not found. Falling back to DejaVu Sans.\n",
      "findfont: Font family ['cmr10'] not found. Falling back to DejaVu Sans.\n",
      "findfont: Font family ['cmtt10'] not found. Falling back to DejaVu Sans.\n",
      "findfont: Font family ['cmmi10'] not found. Falling back to DejaVu Sans.\n",
      "findfont: Font family ['cmb10'] not found. Falling back to DejaVu Sans.\n",
      "findfont: Font family ['cmss10'] not found. Falling back to DejaVu Sans.\n",
      "findfont: Font family ['cmex10'] not found. Falling back to DejaVu Sans.\n"
     ]
    },
    {
     "data": {
      "image/png": "[encoded data removed]",
      "text/plain": [
       "<Figure size 1200x400 with 3 Axes>"
      ]
     },
     "metadata": {},
     "output_type": "display_data"
    }
   ],
   "source": [
    "f, a = plt.subplots(1,3, figsize = (12,4), sharex = True, sharey = True)\n",
    "\n",
    "a[0].plot(Test['T_K'][(Test['H2O_Liq'] > 0) & (Results_pMELTS['T_Liq'] > 0)]-273.15,\n",
    "       Results_pMELTS['T_Liq'][(Test['H2O_Liq'] > 0) & (Results_pMELTS['T_Liq'] > 0)], \n",
    "        'ok')\n",
    "a[0].plot([800,1400],[800,1400], 'r-')\n",
    "a[0].set_ylabel('Estimated Temperature ($^{o}$C)')\n",
    "a[0].set_xlabel('Experimental Temperature ($^{o}$C)')\n",
    "a[0].text(750, 1460, 'pMELTS')\n",
    "\n",
    "\n",
    "a[1].plot(Test['T_K'][(Test['H2O_Liq'] > 0) & (Results_MELTSv102['T_Liq'] > 0)]-273.15,\n",
    "       Results_MELTSv102['T_Liq'][(Test['H2O_Liq'] > 0) & (Results_MELTSv102['T_Liq'] > 0)], \n",
    "        'ok')\n",
    "a[1].plot([800,1400],[800,1400], 'r-')\n",
    "a[1].set_xlabel('Experimental Temperature ($^{o}$C)')\n",
    "a[1].text(750, 1460, 'rhyoliteMELTSv1.0.2')\n",
    "\n",
    "\n",
    "a[2].plot(Test['T_K'][(Test['H2O_Liq'] > 0) & (Results_MELTSv120['T_Liq'] > 0)]-273.15,\n",
    "       Results_MELTSv120['T_Liq'][(Test['H2O_Liq'] > 0) & (Results_MELTSv120['T_Liq'] > 0)], \n",
    "        'ok')\n",
    "a[2].plot([800,1400],[800,1400], 'r-')\n",
    "a[2].set_xlabel('Experimental Temperature ($^{o}$C)')\n",
    "a[2].text(750, 1460, 'rhyoliteMELTSv1.2.0')"
   ]
  },
  {
   "cell_type": "code",
   "execution_count": null,
   "id": "c2f935b0",
   "metadata": {},
   "outputs": [],
   "source": []
  }
 ],
 "metadata": {
  "kernelspec": {
   "display_name": "Python 3 (ipykernel)",
   "language": "python",
   "name": "python3"
  },
  "language_info": {
   "codemirror_mode": {
    "name": "ipython",
    "version": 3
   },
   "file_extension": ".py",
   "mimetype": "text/x-python",
   "name": "python",
   "nbconvert_exporter": "python",
   "pygments_lexer": "ipython3",
   "version": "3.9.13"
  }
 },
 "nbformat": 4,
 "nbformat_minor": 5
}
