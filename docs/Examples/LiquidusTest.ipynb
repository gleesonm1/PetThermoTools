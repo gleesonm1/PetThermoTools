{
 "cells": [
  {
   "attachments": {},
   "cell_type": "markdown",
   "id": "3e3260d9",
   "metadata": {},
   "source": [
    "## Using MELTS and MAGEMin as liquid-only thermometers (finding liquidus temperatures)"
   ]
  },
  {
   "attachments": {},
   "cell_type": "markdown",
   "id": "ce0ce115",
   "metadata": {},
   "source": [
    "Prior to starting any calculations it is necessary to load the relevant packages. As most of the work is done in the pyMELTScalc functions, only a few packages need to be imported into your notebook. These include $numpy$ and $pandas$ (for data processing), $matplotlib.pyplot$ for the visualisation of results, and $pyMELTScalc$ itself. In addition, it is necessary to append the path to the alphaMELTS for MATLAB/Python packages (available via GitLab), which are done using $sys$."
   ]
  },
  {
   "cell_type": "code",
   "execution_count": 1,
   "id": "3de6fb57",
   "metadata": {},
   "outputs": [],
   "source": [
    "import numpy as np\n",
    "import pandas as pd\n",
    "import matplotlib.pyplot as plt\n",
    "import pyMELTScalc as M\n",
    "\n",
    "import sys\n",
    "sys.path.append(r'H:\\My Drive\\2022\\GitHub\\pyMELTScalc\\MELTS')"
   ]
  },
  {
   "attachments": {},
   "cell_type": "markdown",
   "id": "04a64d78",
   "metadata": {},
   "source": [
    "To test the ability of MELTS and MAGEMin to act at liquid-only thermometers we need some experiments to test them against. Here, we use a database of experimental data compiled by P. Wieser and isolate all the melt compositions in the $Liq$ sheet. "
   ]
  },
  {
   "cell_type": "code",
   "execution_count": 2,
   "id": "936c6ed6",
   "metadata": {},
   "outputs": [],
   "source": [
    "Data = pd.read_excel('LEPR_Wet_stitched_Sept2022.xlsx', sheet_name = 'Liq')"
   ]
  },
  {
   "attachments": {},
   "cell_type": "markdown",
   "id": "8e67b0bb",
   "metadata": {},
   "source": [
    "The entire experimental dataset contains over 2000 samples. Therefore, to reduce the computational time in this example spreadsheet I isolate 200 experiments (randomly selected) to be used in the following calculations. A new DataFrame is constructed using only these experiments."
   ]
  },
  {
   "cell_type": "code",
   "execution_count": 3,
   "id": "108c082e",
   "metadata": {},
   "outputs": [],
   "source": [
    "# randomly select 200 rows from the original DataFrame\n",
    "Ch = np.random.choice(range(len(Data['SiO2_Liq'])), 200, replace=False)\n",
    "Test = Data.copy()\n",
    "Test = Test.loc[Ch]\n",
    "\n",
    "# reset the index in the new DataFrame\n",
    "Test = Test.reset_index(drop = True)"
   ]
  },
  {
   "attachments": {},
   "cell_type": "markdown",
   "id": "3d6416f3",
   "metadata": {},
   "source": [
    "Now that we have this 'Test' DataFrame we can use the findLiq_multi function to identify the liquidus temperature of each sample. Ideally, we'd have information about either the Fe redox state or an estimate of the oxygen fugacity of each melt. Unfortunately, we don't have this information for every sample so instead we will define a constant Fe$^{3+}$/Fe$_{tot}$ ratio for all samples:"
   ]
  },
  {
   "cell_type": "code",
   "execution_count": 4,
   "id": "05e04659",
   "metadata": {},
   "outputs": [
    {
     "data": {
      "application/vnd.jupyter.widget-view+json": {
       "model_id": "404597b7439b4bf5bf9b6c1bc93eb8b4",
       "version_major": 2,
       "version_minor": 0
      },
      "text/plain": [
       "  0%|          | 0/25 [00:00<?, ?it/s]"
      ]
     },
     "metadata": {},
     "output_type": "display_data"
    }
   ],
   "source": [
    "Results_pMELTS = M.findLiq_multi(Model = \"pMELTS\", # which MELTS model to use - \"pMELTS\", \"MELTSv1.0.2\", \"MELTSv1.1.0\", or \"MELTSv1.2.0\"\n",
    "                        bulk = Test, # initial composition(s) wither a dictionary (if one composition) or a DataFrame (multiple compositions)\n",
    "                        T_initial_C = Test['T_K'].values-200, # Initial guess for the liquidus temperature (optional)\n",
    "                        P_bar = Test['P_kbar'].values*1000, # Pressure (in bars) of the calculation\n",
    "                        Fe3Fet_Liq = 0.15) # initial Fe3Fet_Liq ratio of the sample(s)"
   ]
  },
  {
   "attachments": {},
   "cell_type": "markdown",
   "id": "f421b5d3",
   "metadata": {},
   "source": [
    "Examining the results demonstrates the information that is recorded by this code. Notably, the findLiq_multi code will return the composition of the melt at the liquidus (in wt% hydrous normalized), whether or not the melt is fluid saturated at the liquidus, the liquidus phase and (critically) the liquidus temperature (in degrees Celsius)."
   ]
  },
  {
   "cell_type": "code",
   "execution_count": 5,
   "id": "c2abcfcd-b9ce-4cd6-b70c-e89dbd8eb92c",
   "metadata": {},
   "outputs": [
    {
     "data": {
      "text/html": [
       "<div>\n",
       "<style scoped>\n",
       "    .dataframe tbody tr th:only-of-type {\n",
       "        vertical-align: middle;\n",
       "    }\n",
       "\n",
       "    .dataframe tbody tr th {\n",
       "        vertical-align: top;\n",
       "    }\n",
       "\n",
       "    .dataframe thead th {\n",
       "        text-align: right;\n",
       "    }\n",
       "</style>\n",
       "<table border=\"1\" class=\"dataframe\">\n",
       "  <thead>\n",
       "    <tr style=\"text-align: right;\">\n",
       "      <th></th>\n",
       "      <th>T_Liq</th>\n",
       "      <th>liquidus_phase</th>\n",
       "      <th>fluid_saturated</th>\n",
       "      <th>SiO2_Liq</th>\n",
       "      <th>TiO2_Liq</th>\n",
       "      <th>Al2O3_Liq</th>\n",
       "      <th>FeOt_Liq</th>\n",
       "      <th>MnO_Liq</th>\n",
       "      <th>MgO_Liq</th>\n",
       "      <th>CaO_Liq</th>\n",
       "      <th>Na2O_Liq</th>\n",
       "      <th>K2O_Liq</th>\n",
       "      <th>P2O5_Liq</th>\n",
       "      <th>H2O_Liq</th>\n",
       "      <th>CO2_Liq</th>\n",
       "    </tr>\n",
       "  </thead>\n",
       "  <tbody>\n",
       "    <tr>\n",
       "      <th>0</th>\n",
       "      <td>918.9</td>\n",
       "      <td>biotite1</td>\n",
       "      <td>No</td>\n",
       "      <td>67.278173</td>\n",
       "      <td>0.248497</td>\n",
       "      <td>13.529263</td>\n",
       "      <td>1.849746</td>\n",
       "      <td>0.082832</td>\n",
       "      <td>0.450975</td>\n",
       "      <td>2.374524</td>\n",
       "      <td>2.530985</td>\n",
       "      <td>3.617007</td>\n",
       "      <td>0.0</td>\n",
       "      <td>8.007115</td>\n",
       "      <td>0.0</td>\n",
       "    </tr>\n",
       "    <tr>\n",
       "      <th>1</th>\n",
       "      <td>1199.3</td>\n",
       "      <td>olivine1</td>\n",
       "      <td>No</td>\n",
       "      <td>49.138986</td>\n",
       "      <td>2.864605</td>\n",
       "      <td>12.670366</td>\n",
       "      <td>16.244588</td>\n",
       "      <td>0.490789</td>\n",
       "      <td>4.797712</td>\n",
       "      <td>10.066180</td>\n",
       "      <td>3.024862</td>\n",
       "      <td>0.340547</td>\n",
       "      <td>0.0</td>\n",
       "      <td>0.090145</td>\n",
       "      <td>0.0</td>\n",
       "    </tr>\n",
       "    <tr>\n",
       "      <th>2</th>\n",
       "      <td>1165.7</td>\n",
       "      <td>olivine1</td>\n",
       "      <td>No</td>\n",
       "      <td>51.694851</td>\n",
       "      <td>0.874685</td>\n",
       "      <td>16.117786</td>\n",
       "      <td>10.711425</td>\n",
       "      <td>0.167075</td>\n",
       "      <td>6.368491</td>\n",
       "      <td>10.024477</td>\n",
       "      <td>1.916444</td>\n",
       "      <td>0.373461</td>\n",
       "      <td>0.0</td>\n",
       "      <td>1.572467</td>\n",
       "      <td>0.0</td>\n",
       "    </tr>\n",
       "    <tr>\n",
       "      <th>3</th>\n",
       "      <td>1048.8</td>\n",
       "      <td>olivine1</td>\n",
       "      <td>No</td>\n",
       "      <td>55.079476</td>\n",
       "      <td>0.582382</td>\n",
       "      <td>14.875407</td>\n",
       "      <td>4.441476</td>\n",
       "      <td>0.088838</td>\n",
       "      <td>5.132854</td>\n",
       "      <td>6.939224</td>\n",
       "      <td>2.240688</td>\n",
       "      <td>0.799541</td>\n",
       "      <td>0.0</td>\n",
       "      <td>9.745958</td>\n",
       "      <td>0.0</td>\n",
       "    </tr>\n",
       "    <tr>\n",
       "      <th>4</th>\n",
       "      <td>1083.3</td>\n",
       "      <td>olivine1</td>\n",
       "      <td>No</td>\n",
       "      <td>54.204490</td>\n",
       "      <td>0.659244</td>\n",
       "      <td>18.312328</td>\n",
       "      <td>4.666589</td>\n",
       "      <td>0.000000</td>\n",
       "      <td>5.441377</td>\n",
       "      <td>6.697080</td>\n",
       "      <td>3.243898</td>\n",
       "      <td>1.360344</td>\n",
       "      <td>0.0</td>\n",
       "      <td>5.336735</td>\n",
       "      <td>0.0</td>\n",
       "    </tr>\n",
       "  </tbody>\n",
       "</table>\n",
       "</div>"
      ],
      "text/plain": [
       "    T_Liq liquidus_phase fluid_saturated   SiO2_Liq  TiO2_Liq  Al2O3_Liq   \n",
       "0   918.9       biotite1              No  67.278173  0.248497  13.529263  \\\n",
       "1  1199.3       olivine1              No  49.138986  2.864605  12.670366   \n",
       "2  1165.7       olivine1              No  51.694851  0.874685  16.117786   \n",
       "3  1048.8       olivine1              No  55.079476  0.582382  14.875407   \n",
       "4  1083.3       olivine1              No  54.204490  0.659244  18.312328   \n",
       "\n",
       "    FeOt_Liq   MnO_Liq   MgO_Liq    CaO_Liq  Na2O_Liq   K2O_Liq  P2O5_Liq   \n",
       "0   1.849746  0.082832  0.450975   2.374524  2.530985  3.617007       0.0  \\\n",
       "1  16.244588  0.490789  4.797712  10.066180  3.024862  0.340547       0.0   \n",
       "2  10.711425  0.167075  6.368491  10.024477  1.916444  0.373461       0.0   \n",
       "3   4.441476  0.088838  5.132854   6.939224  2.240688  0.799541       0.0   \n",
       "4   4.666589  0.000000  5.441377   6.697080  3.243898  1.360344       0.0   \n",
       "\n",
       "    H2O_Liq  CO2_Liq  \n",
       "0  8.007115      0.0  \n",
       "1  0.090145      0.0  \n",
       "2  1.572467      0.0  \n",
       "3  9.745958      0.0  \n",
       "4  5.336735      0.0  "
      ]
     },
     "execution_count": 5,
     "metadata": {},
     "output_type": "execute_result"
    }
   ],
   "source": [
    "Results_pMELTS.head()"
   ]
  },
  {
   "attachments": {},
   "cell_type": "markdown",
   "id": "6e8437f0",
   "metadata": {},
   "source": [
    "In this initial calculation, the liquidus temperature is calculated using the pMELTS model, which was designed for use on mantle-like bulk compositions at 1 - 3 GPa (Ghiorso et al. 2002). For the majorty of samples in this database it may be more appropriate to use the rhyoliteMELTSv1.0.2 (Gualda et al. 2012) or rhyoliteMELTSv1.2.0 (Ghiorso and Gualda, 2015) models. We can rerun the same calculations but change the Model selected:"
   ]
  },
  {
   "cell_type": "code",
   "execution_count": 6,
   "id": "eca8b27a",
   "metadata": {},
   "outputs": [
    {
     "data": {
      "application/vnd.jupyter.widget-view+json": {
       "model_id": "6132bfff376d4c9ea29bc06317a92c41",
       "version_major": 2,
       "version_minor": 0
      },
      "text/plain": [
       "  0%|          | 0/25 [00:00<?, ?it/s]"
      ]
     },
     "metadata": {},
     "output_type": "display_data"
    }
   ],
   "source": [
    "Results_MELTSv102 = M.findLiq_multi(Model = \"MELTSv1.0.2\", # which MELTS model to use - \"pMELTS\", \"MELTSv1.0.2\", \"MELTSv1.1.0\", or \"MELTSv1.2.0\"\n",
    "                        bulk = Test, # initial composition(s) wither a dictionary (if one composition) or a DataFrame (multiple compositions)\n",
    "                        T_initial_C = Test['T_K'].values-200, # Initial guess for the liquidus temperature (optional)\n",
    "                        P_bar = Test['P_kbar'].values*1000, # Pressure (in bars) of the calculation\n",
    "                        Fe3Fet_Liq = 0.15) # initial Fe3Fet_Liq ratio of the sample(s)"
   ]
  },
  {
   "cell_type": "code",
   "execution_count": 7,
   "id": "c3d0de3f",
   "metadata": {},
   "outputs": [
    {
     "data": {
      "application/vnd.jupyter.widget-view+json": {
       "model_id": "4de2d4903abe44ec93b928f2f7a7cbeb",
       "version_major": 2,
       "version_minor": 0
      },
      "text/plain": [
       "  0%|          | 0/25 [00:00<?, ?it/s]"
      ]
     },
     "metadata": {},
     "output_type": "display_data"
    }
   ],
   "source": [
    "Results_MELTSv120 = M.findLiq_multi(Model = \"MELTSv1.2.0\", # which MELTS model to use - \"pMELTS\", \"MELTSv1.0.2\", \"MELTSv1.1.0\", or \"MELTSv1.2.0\"\n",
    "                        bulk = Test, # initial composition(s) wither a dictionary (if one composition) or a DataFrame (multiple compositions)\n",
    "                        T_initial_C = Test['T_K'].values-200, # Initial guess for the liquidus temperature (optional)\n",
    "                        P_bar = Test['P_kbar'].values*1000, # Pressure (in bars) of the calculation\n",
    "                        Fe3Fet_Liq = 0.15) # initial Fe3Fet_Liq ratio of the sample(s)"
   ]
  },
  {
   "attachments": {},
   "cell_type": "markdown",
   "id": "3c5a9736",
   "metadata": {},
   "source": [
    "Now that we have the results of this analysis, we can compare the results of these calculations to the true experimental temperature. Experiments that have no reported water typically show a very poor match to the experimental temperature, and are thus excluded from the following comparison. Additionally, we exlude any calculations that did not return a result (Results['T_C_liq'] = 0).\n",
    "\n",
    "Overall, MELTS does an acceptable job in reproducing the experimental temperatures, although it is notable that the liquidus temperature is typically overpredicted by around 50 $^{o}$C."
   ]
  },
  {
   "cell_type": "code",
   "execution_count": 8,
   "id": "eea88d76",
   "metadata": {},
   "outputs": [
    {
     "data": {
      "text/plain": [
       "Text(0.5, 0, 'Experimental Temperature ($^{o}$C)')"
      ]
     },
     "execution_count": 8,
     "metadata": {},
     "output_type": "execute_result"
    },
    {
     "name": "stderr",
     "output_type": "stream",
     "text": [
      "findfont: Font family ['cmsy10'] not found. Falling back to DejaVu Sans.\n",
      "findfont: Font family ['cmr10'] not found. Falling back to DejaVu Sans.\n",
      "findfont: Font family ['cmtt10'] not found. Falling back to DejaVu Sans.\n",
      "findfont: Font family ['cmmi10'] not found. Falling back to DejaVu Sans.\n",
      "findfont: Font family ['cmb10'] not found. Falling back to DejaVu Sans.\n",
      "findfont: Font family ['cmss10'] not found. Falling back to DejaVu Sans.\n",
      "findfont: Font family ['cmex10'] not found. Falling back to DejaVu Sans.\n"
     ]
    },
    {
     "data": {
      "image/png": "[encoded data removed]",
      "text/plain": [
       "<Figure size 640x480 with 1 Axes>"
      ]
     },
     "metadata": {},
     "output_type": "display_data"
    }
   ],
   "source": [
    "f, a = plt.subplots(1,1)\n",
    "a.plot(Test['T_K'][(Test['H2O_Liq'] > 0) & (Results_pMELTS['T_Liq'] > 0)]-273.15,\n",
    "       Results_pMELTS['T_Liq'][(Test['H2O_Liq'] > 0) & (Results_pMELTS['T_Liq'] > 0)], \n",
    "        'ok')\n",
    "a.plot([800,1400],[800,1400], 'r-')\n",
    "a.set_ylabel('Estimated Temperature ($^{o}$C)')\n",
    "a.set_xlabel('Experimental Temperature ($^{o}$C)')"
   ]
  }
 ],
 "metadata": {
  "kernelspec": {
   "display_name": "Python 3 (ipykernel)",
   "language": "python",
   "name": "python3"
  },
  "language_info": {
   "codemirror_mode": {
    "name": "ipython",
    "version": 3
   },
   "file_extension": ".py",
   "mimetype": "text/x-python",
   "name": "python",
   "nbconvert_exporter": "python",
   "pygments_lexer": "ipython3",
   "version": "3.9.13"
  }
 },
 "nbformat": 4,
 "nbformat_minor": 5
}
