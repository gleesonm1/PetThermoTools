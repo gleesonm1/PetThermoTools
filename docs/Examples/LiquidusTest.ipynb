{
 "cells": [
  {
   "attachments": {},
   "cell_type": "markdown",
   "id": "3e3260d9",
   "metadata": {},
   "source": [
    "## Using MELTS and MAGEMin as liquid-only thermometers (finding liquidus temperatures)"
   ]
  },
  {
   "attachments": {},
   "cell_type": "markdown",
   "id": "ce0ce115",
   "metadata": {},
   "source": [
    "Prior to starting any calculations it is necessary to load the relevant packages. As most of the work is done in the pyMELTScalc functions, only a few packages need to be imported into your notebook. These include $numpy$ and $pandas$ (for data processing), $matplotlib.pyplot$ for the visualisation of results, and $pyMELTScalc$ itself. In addition, it is necessary to append the path to the alphaMELTS for MATLAB/Python packages (available via GitLab), which are done using $sys$."
   ]
  },
  {
   "cell_type": "code",
   "execution_count": 1,
   "id": "3de6fb57",
   "metadata": {},
   "outputs": [],
   "source": [
    "import numpy as np\n",
    "import pandas as pd\n",
    "import matplotlib.pyplot as plt\n",
    "import pyMELTScalc as M\n",
    "\n",
    "import sys\n",
    "sys.path.append(r'H:\\My Drive\\2022\\GitHub\\pyMELTScalc\\MELTS')"
   ]
  },
  {
   "attachments": {},
   "cell_type": "markdown",
   "id": "04a64d78",
   "metadata": {},
   "source": [
    "To test the ability of MELTS and MAGEMin to act at liquid-only thermometers we need some experiments to test them against. Here, we use a database of experimental data compiled by P. Wieser and isolate all the melt compositions in the $Liq$ sheet. "
   ]
  },
  {
   "cell_type": "code",
   "execution_count": 2,
   "id": "936c6ed6",
   "metadata": {},
   "outputs": [],
   "source": [
    "Data = pd.read_excel('LEPR_Wet_stitched_Sept2022.xlsx', sheet_name = 'Liq')"
   ]
  },
  {
   "attachments": {},
   "cell_type": "markdown",
   "id": "8e67b0bb",
   "metadata": {},
   "source": [
    "The entire experimental dataset contains over 2000 samples. Therefore, to reduce the computational time in this example spreadsheet I isolate 200 experiments (randomly selected) to be used in the following calculations. A new DataFrame is constructed using only these experiments."
   ]
  },
  {
   "cell_type": "code",
   "execution_count": 3,
   "id": "108c082e",
   "metadata": {},
   "outputs": [],
   "source": [
    "# randomly select 200 rows from the original DataFrame\n",
    "Ch = np.random.choice(range(len(Data['SiO2_Liq'])), 200, replace=False)\n",
    "Test = Data.copy()\n",
    "Test = Test.loc[Ch]\n",
    "\n",
    "# reset the index in the new DataFrame\n",
    "Test = Test.reset_index(drop = True)"
   ]
  },
  {
   "attachments": {},
   "cell_type": "markdown",
   "id": "3d6416f3",
   "metadata": {},
   "source": [
    "Now that we have this 'Test' DataFrame we can use the findLiq_multi function to identify the liquidus temperature of each sample. Ideally, we'd have information about either the Fe redox state or an estimate of the oxygen fugacity of each melt. Unfortunately, we don't have this information for every sample so instead we will define a constant Fe$^{3+}$/Fe$_{tot}$ ratio for all samples:"
   ]
  },
  {
   "cell_type": "code",
   "execution_count": 4,
   "id": "05e04659",
   "metadata": {},
   "outputs": [
    {
     "data": {
      "application/vnd.jupyter.widget-view+json": {
       "model_id": "b8b7c64c2a344339a149fc4cafd3e702",
       "version_major": 2,
       "version_minor": 0
      },
      "text/plain": [
       "  0%|          | 0/25 [00:00<?, ?it/s]"
      ]
     },
     "metadata": {},
     "output_type": "display_data"
    }
   ],
   "source": [
    "Results_pMELTS = M.findLiq_multi(Model = \"pMELTS\", # which MELTS model to use - \"pMELTS\", \"MELTSv1.0.2\", \"MELTSv1.1.0\", or \"MELTSv1.2.0\"\n",
    "                        bulk = Test, # initial composition(s) wither a dictionary (if one composition) or a DataFrame (multiple compositions)\n",
    "                        T_initial_C = Test['T_K'].values-200, # Initial guess for the liquidus temperature (optional)\n",
    "                        P_bar = Test['P_kbar'].values*1000, # Pressure (in bars) of the calculation\n",
    "                        Fe3Fet_Liq = 0.15) # initial Fe3Fet_Liq ratio of the sample(s)"
   ]
  },
  {
   "attachments": {},
   "cell_type": "markdown",
   "id": "f421b5d3",
   "metadata": {},
   "source": [
    "Examining the results demonstrates the information that is recorded by this code. Notably, the findLiq_multi code will return the composition of the melt at the liquidus (in wt% hydrous normalized), whether or not the melt is fluid saturated at the liquidus, the liquidus phase and (critically) the liquidus temperature (in degrees Celsius)."
   ]
  },
  {
   "cell_type": "code",
   "execution_count": null,
   "id": "c2abcfcd-b9ce-4cd6-b70c-e89dbd8eb92c",
   "metadata": {},
   "outputs": [
    {
     "data": {
      "text/html": [
       "<div>\n",
       "<style scoped>\n",
       "    .dataframe tbody tr th:only-of-type {\n",
       "        vertical-align: middle;\n",
       "    }\n",
       "\n",
       "    .dataframe tbody tr th {\n",
       "        vertical-align: top;\n",
       "    }\n",
       "\n",
       "    .dataframe thead th {\n",
       "        text-align: right;\n",
       "    }\n",
       "</style>\n",
       "<table border=\"1\" class=\"dataframe\">\n",
       "  <thead>\n",
       "    <tr style=\"text-align: right;\">\n",
       "      <th></th>\n",
       "      <th>T_Liq</th>\n",
       "      <th>liquidus_phase</th>\n",
       "      <th>fluid_saturated</th>\n",
       "      <th>SiO2_Liq</th>\n",
       "      <th>TiO2_Liq</th>\n",
       "      <th>Al2O3_Liq</th>\n",
       "      <th>FeOt_Liq</th>\n",
       "      <th>MnO_Liq</th>\n",
       "      <th>MgO_Liq</th>\n",
       "      <th>CaO_Liq</th>\n",
       "      <th>Na2O_Liq</th>\n",
       "      <th>K2O_Liq</th>\n",
       "      <th>P2O5_Liq</th>\n",
       "      <th>H2O_Liq</th>\n",
       "      <th>CO2_Liq</th>\n",
       "    </tr>\n",
       "  </thead>\n",
       "  <tbody>\n",
       "    <tr>\n",
       "      <th>0</th>\n",
       "      <td>873.3</td>\n",
       "      <td>plagioclase1</td>\n",
       "      <td>No</td>\n",
       "      <td>70.622805</td>\n",
       "      <td>0.103167</td>\n",
       "      <td>14.227728</td>\n",
       "      <td>0.722104</td>\n",
       "      <td>0.046894</td>\n",
       "      <td>0.628384</td>\n",
       "      <td>1.275525</td>\n",
       "      <td>3.751543</td>\n",
       "      <td>2.888688</td>\n",
       "      <td>0.0</td>\n",
       "      <td>5.721104</td>\n",
       "      <td>0.0</td>\n",
       "    </tr>\n",
       "    <tr>\n",
       "      <th>1</th>\n",
       "      <td>900.9</td>\n",
       "      <td>plagioclase1</td>\n",
       "      <td>No</td>\n",
       "      <td>68.496564</td>\n",
       "      <td>0.254106</td>\n",
       "      <td>13.777153</td>\n",
       "      <td>2.046362</td>\n",
       "      <td>0.033067</td>\n",
       "      <td>0.344220</td>\n",
       "      <td>1.946461</td>\n",
       "      <td>4.339053</td>\n",
       "      <td>2.978228</td>\n",
       "      <td>0.0</td>\n",
       "      <td>5.750620</td>\n",
       "      <td>0.0</td>\n",
       "    </tr>\n",
       "    <tr>\n",
       "      <th>2</th>\n",
       "      <td>1099.6</td>\n",
       "      <td>olivine1</td>\n",
       "      <td>No</td>\n",
       "      <td>59.694534</td>\n",
       "      <td>0.876362</td>\n",
       "      <td>15.692997</td>\n",
       "      <td>4.232616</td>\n",
       "      <td>0.040761</td>\n",
       "      <td>4.952466</td>\n",
       "      <td>5.105320</td>\n",
       "      <td>4.157625</td>\n",
       "      <td>1.661012</td>\n",
       "      <td>0.0</td>\n",
       "      <td>3.515639</td>\n",
       "      <td>0.0</td>\n",
       "    </tr>\n",
       "    <tr>\n",
       "      <th>3</th>\n",
       "      <td>1153.0</td>\n",
       "      <td>olivine1</td>\n",
       "      <td>No</td>\n",
       "      <td>57.210401</td>\n",
       "      <td>1.541055</td>\n",
       "      <td>14.806213</td>\n",
       "      <td>10.474160</td>\n",
       "      <td>0.130939</td>\n",
       "      <td>4.693670</td>\n",
       "      <td>7.413179</td>\n",
       "      <td>2.276329</td>\n",
       "      <td>1.279176</td>\n",
       "      <td>0.0</td>\n",
       "      <td>0.000000</td>\n",
       "      <td>0.0</td>\n",
       "    </tr>\n",
       "    <tr>\n",
       "      <th>4</th>\n",
       "      <td>1172.8</td>\n",
       "      <td>olivine1</td>\n",
       "      <td>No</td>\n",
       "      <td>49.221318</td>\n",
       "      <td>0.700382</td>\n",
       "      <td>16.828632</td>\n",
       "      <td>10.018418</td>\n",
       "      <td>0.145913</td>\n",
       "      <td>8.171128</td>\n",
       "      <td>10.019359</td>\n",
       "      <td>1.799594</td>\n",
       "      <td>0.301554</td>\n",
       "      <td>0.0</td>\n",
       "      <td>2.626434</td>\n",
       "      <td>0.0</td>\n",
       "    </tr>\n",
       "  </tbody>\n",
       "</table>\n",
       "</div>"
      ],
      "text/plain": [
       "    T_Liq liquidus_phase fluid_saturated   SiO2_Liq  TiO2_Liq  Al2O3_Liq   \n",
       "0   873.3   plagioclase1              No  70.622805  0.103167  14.227728  \\\n",
       "1   900.9   plagioclase1              No  68.496564  0.254106  13.777153   \n",
       "2  1099.6       olivine1              No  59.694534  0.876362  15.692997   \n",
       "3  1153.0       olivine1              No  57.210401  1.541055  14.806213   \n",
       "4  1172.8       olivine1              No  49.221318  0.700382  16.828632   \n",
       "\n",
       "    FeOt_Liq   MnO_Liq   MgO_Liq    CaO_Liq  Na2O_Liq   K2O_Liq  P2O5_Liq   \n",
       "0   0.722104  0.046894  0.628384   1.275525  3.751543  2.888688       0.0  \\\n",
       "1   2.046362  0.033067  0.344220   1.946461  4.339053  2.978228       0.0   \n",
       "2   4.232616  0.040761  4.952466   5.105320  4.157625  1.661012       0.0   \n",
       "3  10.474160  0.130939  4.693670   7.413179  2.276329  1.279176       0.0   \n",
       "4  10.018418  0.145913  8.171128  10.019359  1.799594  0.301554       0.0   \n",
       "\n",
       "    H2O_Liq  CO2_Liq  \n",
       "0  5.721104      0.0  \n",
       "1  5.750620      0.0  \n",
       "2  3.515639      0.0  \n",
       "3  0.000000      0.0  \n",
       "4  2.626434      0.0  "
      ]
     },
     "execution_count": 5,
     "metadata": {},
     "output_type": "execute_result"
    }
   ],
   "source": [
    "Results_pMELTS.head()"
   ]
  },
  {
   "attachments": {},
   "cell_type": "markdown",
   "id": "6e8437f0",
   "metadata": {},
   "source": [
    "In this initial calculation, the liquidus temperature is calculated using the pMELTS model, which was designed for use on mantle-like bulk compositions at 1 - 3 GPa (Ghiorso et al. 2002). For the majorty of samples in this database it may be more appropriate to use the rhyoliteMELTSv1.0.2 (Gualda et al. 2012) or rhyoliteMELTSv1.2.0 (Ghiorso and Gualda, 2015) models. We can rerun the same calculations but change the Model selected:"
   ]
  },
  {
   "cell_type": "code",
   "execution_count": null,
   "id": "eca8b27a",
   "metadata": {},
   "outputs": [],
   "source": [
    "Results_MELTSv102 = M.findLiq_multi(Model = \"MELTSv1.0.2\", # which MELTS model to use - \"pMELTS\", \"MELTSv1.0.2\", \"MELTSv1.1.0\", or \"MELTSv1.2.0\"\n",
    "                        bulk = Test, # initial composition(s) wither a dictionary (if one composition) or a DataFrame (multiple compositions)\n",
    "                        T_initial_C = Test['T_K'].values-200, # Initial guess for the liquidus temperature (optional)\n",
    "                        P_bar = Test['P_kbar'].values*1000, # Pressure (in bars) of the calculation\n",
    "                        Fe3Fet_Liq = 0.15) # initial Fe3Fet_Liq ratio of the sample(s)"
   ]
  },
  {
   "cell_type": "code",
   "execution_count": null,
   "id": "c3d0de3f",
   "metadata": {},
   "outputs": [],
   "source": [
    "Results_MELTSv120 = M.findLiq_multi(Model = \"MELTSv1.2.0\", # which MELTS model to use - \"pMELTS\", \"MELTSv1.0.2\", \"MELTSv1.1.0\", or \"MELTSv1.2.0\"\n",
    "                        bulk = Test, # initial composition(s) wither a dictionary (if one composition) or a DataFrame (multiple compositions)\n",
    "                        T_initial_C = Test['T_K'].values-200, # Initial guess for the liquidus temperature (optional)\n",
    "                        P_bar = Test['P_kbar'].values*1000, # Pressure (in bars) of the calculation\n",
    "                        Fe3Fet_Liq = 0.15) # initial Fe3Fet_Liq ratio of the sample(s)"
   ]
  },
  {
   "attachments": {},
   "cell_type": "markdown",
   "id": "3c5a9736",
   "metadata": {},
   "source": [
    "Now that we have the results of this analysis, we can compare the results of these calculations to the true experimental temperature. Experiments that have no reported water typically show a very poor match to the experimental temperature, and are thus excluded from the following comparison. Additionally, we exlude any calculations that did not return a result (Results['T_C_liq'] = 0).\n",
    "\n",
    "Overall, MELTS does an acceptable job in reproducing the experimental temperatures, although it is notable that the liquidus temperature is typically overpredicted by around 50 $^{o}$C."
   ]
  },
  {
   "cell_type": "code",
   "execution_count": 9,
   "id": "eea88d76",
   "metadata": {},
   "outputs": [
    {
     "data": {
      "text/plain": [
       "Text(0.5, 0, 'Experimental Temperature ($^{o}$C)')"
      ]
     },
     "execution_count": 9,
     "metadata": {},
     "output_type": "execute_result"
    },
    {
     "data": {
      "image/png": "[encoded data removed]",
      "text/plain": [
       "<Figure size 640x480 with 1 Axes>"
      ]
     },
     "metadata": {},
     "output_type": "display_data"
    }
   ],
   "source": [
    "f, a = plt.subplots(1,1)\n",
    "a.plot(Test['T_K'][(Test['H2O_Liq'] > 0) & (Results['T_Liq'] > 0)]-273.15,\n",
    "       Results['T_Liq'][(Test['H2O_Liq'] > 0) & (Results['T_Liq'] > 0)], \n",
    "        'ok')\n",
    "a.plot([800,1400],[800,1400], 'r-')\n",
    "a.set_ylabel('Estimated Temperature ($^{o}$C)')\n",
    "a.set_xlabel('Experimental Temperature ($^{o}$C)')"
   ]
  }
 ],
 "metadata": {
  "kernelspec": {
   "display_name": "Python 3 (ipykernel)",
   "language": "python",
   "name": "python3"
  },
  "language_info": {
   "codemirror_mode": {
    "name": "ipython",
    "version": 3
   },
   "file_extension": ".py",
   "mimetype": "text/x-python",
   "name": "python",
   "nbconvert_exporter": "python",
   "pygments_lexer": "ipython3",
   "version": "3.9.13"
  }
 },
 "nbformat": 4,
 "nbformat_minor": 5
}
