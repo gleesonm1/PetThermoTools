{
 "cells": [
  {
   "cell_type": "markdown",
   "metadata": {},
   "source": [
    "# Isothermal decompression calculations"
   ]
  },
  {
   "cell_type": "markdown",
   "metadata": {},
   "source": [
    "- In addition to crystallization and melting calculations, thermodynamic models are often used to investigate the processes of magma decompression.\n",
    "- In this notebook we focus on the fluid composition during magma decompression by investigating different initial H2O contents.\n",
    "\n",
    "**Before any calculations can be run** users need to download the alphaMELTS for Python files. Please see the installation guide on ReadTheDocs."
   ]
  },
  {
   "cell_type": "code",
   "execution_count": 1,
   "metadata": {},
   "outputs": [
    {
     "data": {
      "text/plain": [
       "'0.2.45'"
      ]
     },
     "execution_count": 1,
     "metadata": {},
     "output_type": "execute_result"
    }
   ],
   "source": [
    "# import core python packages that we'll use for plotting and data manipulation.\n",
    "import sys\n",
    "import os\n",
    "import numpy as np\n",
    "import pandas as pd\n",
    "import matplotlib.pyplot as plt\n",
    "import PetThermoTools as ptt \n",
    "\n",
    "ptt.__version__"
   ]
  },
  {
   "cell_type": "markdown",
   "metadata": {},
   "source": [
    "To suppress outputs from the MELTS calculations run the cell below twice."
   ]
  },
  {
   "cell_type": "code",
   "execution_count": 3,
   "metadata": {},
   "outputs": [],
   "source": [
    "## If using Mac run this cell **twice** \n",
    "sys.stdout = open(os.devnull, 'w')\n",
    "sys.stderr = open(os.devnull, 'w')"
   ]
  },
  {
   "cell_type": "markdown",
   "metadata": {},
   "source": [
    "In this example we'll load melt inclusion compositions from the White Pumice of Mt St Helens published the study of Blundy and Cashman (2005)."
   ]
  },
  {
   "cell_type": "code",
   "execution_count": 4,
   "metadata": {},
   "outputs": [
    {
     "data": {
      "text/html": [
       "<div>\n",
       "<style scoped>\n",
       "    .dataframe tbody tr th:only-of-type {\n",
       "        vertical-align: middle;\n",
       "    }\n",
       "\n",
       "    .dataframe tbody tr th {\n",
       "        vertical-align: top;\n",
       "    }\n",
       "\n",
       "    .dataframe thead th {\n",
       "        text-align: right;\n",
       "    }\n",
       "</style>\n",
       "<table border=\"1\" class=\"dataframe\">\n",
       "  <thead>\n",
       "    <tr style=\"text-align: right;\">\n",
       "      <th></th>\n",
       "      <th>sample</th>\n",
       "      <th>Type</th>\n",
       "      <th>SiO2</th>\n",
       "      <th>TiO2</th>\n",
       "      <th>Al2O3</th>\n",
       "      <th>FeOt</th>\n",
       "      <th>MnO</th>\n",
       "      <th>MgO</th>\n",
       "      <th>CaO</th>\n",
       "      <th>Na2O</th>\n",
       "      <th>K2O</th>\n",
       "      <th>H2O</th>\n",
       "      <th>Total</th>\n",
       "    </tr>\n",
       "  </thead>\n",
       "  <tbody>\n",
       "    <tr>\n",
       "      <th>0</th>\n",
       "      <td>KCHB-4Aa</td>\n",
       "      <td>A1</td>\n",
       "      <td>68.05</td>\n",
       "      <td>0.33</td>\n",
       "      <td>12.96</td>\n",
       "      <td>2.72</td>\n",
       "      <td>0.12</td>\n",
       "      <td>0.98</td>\n",
       "      <td>1.95</td>\n",
       "      <td>5.60</td>\n",
       "      <td>1.93</td>\n",
       "      <td>4.63</td>\n",
       "      <td>99.26</td>\n",
       "    </tr>\n",
       "    <tr>\n",
       "      <th>1</th>\n",
       "      <td>KCHB-7Ab</td>\n",
       "      <td>A1</td>\n",
       "      <td>69.01</td>\n",
       "      <td>0.37</td>\n",
       "      <td>14.07</td>\n",
       "      <td>2.19</td>\n",
       "      <td>0.02</td>\n",
       "      <td>0.36</td>\n",
       "      <td>2.25</td>\n",
       "      <td>5.54</td>\n",
       "      <td>1.85</td>\n",
       "      <td>3.19</td>\n",
       "      <td>99.09</td>\n",
       "    </tr>\n",
       "    <tr>\n",
       "      <th>2</th>\n",
       "      <td>KCHB-8Aa</td>\n",
       "      <td>A1</td>\n",
       "      <td>70.19</td>\n",
       "      <td>0.35</td>\n",
       "      <td>14.70</td>\n",
       "      <td>2.52</td>\n",
       "      <td>0.03</td>\n",
       "      <td>0.34</td>\n",
       "      <td>2.24</td>\n",
       "      <td>6.51</td>\n",
       "      <td>1.72</td>\n",
       "      <td>1.83</td>\n",
       "      <td>100.43</td>\n",
       "    </tr>\n",
       "    <tr>\n",
       "      <th>3</th>\n",
       "      <td>KCHB-I IR</td>\n",
       "      <td>A1</td>\n",
       "      <td>65.81</td>\n",
       "      <td>0.51</td>\n",
       "      <td>15.03</td>\n",
       "      <td>2.13</td>\n",
       "      <td>0.00</td>\n",
       "      <td>0.37</td>\n",
       "      <td>2.35</td>\n",
       "      <td>5.65</td>\n",
       "      <td>2.44</td>\n",
       "      <td>4.92</td>\n",
       "      <td>99.2</td>\n",
       "    </tr>\n",
       "    <tr>\n",
       "      <th>4</th>\n",
       "      <td>KCHB-I IB'</td>\n",
       "      <td>A1</td>\n",
       "      <td>69.71</td>\n",
       "      <td>0.21</td>\n",
       "      <td>14.15</td>\n",
       "      <td>2.48</td>\n",
       "      <td>0.00</td>\n",
       "      <td>0.45</td>\n",
       "      <td>2.23</td>\n",
       "      <td>6.39</td>\n",
       "      <td>2.03</td>\n",
       "      <td>2.66</td>\n",
       "      <td>100.29</td>\n",
       "    </tr>\n",
       "  </tbody>\n",
       "</table>\n",
       "</div>"
      ],
      "text/plain": [
       "       sample Type   SiO2  TiO2  Al2O3  FeOt   MnO   MgO   CaO  Na2O   K2O  \\\n",
       "0    KCHB-4Aa   A1  68.05  0.33  12.96  2.72  0.12  0.98  1.95  5.60  1.93   \n",
       "1    KCHB-7Ab   A1  69.01  0.37  14.07  2.19  0.02  0.36  2.25  5.54  1.85   \n",
       "2    KCHB-8Aa   A1  70.19  0.35  14.70  2.52  0.03  0.34  2.24  6.51  1.72   \n",
       "3   KCHB-I IR   A1  65.81  0.51  15.03  2.13  0.00  0.37  2.35  5.65  2.44   \n",
       "4  KCHB-I IB'   A1  69.71  0.21  14.15  2.48  0.00  0.45  2.23  6.39  2.03   \n",
       "\n",
       "    H2O   Total  \n",
       "0  4.63   99.26  \n",
       "1  3.19   99.09  \n",
       "2  1.83  100.43  \n",
       "3  4.92    99.2  \n",
       "4  2.66  100.29  "
      ]
     },
     "execution_count": 4,
     "metadata": {},
     "output_type": "execute_result"
    }
   ],
   "source": [
    "# Melt inclusion and groundmass glass data from Mt St Helens (Blundy and Cashman, 2005)\n",
    "StHelens = pd.read_excel('StHelens.xlsx', sheet_name='1980_WhitePumice')\n",
    "StHelens = StHelens.fillna(0.0)\n",
    "StHelens.head()"
   ]
  },
  {
   "cell_type": "markdown",
   "metadata": {},
   "source": [
    "For these simple decompression calculations we can simply pick any of the inclusions from the Blundy and Cashman (2005) study. Here we select a plagioclase-hosted melt incluion:"
   ]
  },
  {
   "cell_type": "code",
   "execution_count": 5,
   "metadata": {},
   "outputs": [
    {
     "data": {
      "text/plain": [
       "sample    006-IOAO\n",
       "Type            PI\n",
       "SiO2         64.91\n",
       "TiO2          0.41\n",
       "Al2O3        13.31\n",
       "FeOt          2.78\n",
       "MnO           0.02\n",
       "MgO           0.71\n",
       "CaO           1.95\n",
       "Na2O          5.49\n",
       "K2O           1.99\n",
       "H2O           6.38\n",
       "Total        98.27\n",
       "Name: 23, dtype: object"
      ]
     },
     "execution_count": 5,
     "metadata": {},
     "output_type": "execute_result"
    }
   ],
   "source": [
    "# select a representative composition of the Mt St Helens white pumice. Here we've chosen a more mafic (~65 wt% SiO2) water rich inclusion.\n",
    "WhitePumice = StHelens.loc[23]\n",
    "WhitePumice"
   ]
  },
  {
   "cell_type": "markdown",
   "metadata": {},
   "source": [
    "The inclusion has a measured H2O content of 6.38 wt%, but it is worth investigating how the degassing behaviour - and volatile composition - might change with different assumed initial CO2 contents. In the following cell we set up a decompression calculation using the measured H2O content and 4 different initial CO2 contents (in wt%)."
   ]
  },
  {
   "cell_type": "code",
   "execution_count": 6,
   "metadata": {},
   "outputs": [],
   "source": [
    "Helens_decompress = ptt.isothermal_decompression(Model=\"MELTSv1.2.0\", \n",
    "    bulk=WhitePumice, find_liquidus=True, fO2_buffer=\"FMQ\", fO2_offset=2, \n",
    "    P_start_bar=3000, P_end_bar=50, dp_bar=20, fluid_sat = True,\n",
    "    CO2_init = np.array([0.001, 0.01, 0.025, 0.05]),  label = 'CO2')"
   ]
  },
  {
   "cell_type": "markdown",
   "metadata": {},
   "source": [
    "We can inspect the outputs and see that each run is now labeled by the initial CO2 content of that model."
   ]
  },
  {
   "cell_type": "code",
   "execution_count": 7,
   "metadata": {},
   "outputs": [
    {
     "data": {
      "text/plain": [
       "dict_keys(['CO2 = 0.001 wt%', 'CO2 = 0.01 wt%', 'CO2 = 0.025 wt%', 'CO2 = 0.05 wt%'])"
      ]
     },
     "execution_count": 7,
     "metadata": {},
     "output_type": "execute_result"
    }
   ],
   "source": [
    "Helens_decompress.keys()"
   ]
  },
  {
   "cell_type": "markdown",
   "metadata": {},
   "source": [
    "Examining the results from one model reveals the various Dictionaries and Pandas DataFrames that are created during the thermodynamic calculations."
   ]
  },
  {
   "cell_type": "code",
   "execution_count": 8,
   "metadata": {},
   "outputs": [
    {
     "data": {
      "text/plain": [
       "dict_keys(['Conditions', 'liquid1', 'liquid1_prop', 'fluid1', 'fluid1_prop', 'spinel1', 'spinel1_prop', 'plagioclase1', 'plagioclase1_prop', 'All', 'Mass', 'Volume', 'rho', 'Input'])"
      ]
     },
     "execution_count": 8,
     "metadata": {},
     "output_type": "execute_result"
    }
   ],
   "source": [
    "Helens_decompress['CO2 = 0.01 wt%'].keys()"
   ]
  },
  {
   "cell_type": "markdown",
   "metadata": {},
   "source": [
    "Specifically focusing on the fluid, we can use the cell below to examine the composition of the fluid phase for a single model."
   ]
  },
  {
   "cell_type": "code",
   "execution_count": 9,
   "metadata": {},
   "outputs": [
    {
     "data": {
      "text/html": [
       "<div>\n",
       "<style scoped>\n",
       "    .dataframe tbody tr th:only-of-type {\n",
       "        vertical-align: middle;\n",
       "    }\n",
       "\n",
       "    .dataframe tbody tr th {\n",
       "        vertical-align: top;\n",
       "    }\n",
       "\n",
       "    .dataframe thead th {\n",
       "        text-align: right;\n",
       "    }\n",
       "</style>\n",
       "<table border=\"1\" class=\"dataframe\">\n",
       "  <thead>\n",
       "    <tr style=\"text-align: right;\">\n",
       "      <th></th>\n",
       "      <th>H2O_Fl</th>\n",
       "      <th>CO2_Fl</th>\n",
       "      <th>X_H2O_mol_Fl</th>\n",
       "      <th>X_CO2_mol_Fl</th>\n",
       "    </tr>\n",
       "  </thead>\n",
       "  <tbody>\n",
       "    <tr>\n",
       "      <th>0</th>\n",
       "      <td>67.097841</td>\n",
       "      <td>32.902159</td>\n",
       "      <td>0.832915</td>\n",
       "      <td>0.167085</td>\n",
       "    </tr>\n",
       "    <tr>\n",
       "      <th>1</th>\n",
       "      <td>67.578631</td>\n",
       "      <td>32.421369</td>\n",
       "      <td>0.835936</td>\n",
       "      <td>0.164064</td>\n",
       "    </tr>\n",
       "    <tr>\n",
       "      <th>2</th>\n",
       "      <td>68.066036</td>\n",
       "      <td>31.933964</td>\n",
       "      <td>0.838976</td>\n",
       "      <td>0.161024</td>\n",
       "    </tr>\n",
       "    <tr>\n",
       "      <th>3</th>\n",
       "      <td>68.560116</td>\n",
       "      <td>31.439884</td>\n",
       "      <td>0.842035</td>\n",
       "      <td>0.157965</td>\n",
       "    </tr>\n",
       "    <tr>\n",
       "      <th>4</th>\n",
       "      <td>69.060924</td>\n",
       "      <td>30.939076</td>\n",
       "      <td>0.845115</td>\n",
       "      <td>0.154885</td>\n",
       "    </tr>\n",
       "  </tbody>\n",
       "</table>\n",
       "</div>"
      ],
      "text/plain": [
       "      H2O_Fl     CO2_Fl  X_H2O_mol_Fl  X_CO2_mol_Fl\n",
       "0  67.097841  32.902159      0.832915      0.167085\n",
       "1  67.578631  32.421369      0.835936      0.164064\n",
       "2  68.066036  31.933964      0.838976      0.161024\n",
       "3  68.560116  31.439884      0.842035      0.157965\n",
       "4  69.060924  30.939076      0.845115      0.154885"
      ]
     },
     "execution_count": 9,
     "metadata": {},
     "output_type": "execute_result"
    }
   ],
   "source": [
    "Helens_decompress['CO2 = 0.05 wt%']['fluid1'].head()"
   ]
  },
  {
   "cell_type": "markdown",
   "metadata": {},
   "source": [
    "We can further examine the results by plotting up the fluid composition against pressure. In the cell below we can loop through the main results Dictionary to access each model in turn."
   ]
  },
  {
   "cell_type": "code",
   "execution_count": 11,
   "metadata": {},
   "outputs": [
    {
     "data": {
      "image/png": "[encoded data removed]",
      "text/plain": [
       "<Figure size 400x350 with 1 Axes>"
      ]
     },
     "metadata": {},
     "output_type": "display_data"
    }
   ],
   "source": [
    "# set up figure layout\n",
    "f, a = plt.subplots(1,1, figsize = (4,3.5))\n",
    "\n",
    "# loop through main Dictionary\n",
    "for key in Helens_decompress:\n",
    "    # extract individial calculations\n",
    "    res = Helens_decompress[key]\n",
    "\n",
    "    # plot fluid chemistry vs pressure\n",
    "    a.plot(res['All']['X_H2O_mol_Fl'],\n",
    "        res['All']['P_bar'],'-',label=key)\n",
    "\n",
    "a.legend(fontsize = 8)\n",
    "\n",
    "a.set_xlabel('X$_{H2O}$')\n",
    "a.set_ylabel('Pressure (bar)')\n",
    "\n",
    "f.tight_layout()"
   ]
  }
 ],
 "metadata": {
  "kernelspec": {
   "display_name": "base",
   "language": "python",
   "name": "python3"
  },
  "language_info": {
   "codemirror_mode": {
    "name": "ipython",
    "version": 3
   },
   "file_extension": ".py",
   "mimetype": "text/x-python",
   "name": "python",
   "nbconvert_exporter": "python",
   "pygments_lexer": "ipython3",
   "version": "3.11.0"
  },
  "orig_nbformat": 4
 },
 "nbformat": 4,
 "nbformat_minor": 2
}
