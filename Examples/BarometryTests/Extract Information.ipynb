{
 "cells": [
  {
   "cell_type": "code",
   "execution_count": 1,
   "id": "09d42a41",
   "metadata": {},
   "outputs": [],
   "source": [
    "import numpy as np\n",
    "import pandas as pd\n",
    "import sys\n",
    "import matplotlib.pyplot as plt\n",
    "import pyMELTScalc as M\n",
    "import Thermobar as pt\n",
    "import pickle\n",
    "\n",
    "sys.path.append(r'G:\\My Drive\\2022\\GitHub\\pyMELTScalc\\MELTS')\n",
    "\n",
    "import time\n",
    "import random\n",
    "from tqdm.notebook import tqdm, trange\n",
    "\n",
    "import matplotlib as mpl\n",
    "mpl.rcParams['axes.titlesize'] = 16\n",
    "mpl.rcParams['axes.labelsize'] = 14\n",
    "mpl.rcParams['xtick.labelsize'] = 12\n",
    "mpl.rcParams['ytick.labelsize'] = 12"
   ]
  },
  {
   "cell_type": "code",
   "execution_count": 2,
   "id": "4e685342",
   "metadata": {},
   "outputs": [],
   "source": [
    "Data = pd.read_excel('Plag2Pyx\\LowP.xlsx')"
   ]
  },
  {
   "cell_type": "code",
   "execution_count": 3,
   "id": "88769654",
   "metadata": {},
   "outputs": [
    {
     "name": "stderr",
     "output_type": "stream",
     "text": [
      "C:\\Users\\mattg\\AppData\\Roaming\\Python\\Python39\\site-packages\\Thermobar\\core.py:4059: FutureWarning: Dropping of nuisance columns in DataFrame reductions (with 'numeric_only=None') is deprecated; in a future version this will raise TypeError.  Select only valid columns before calling the reduction.\n",
      "  Old_Sum=(100/liq_comps_c.drop(['Sample_ID_Liq'], axis=1).sum(axis=1))\n"
     ]
    }
   ],
   "source": [
    "New = pt.convert_fo2_to_fe_partition(liq_comps = Data, T_K = Data['T_K'], P_kbar = Data['P_kbar'], \n",
    "                              fo2 = 10**Data['logfo2'], model = \"Kress1991\")\n",
    "\n",
    "Elements = ['SiO2_Liq', 'TiO2_Liq', 'Al2O3_Liq', 'FeOt_Liq', 'MnO_Liq', 'MgO_Liq', 'CaO_Liq', 'Na2O_Liq', 'K2O_Liq', 'P2O5_Liq', 'H2O_Liq', 'Fe3Fet_Liq']\n",
    "Comp = New[Elements].copy()\n",
    "Comp['CO2_Liq'] = np.zeros(len(Comp['SiO2_Liq']))\n",
    "Comp['P_kbar_true'] = Data['P_kbar']"
   ]
  },
  {
   "cell_type": "code",
   "execution_count": 31,
   "id": "08ba5672",
   "metadata": {},
   "outputs": [],
   "source": [
    "Presults = {}\n",
    "P_bar = np.linspace(500, 7500, 36)\n",
    "\n",
    "Comp['P_kbar_calc'] = np.zeros(len(Comp['SiO2_Liq']))*np.nan\n",
    "Comp['P_kbar_min'] = np.zeros(len(Comp['SiO2_Liq']))*np.nan\n",
    "Comp['P_kbar_max'] = np.zeros(len(Comp['SiO2_Liq']))*np.nan\n",
    "Comp['P_kbar_curve'] = np.zeros(len(Comp['SiO2_Liq']))*np.nan\n",
    "Comp['H2O_curve'] = np.zeros(len(Comp['SiO2_Liq']))*np.nan\n",
    "Comp['H2O_calc'] = np.zeros(len(Comp['SiO2_Liq']))*np.nan\n",
    "Comp['H2O_min'] = np.zeros(len(Comp['SiO2_Liq']))*np.nan\n",
    "Comp['H2O_max'] = np.zeros(len(Comp['SiO2_Liq']))*np.nan\n",
    "for i in range(len(Comp['SiO2_Liq'])):\n",
    "    try:\n",
    "        with open('LowPResults/Sample_' + str(i) + '.obj', 'rb') as f:\n",
    "            res = pickle.load(f)\n",
    "        \n",
    "        res['P'] = res['H2O_melt'].copy()\n",
    "        for k in range(len(res['P'][:,0,0])):\n",
    "            res['P'][k,0,:] = P_bar\n",
    "        \n",
    "        Presults[str(i)] = res\n",
    "        \n",
    "        if res['Minimum']['Res'] < 20.0:\n",
    "            try:\n",
    "                Comp['P_kbar_calc'].loc[i] = np.nanmean(res['Minimum']['P'])/1000\n",
    "                Comp['H2O_calc'].loc[i] = np.nanmean(res['Minimum']['H2O'])\n",
    "                Comp['P_kbar_curve'].loc[i] = res['CurveMin']['Res_abc']['P_min']/1000\n",
    "                Comp['H2O_curve'].loc[i] = res['CurveMin']['Res_abc']['H2O_min']\n",
    "            except:\n",
    "                Comp['P_kbar_calc'].loc[i] = res['Minimum']['P']/1000\n",
    "                Comp['H2O_calc'].loc[i] = res['Minimum']['H2O']\n",
    "                Comp['P_kbar_curve'].loc[i] = res['CurveMin']['Res_abc']['P_min']/1000\n",
    "                Comp['H2O_curve'].loc[i] = res['CurveMin']['Res_abc']['H2O_min']\n",
    "                \n",
    "        if len(res['range'][np.where(res['range'] == 1.0)]) > 0:\n",
    "            Comp['P_kbar_min'].loc[i] = np.nanmin(res['P'][np.where(res['range'] == 1.0)])/1000\n",
    "            Comp['P_kbar_max'].loc[i] = np.nanmax(res['P'][np.where(res['range'] == 1.0)])/1000\n",
    "            Comp['H2O_min'].loc[i] = np.nanmin(res['H2O_melt'][np.where(res['range'] == 1.0)])\n",
    "            Comp['H2O_max'].loc[i] = np.nanmax(res['H2O_melt'][np.where(res['range'] == 1.0)])\n",
    "            \n",
    "        P = float(round(Comp['P_kbar_true'].loc[i])*1000)\n",
    "        H2O_max = np.nanmax(res['H2O_melt'][res['P'] <= P])\n",
    "        \n",
    "        if H2O_max < Comp['H2O_Liq'].loc[i]:\n",
    "            Comp['H2O_Liq'].loc[i] = H2O_max\n",
    "            \n",
    "        \n",
    "    except:\n",
    "        pass"
   ]
  },
  {
   "cell_type": "code",
   "execution_count": 32,
   "id": "9fba7503",
   "metadata": {},
   "outputs": [
    {
     "data": {
      "text/plain": [
       "array([[[ 500.,  700.,  900., 1100., 1300., 1500., 1700., 1900., 2100.,\n",
       "         2300., 2500., 2700., 2900., 3100., 3300., 3500., 3700., 3900.,\n",
       "         4100., 4300., 4500., 4700., 4900., 5100., 5300., 5500., 5700.,\n",
       "         5900., 6100., 6300., 6500., 6700., 6900., 7100., 7300., 7500.]],\n",
       "\n",
       "       [[ 500.,  700.,  900., 1100., 1300., 1500., 1700., 1900., 2100.,\n",
       "         2300., 2500., 2700., 2900., 3100., 3300., 3500., 3700., 3900.,\n",
       "         4100., 4300., 4500., 4700., 4900., 5100., 5300., 5500., 5700.,\n",
       "         5900., 6100., 6300., 6500., 6700., 6900., 7100., 7300., 7500.]],\n",
       "\n",
       "       [[ 500.,  700.,  900., 1100., 1300., 1500., 1700., 1900., 2100.,\n",
       "         2300., 2500., 2700., 2900., 3100., 3300., 3500., 3700., 3900.,\n",
       "         4100., 4300., 4500., 4700., 4900., 5100., 5300., 5500., 5700.,\n",
       "         5900., 6100., 6300., 6500., 6700., 6900., 7100., 7300., 7500.]],\n",
       "\n",
       "       [[ 500.,  700.,  900., 1100., 1300., 1500., 1700., 1900., 2100.,\n",
       "         2300., 2500., 2700., 2900., 3100., 3300., 3500., 3700., 3900.,\n",
       "         4100., 4300., 4500., 4700., 4900., 5100., 5300., 5500., 5700.,\n",
       "         5900., 6100., 6300., 6500., 6700., 6900., 7100., 7300., 7500.]],\n",
       "\n",
       "       [[ 500.,  700.,  900., 1100., 1300., 1500., 1700., 1900., 2100.,\n",
       "         2300., 2500., 2700., 2900., 3100., 3300., 3500., 3700., 3900.,\n",
       "         4100., 4300., 4500., 4700., 4900., 5100., 5300., 5500., 5700.,\n",
       "         5900., 6100., 6300., 6500., 6700., 6900., 7100., 7300., 7500.]],\n",
       "\n",
       "       [[ 500.,  700.,  900., 1100., 1300., 1500., 1700., 1900., 2100.,\n",
       "         2300., 2500., 2700., 2900., 3100., 3300., 3500., 3700., 3900.,\n",
       "         4100., 4300., 4500., 4700., 4900., 5100., 5300., 5500., 5700.,\n",
       "         5900., 6100., 6300., 6500., 6700., 6900., 7100., 7300., 7500.]],\n",
       "\n",
       "       [[ 500.,  700.,  900., 1100., 1300., 1500., 1700., 1900., 2100.,\n",
       "         2300., 2500., 2700., 2900., 3100., 3300., 3500., 3700., 3900.,\n",
       "         4100., 4300., 4500., 4700., 4900., 5100., 5300., 5500., 5700.,\n",
       "         5900., 6100., 6300., 6500., 6700., 6900., 7100., 7300., 7500.]],\n",
       "\n",
       "       [[ 500.,  700.,  900., 1100., 1300., 1500., 1700., 1900., 2100.,\n",
       "         2300., 2500., 2700., 2900., 3100., 3300., 3500., 3700., 3900.,\n",
       "         4100., 4300., 4500., 4700., 4900., 5100., 5300., 5500., 5700.,\n",
       "         5900., 6100., 6300., 6500., 6700., 6900., 7100., 7300., 7500.]],\n",
       "\n",
       "       [[ 500.,  700.,  900., 1100., 1300., 1500., 1700., 1900., 2100.,\n",
       "         2300., 2500., 2700., 2900., 3100., 3300., 3500., 3700., 3900.,\n",
       "         4100., 4300., 4500., 4700., 4900., 5100., 5300., 5500., 5700.,\n",
       "         5900., 6100., 6300., 6500., 6700., 6900., 7100., 7300., 7500.]],\n",
       "\n",
       "       [[ 500.,  700.,  900., 1100., 1300., 1500., 1700., 1900., 2100.,\n",
       "         2300., 2500., 2700., 2900., 3100., 3300., 3500., 3700., 3900.,\n",
       "         4100., 4300., 4500., 4700., 4900., 5100., 5300., 5500., 5700.,\n",
       "         5900., 6100., 6300., 6500., 6700., 6900., 7100., 7300., 7500.]],\n",
       "\n",
       "       [[ 500.,  700.,  900., 1100., 1300., 1500., 1700., 1900., 2100.,\n",
       "         2300., 2500., 2700., 2900., 3100., 3300., 3500., 3700., 3900.,\n",
       "         4100., 4300., 4500., 4700., 4900., 5100., 5300., 5500., 5700.,\n",
       "         5900., 6100., 6300., 6500., 6700., 6900., 7100., 7300., 7500.]],\n",
       "\n",
       "       [[ 500.,  700.,  900., 1100., 1300., 1500., 1700., 1900., 2100.,\n",
       "         2300., 2500., 2700., 2900., 3100., 3300., 3500., 3700., 3900.,\n",
       "         4100., 4300., 4500., 4700., 4900., 5100., 5300., 5500., 5700.,\n",
       "         5900., 6100., 6300., 6500., 6700., 6900., 7100., 7300., 7500.]],\n",
       "\n",
       "       [[ 500.,  700.,  900., 1100., 1300., 1500., 1700., 1900., 2100.,\n",
       "         2300., 2500., 2700., 2900., 3100., 3300., 3500., 3700., 3900.,\n",
       "         4100., 4300., 4500., 4700., 4900., 5100., 5300., 5500., 5700.,\n",
       "         5900., 6100., 6300., 6500., 6700., 6900., 7100., 7300., 7500.]],\n",
       "\n",
       "       [[ 500.,  700.,  900., 1100., 1300., 1500., 1700., 1900., 2100.,\n",
       "         2300., 2500., 2700., 2900., 3100., 3300., 3500., 3700., 3900.,\n",
       "         4100., 4300., 4500., 4700., 4900., 5100., 5300., 5500., 5700.,\n",
       "         5900., 6100., 6300., 6500., 6700., 6900., 7100., 7300., 7500.]]])"
      ]
     },
     "execution_count": 32,
     "metadata": {},
     "output_type": "execute_result"
    }
   ],
   "source": [
    "res['P']"
   ]
  },
  {
   "cell_type": "code",
   "execution_count": 33,
   "id": "b876a4ac",
   "metadata": {},
   "outputs": [
    {
     "data": {
      "text/plain": [
       "Text(0, 0.5, 'Calculated H$_{2}$O (wt%)')"
      ]
     },
     "execution_count": 33,
     "metadata": {},
     "output_type": "execute_result"
    },
    {
     "data": {
      "image/png": "[encoded data removed]",
      "text/plain": [
       "<Figure size 720x324 with 2 Axes>"
      ]
     },
     "metadata": {
      "needs_background": "light"
     },
     "output_type": "display_data"
    }
   ],
   "source": [
    "f, a = plt.subplots(1,2, figsize = (10,4.5))\n",
    "#a[0].plot(Comp['P_kbar_true'], Comp['P_kbar_max'], '^k', markerfacecolor = 'red', markersize = 10, alpha = 0.6)\n",
    "#a[0].plot(Comp['P_kbar_true'], Comp['P_kbar_min'], 'vk', markerfacecolor = 'yellow', markersize = 10, alpha = 0.6)\n",
    "a[0].plot(Comp['P_kbar_true'], Comp['P_kbar_calc'], 'ok', markerfacecolor = 'blue', markersize = 8)\n",
    "a[0].plot(Comp['P_kbar_true'], Comp['P_kbar_curve'], 'dk', markerfacecolor = 'red', markersize = 8)\n",
    "a[0].plot([0,7.5],[0,7.5], '-k')\n",
    "a[0].set_xlabel('Experimental P (kbar)')\n",
    "a[0].set_ylabel('Calculated P (kbar)')\n",
    "\n",
    "\n",
    "#a[1].plot(Comp['H2O_Liq'], Comp['H2O_max'], '^k', markerfacecolor = 'red', markersize = 10, alpha = 0.6)\n",
    "#a[1].plot(Comp['H2O_Liq'], Comp['H2O_min'], 'vk', markerfacecolor = 'yellow', markersize = 10, alpha = 0.6)\n",
    "a[1].plot(Comp['H2O_Liq'], Comp['H2O_calc'], 'ok', markerfacecolor = 'blue', markersize = 8)\n",
    "a[1].plot(Comp['H2O_Liq'], Comp['H2O_curve'], 'dk', markerfacecolor = 'red', markersize = 8)\n",
    "a[1].plot([0,6],[0,6], '-k')\n",
    "a[1].set_xlabel('Experiemental H$_{2}$O (wt%)')\n",
    "a[1].set_ylabel('Calculated H$_{2}$O (wt%)')"
   ]
  },
  {
   "cell_type": "code",
   "execution_count": 34,
   "id": "c828e7a0",
   "metadata": {},
   "outputs": [],
   "source": [
    "Comp['H2O_offset'] = Comp['H2O_Liq'] - Comp['H2O_calc']\n",
    "Comp['P_kbar_offset'] = Comp['P_kbar_true'] - Comp['P_kbar_calc']"
   ]
  },
  {
   "cell_type": "code",
   "execution_count": 42,
   "id": "7fab7447",
   "metadata": {},
   "outputs": [
    {
     "data": {
      "text/plain": [
       "[<matplotlib.lines.Line2D at 0x2a37fa50dc0>]"
      ]
     },
     "execution_count": 42,
     "metadata": {},
     "output_type": "execute_result"
    },
    {
     "data": {
      "image/png": "[encoded data removed]",
      "text/plain": [
       "<Figure size 720x324 with 2 Axes>"
      ]
     },
     "metadata": {
      "needs_background": "light"
     },
     "output_type": "display_data"
    }
   ],
   "source": [
    "f, a = plt.subplots(1,2, figsize = (10,4.5))\n",
    "a[0].plot(Comp['P_kbar_offset'], Comp['_Liq'], 'ok')"
   ]
  },
  {
   "cell_type": "code",
   "execution_count": null,
   "id": "c8b04bdc",
   "metadata": {},
   "outputs": [],
   "source": [
    "#Comp.to_excel('P2P_results.xlsx')\n",
    "H2O_Liq = np.linspace(0.1, 6, 14)\n",
    "phases = ['plagioclase1', 'clinopyroxene1', 'orthopyroxene1']\n",
    "Results = M.findSaturationPressure(comp = Comp.loc[1].to_dict(), \n",
    "                                   Model = \"MELTSv1.0.2\", \n",
    "                                   cores = 20,\n",
    "                                   phases = phases,\n",
    "                                   P_bar = P_bar, \n",
    "                                   T_initial_C = 1100,\n",
    "                                   dt_C = 50, \n",
    "                                   T_step_C = 1, \n",
    "                                   T_cut_C = 12,\n",
    "                                   H2O_Liq = H2O_Liq,\n",
    "                                   find_range = True,\n",
    "                                  find_min = True)"
   ]
  },
  {
   "cell_type": "code",
   "execution_count": null,
   "id": "dc10ef60",
   "metadata": {},
   "outputs": [],
   "source": []
  }
 ],
 "metadata": {
  "kernelspec": {
   "display_name": "Python 3 (ipykernel)",
   "language": "python",
   "name": "python3"
  },
  "language_info": {
   "codemirror_mode": {
    "name": "ipython",
    "version": 3
   },
   "file_extension": ".py",
   "mimetype": "text/x-python",
   "name": "python",
   "nbconvert_exporter": "python",
   "pygments_lexer": "ipython3",
   "version": "3.9.7"
  }
 },
 "nbformat": 4,
 "nbformat_minor": 5
}
