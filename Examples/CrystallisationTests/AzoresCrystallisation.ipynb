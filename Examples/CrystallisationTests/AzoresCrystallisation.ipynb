{
 "cells": [
  {
   "cell_type": "code",
   "execution_count": 1,
   "id": "f7d50d2d",
   "metadata": {},
   "outputs": [],
   "source": [
    "import numpy as np\n",
    "import pandas as pd\n",
    "import sys\n",
    "import matplotlib.pyplot as plt\n",
    "import pyMELTScalc as M\n",
    "\n",
    "sys.path.append(r'G:\\My Drive\\2022\\GitHub\\pyMELTScalc\\MELTS')\n",
    "\n",
    "import time\n",
    "import random"
   ]
  },
  {
   "cell_type": "code",
   "execution_count": 2,
   "id": "e7a4a55b",
   "metadata": {},
   "outputs": [
    {
     "data": {
      "text/plain": [
       "'0.0.7dev2'"
      ]
     },
     "execution_count": 2,
     "metadata": {},
     "output_type": "execute_result"
    }
   ],
   "source": [
    "M.__version__"
   ]
  },
  {
   "cell_type": "code",
   "execution_count": 3,
   "id": "c8a80262",
   "metadata": {},
   "outputs": [],
   "source": [
    "Data = pd.read_excel('AzoresDataset\\Azores.xlsx')\n",
    "Loc = Data['LOCATION'].str.split(pat = \"/\")"
   ]
  },
  {
   "cell_type": "code",
   "execution_count": 4,
   "id": "843bb3f6",
   "metadata": {},
   "outputs": [
    {
     "name": "stderr",
     "output_type": "stream",
     "text": [
      "C:\\Users\\mattg\\anaconda3\\lib\\site-packages\\pandas\\core\\indexing.py:1732: SettingWithCopyWarning: \n",
      "A value is trying to be set on a copy of a slice from a DataFrame\n",
      "\n",
      "See the caveats in the documentation: https://pandas.pydata.org/pandas-docs/stable/user_guide/indexing.html#returning-a-view-versus-a-copy\n",
      "  self._setitem_single_block(indexer, value, name)\n"
     ]
    }
   ],
   "source": [
    "Azores = pd.DataFrame(np.zeros((len(Data['LOCATION']), 11)), columns = ['Location', 'Stage', 'SiO2', 'TiO2', 'Al2O3', \n",
    "                                                                     'FeOt', 'MgO', 'CaO', 'Na2O', 'K2O', 'P2O5'])\n",
    "\n",
    "for i in range(len(Azores['SiO2'])):\n",
    "    Azores['Location'].loc[i] = Loc[i][1]\n",
    "    if len(Loc[i])>2:\n",
    "        Azores['Stage'].loc[i] = Loc[i][-1]\n",
    "    \n",
    "for c in Azores.columns[2:]:\n",
    "    Azores[c] = Data[c] "
   ]
  },
  {
   "cell_type": "code",
   "execution_count": 5,
   "id": "de893e27",
   "metadata": {},
   "outputs": [],
   "source": [
    "Azores['Location'] = Azores['Location'].str.rstrip()\n",
    "Loc = ' SAO MIGUEL'"
   ]
  },
  {
   "cell_type": "code",
   "execution_count": 6,
   "id": "2c58918a",
   "metadata": {},
   "outputs": [],
   "source": [
    "SM = Azores.copy()\n",
    "SM = SM[SM['Location'] == Loc]\n",
    "\n",
    "Elements = ['SiO2', 'TiO2', 'Al2O3', 'FeOt', 'MgO', 'CaO', 'Na2O', 'K2O', 'P2O5']\n",
    "Comp = SM[Elements][(SM['SiO2'] > 45) & (SM['SiO2']< 55)].mean()\n",
    "\n",
    "Comp = Comp.to_dict()\n",
    "Comp['MnO'] = 0.0\n",
    "Comp['CO2'] = 0.0\n",
    "Comp['H2O'] = 1.0\n",
    "Comp = {str(key) + '_Liq': val for key, val in Comp.items()}\n",
    "#Comp['Fe3Fet'] = 0.15"
   ]
  },
  {
   "cell_type": "code",
   "execution_count": null,
   "id": "423c3ba3",
   "metadata": {},
   "outputs": [
    {
     "name": "stdout",
     "output_type": "stream",
     "text": [
      "Running MELTSv1.2.0 calculation..."
     ]
    }
   ],
   "source": [
    "# example of performing a single calculation\n",
    "P = 1000\n",
    "Results = M.multi_iso_crystallise(Model = \"MELTSv1.2.0\", comp = Comp, Frac_solid = True, Frac_fluid = True, \n",
    "                         T_start_C = 1200, T_end_C = 750, dt_C = 5, P_path_bar = P, Fe3Fet_Liq = 0.15, find_liquidus = True)"
   ]
  },
  {
   "cell_type": "code",
   "execution_count": null,
   "id": "d0a6cbfd",
   "metadata": {},
   "outputs": [],
   "source": [
    "M.harker(Results = Results, x_axis = \"MgO\", y_axis = [\"SiO2\", \"TiO2\", \"Al2O3\", \"FeOt\", \"CaO\"], phase = \"liquid1\", data = SM)"
   ]
  },
  {
   "cell_type": "code",
   "execution_count": null,
   "id": "541101dd",
   "metadata": {},
   "outputs": [],
   "source": [
    "P = np.linspace(1000, 8000, 16)"
   ]
  },
  {
   "cell_type": "code",
   "execution_count": null,
   "id": "e8d24147",
   "metadata": {},
   "outputs": [],
   "source": [
    "Core = np.array([16, 12, 8, 6, 4, 2, 1])\n",
    "Time = np.zeros(len(Core))\n",
    "for i in range(len(Core)):\n",
    "    Start = time.time()\n",
    "    Results = M.multi_iso_crystallise(cores = Core[i], Model = \"MELTSv1.0.2\", comp = Comp, Frac_solid = True, Frac_fluid = True, \n",
    "                             T_start_C = 1200, T_end_C = 750, dt_C = 2, P_path_bar = P, find_liquidus = True)\n",
    "    Time[i] = time.time() - Start\n",
    "\n",
    "    f, a = plt.subplots(1,1)\n",
    "    a.plot(Azores['SiO2'][Azores['Location'] == Loc], Azores['Na2O'][Azores['Location'] == Loc] + \n",
    "          Azores['K2O'][Azores['Location'] == Loc], 'o', label = Loc)\n",
    "    \n",
    "    a.set_title('Processes in Parallel = ' + str(Core[i]))\n",
    "    a.set_xlabel('SiO$_{2}$ (wt%)')\n",
    "    a.set_ylabel('Na$_{2}$O + K$_{2}$O (wt%)')\n",
    "\n",
    "    for R in Results:\n",
    "        a.plot(Results[R]['All']['SiO2_Liq'], Results[R]['All']['Na2O_Liq'] + Results[R]['All']['K2O_Liq'], '-k')"
   ]
  },
  {
   "cell_type": "code",
   "execution_count": null,
   "id": "532c0f77",
   "metadata": {},
   "outputs": [],
   "source": [
    "f, a = plt.subplots(2,1, figsize = (5, 8))\n",
    "a[0].plot(Core, Time, 'ok', markerfacecolor = 'red')\n",
    "a[0].set_ylabel('Time (s)')\n",
    "\n",
    "a[1].plot(Core, 100*Time/Time[-1], 'ok', markerfacecolor = 'red')\n",
    "a[1].set_ylabel('% Time (rel. to processes = 1)')\n",
    "a[1].set_xlabel('Number of Parallel Processes')"
   ]
  },
  {
   "cell_type": "code",
   "execution_count": null,
   "id": "de8daf23",
   "metadata": {},
   "outputs": [],
   "source": [
    "Core = np.array([8, 6, 4, 2, 1])\n",
    "Time = np.zeros(len(Core))\n",
    "for i in range(len(Core)):\n",
    "    Start = time.time()\n",
    "    Results = M.multi_iso_crystallise(cores = Core[i], Model = \"MELTSv1.0.2\", comp = Comp, Frac_solid = True, Frac_fluid = True, \n",
    "                             T_start_C = 1200, T_end_C = 750, dt_C = 2, P_bar = P, find_liquidus = True)\n",
    "    Time[i] = time.time() - Start\n",
    "\n",
    "    f, a = plt.subplots(1,1)\n",
    "    a.plot(Azores['SiO2'][Azores['Location'] == Loc], Azores['Na2O'][Azores['Location'] == Loc] + \n",
    "          Azores['K2O'][Azores['Location'] == Loc], 'o', label = Loc)\n",
    "    \n",
    "    a.set_title('Processes in Parallel = ' + str(Core[i]))\n",
    "    a.set_xlabel('SiO$_{2}$ (wt%)')\n",
    "    a.set_ylabel('Na$_{2}$O + K$_{2}$O (wt%)')\n",
    "\n",
    "    for R in Results:\n",
    "        a.plot(Results[R]['All']['SiO2_Liq'], Results[R]['All']['Na2O_Liq'] + Results[R]['All']['K2O_Liq'], '-k')"
   ]
  },
  {
   "cell_type": "code",
   "execution_count": null,
   "id": "de56e30a",
   "metadata": {},
   "outputs": [],
   "source": [
    "f, a = plt.subplots(2,1, figsize = (5, 8))\n",
    "a[0].plot(Core, Time, 'ok', markerfacecolor = 'red')\n",
    "a[0].set_ylabel('Time (s)')\n",
    "\n",
    "a[1].plot(Core, 100*Time/Time[-1], 'ok', markerfacecolor = 'red')\n",
    "a[1].set_ylabel('% Time (rel. to processes = 1)')\n",
    "a[1].set_xlabel('Number of Parallel Processes')"
   ]
  }
 ],
 "metadata": {
  "kernelspec": {
   "display_name": "Python 3 (ipykernel)",
   "language": "python",
   "name": "python3"
  },
  "language_info": {
   "codemirror_mode": {
    "name": "ipython",
    "version": 3
   },
   "file_extension": ".py",
   "mimetype": "text/x-python",
   "name": "python",
   "nbconvert_exporter": "python",
   "pygments_lexer": "ipython3",
   "version": "3.9.7"
  }
 },
 "nbformat": 4,
 "nbformat_minor": 5
}
