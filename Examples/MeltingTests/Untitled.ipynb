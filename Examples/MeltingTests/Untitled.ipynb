{
 "cells": [
  {
   "cell_type": "code",
   "execution_count": 1,
   "id": "b1926bb1-d94f-47b9-8912-709703722fbb",
   "metadata": {},
   "outputs": [
    {
     "data": {
      "text/plain": [
       "'0.0.6'"
      ]
     },
     "execution_count": 1,
     "metadata": {},
     "output_type": "execute_result"
    }
   ],
   "source": [
    "import numpy as np\n",
    "import pandas as pd\n",
    "import matplotlib.pyplot as plt\n",
    "import pyMAGEMINcalc as MM\n",
    "\n",
    "MM.__version__"
   ]
  },
  {
   "cell_type": "code",
   "execution_count": 67,
   "id": "bf2caf18-0556-4e7a-8e15-618129c1fd4b",
   "metadata": {},
   "outputs": [],
   "source": [
    "comp = {'SiO2_Liq': 44.48,\n",
    "        'TiO2_Liq': 0.16,\n",
    "        'Al2O3_Liq': 3.59,\n",
    "        'FeOt_Liq': 8.10,\n",
    "        'MgO_Liq': 39.22,\n",
    "        'CaO_Liq': 3.44,\n",
    "        'Na2O_Liq': 0.30,\n",
    "        'K2O_Liq': 0.02,\n",
    "        'Cr2O3_Liq': 0.42,\n",
    "        'H2O_Liq': 0.00,\n",
    "        'Fe3Fet_Liq': 0.065}\n",
    "\n",
    "# comp = {'SiO2_Liq': 47.0,\n",
    "#         'TiO2_Liq': 0.78,\n",
    "#         'Al2O3_Liq': 9.75,\n",
    "#         'FeOt_Liq': 9.77,\n",
    "#         'MgO_Liq': 23.6,\n",
    "#         'CaO_Liq': 7.35,\n",
    "#         'Na2O_Liq': 1.52,\n",
    "#         'K2O_Liq': 0.12,\n",
    "#         'Cr2O3_Liq': 0.20,\n",
    "#         'H2O_Liq': 0.0,\n",
    "#         'Fe3Fet_Liq': 0.045}"
   ]
  },
  {
   "cell_type": "code",
   "execution_count": 68,
   "id": "52c98921-1f5a-47d4-ae99-4f8f934e8daf",
   "metadata": {},
   "outputs": [
    {
     "data": {
      "text/plain": [
       "0.05826793469183243"
      ]
     },
     "execution_count": 68,
     "metadata": {},
     "output_type": "execute_result"
    }
   ],
   "source": [
    "comp['Fe3Fet_Liq']*(((159.59/2)/71.844)*comp['FeOt_Liq'] - comp['FeOt_Liq'])"
   ]
  },
  {
   "cell_type": "code",
   "execution_count": 69,
   "id": "e50013af-2745-4003-a92b-97d8bff61176",
   "metadata": {},
   "outputs": [],
   "source": [
    "Results = MM.AdiabaticDecompressionMelting(comp = comp, \n",
    "                                           T_p_C = 1450.0, \n",
    "                                           P_start_kbar = 50.0, \n",
    "                                           P_end_kbar = 30.0, \n",
    "                                           dp_kbar = 0.2)"
   ]
  },
  {
   "cell_type": "code",
   "execution_count": 70,
   "id": "b0c2b9f1-c9cc-4f4f-9a5c-bf9420b65c38",
   "metadata": {},
   "outputs": [],
   "source": [
    "for i in Results:\n",
    "    if \"_prop\" not in i:\n",
    "        if i != \"sys\" and i != \"Conditions\":\n",
    "            Tot = Results[i].sum(axis = 1)\n",
    "            for el in Results[i]:\n",
    "                Results[i][el] = 100*Results[i][el]/Tot"
   ]
  },
  {
   "cell_type": "code",
   "execution_count": 71,
   "id": "0bbfde58",
   "metadata": {},
   "outputs": [],
   "source": [
    "for i in Results:\n",
    "    if \"_prop\" not in i:\n",
    "        if i != \"sys\" and i != \"Conditions\":\n",
    "            for el in Results[i]:\n",
    "                Results[i]['Fe3Fet'] = Results[i]['O']/(((159.9/2)/71.844)*Results[i]['FeO'] -\n",
    "                                                        Results[i]['FeO'])"
   ]
  },
  {
   "cell_type": "code",
   "execution_count": 72,
   "id": "0efd1b65",
   "metadata": {},
   "outputs": [],
   "source": [
    "Results[\"Mass\"] = pd.DataFrame()\n",
    "for i in Results:\n",
    "    if \"_prop\" in i:\n",
    "        Results['Mass'][i[:-5]] = Results[i]['Mass']"
   ]
  },
  {
   "cell_type": "code",
   "execution_count": 73,
   "id": "c520f9f2",
   "metadata": {},
   "outputs": [],
   "source": [
    "import FeIsotopeCalc as dfe"
   ]
  },
  {
   "cell_type": "code",
   "execution_count": 74,
   "id": "3abd323c",
   "metadata": {},
   "outputs": [
    {
     "name": "stderr",
     "output_type": "stream",
     "text": [
      "h:\\my drive\\2022\\github\\feisotopecalc\\src\\FeIsotopeCalc\\main.py:76: SettingWithCopyWarning: \n",
      "A value is trying to be set on a copy of a slice from a DataFrame\n",
      "\n",
      "See the caveats in the documentation: https://pandas.pydata.org/pandas-docs/stable/user_guide/indexing.html#returning-a-view-versus-a-copy\n",
      "  Frac[s][np.where(np.isnan(Frac[s]))] = 0\n",
      "h:\\my drive\\2022\\github\\feisotopecalc\\src\\FeIsotopeCalc\\main.py:76: SettingWithCopyWarning: \n",
      "A value is trying to be set on a copy of a slice from a DataFrame\n",
      "\n",
      "See the caveats in the documentation: https://pandas.pydata.org/pandas-docs/stable/user_guide/indexing.html#returning-a-view-versus-a-copy\n",
      "  Frac[s][np.where(np.isnan(Frac[s]))] = 0\n",
      "h:\\my drive\\2022\\github\\feisotopecalc\\src\\FeIsotopeCalc\\main.py:76: SettingWithCopyWarning: \n",
      "A value is trying to be set on a copy of a slice from a DataFrame\n",
      "\n",
      "See the caveats in the documentation: https://pandas.pydata.org/pandas-docs/stable/user_guide/indexing.html#returning-a-view-versus-a-copy\n",
      "  Frac[s][np.where(np.isnan(Frac[s]))] = 0\n",
      "h:\\my drive\\2022\\github\\feisotopecalc\\src\\FeIsotopeCalc\\main.py:76: SettingWithCopyWarning: \n",
      "A value is trying to be set on a copy of a slice from a DataFrame\n",
      "\n",
      "See the caveats in the documentation: https://pandas.pydata.org/pandas-docs/stable/user_guide/indexing.html#returning-a-view-versus-a-copy\n",
      "  Frac[s][np.where(np.isnan(Frac[s]))] = 0\n"
     ]
    }
   ],
   "source": [
    "delta56Fe_offset = dfe.calc_56Fe54Fe_all_phases(Results[\"Conditions\"], \n",
    "                                                   Results[\"Mass\"], \n",
    "                                                   Results)"
   ]
  },
  {
   "cell_type": "code",
   "execution_count": 75,
   "id": "295160aa",
   "metadata": {},
   "outputs": [
    {
     "data": {
      "text/html": [
       "<div>\n",
       "<style scoped>\n",
       "    .dataframe tbody tr th:only-of-type {\n",
       "        vertical-align: middle;\n",
       "    }\n",
       "\n",
       "    .dataframe tbody tr th {\n",
       "        vertical-align: top;\n",
       "    }\n",
       "\n",
       "    .dataframe thead th {\n",
       "        text-align: right;\n",
       "    }\n",
       "</style>\n",
       "<table border=\"1\" class=\"dataframe\">\n",
       "  <thead>\n",
       "    <tr style=\"text-align: right;\">\n",
       "      <th></th>\n",
       "      <th>ol</th>\n",
       "      <th>g</th>\n",
       "      <th>opx</th>\n",
       "      <th>cpx</th>\n",
       "      <th>liq</th>\n",
       "    </tr>\n",
       "  </thead>\n",
       "  <tbody>\n",
       "    <tr>\n",
       "      <th>0</th>\n",
       "      <td>-0.007731</td>\n",
       "      <td>0.001989</td>\n",
       "      <td>0.034526</td>\n",
       "      <td>0.043426</td>\n",
       "      <td>NaN</td>\n",
       "    </tr>\n",
       "    <tr>\n",
       "      <th>1</th>\n",
       "      <td>-0.007747</td>\n",
       "      <td>0.001957</td>\n",
       "      <td>0.034612</td>\n",
       "      <td>0.043401</td>\n",
       "      <td>NaN</td>\n",
       "    </tr>\n",
       "    <tr>\n",
       "      <th>2</th>\n",
       "      <td>-0.007764</td>\n",
       "      <td>0.001925</td>\n",
       "      <td>0.034699</td>\n",
       "      <td>0.043376</td>\n",
       "      <td>NaN</td>\n",
       "    </tr>\n",
       "    <tr>\n",
       "      <th>3</th>\n",
       "      <td>-0.007779</td>\n",
       "      <td>0.001889</td>\n",
       "      <td>0.034785</td>\n",
       "      <td>0.043348</td>\n",
       "      <td>NaN</td>\n",
       "    </tr>\n",
       "    <tr>\n",
       "      <th>4</th>\n",
       "      <td>-0.007796</td>\n",
       "      <td>0.001855</td>\n",
       "      <td>0.034873</td>\n",
       "      <td>0.043324</td>\n",
       "      <td>NaN</td>\n",
       "    </tr>\n",
       "    <tr>\n",
       "      <th>...</th>\n",
       "      <td>...</td>\n",
       "      <td>...</td>\n",
       "      <td>...</td>\n",
       "      <td>...</td>\n",
       "      <td>...</td>\n",
       "    </tr>\n",
       "    <tr>\n",
       "      <th>95</th>\n",
       "      <td>-0.010998</td>\n",
       "      <td>-0.008579</td>\n",
       "      <td>0.042900</td>\n",
       "      <td>0.042543</td>\n",
       "      <td>NaN</td>\n",
       "    </tr>\n",
       "    <tr>\n",
       "      <th>96</th>\n",
       "      <td>-0.011081</td>\n",
       "      <td>-0.008905</td>\n",
       "      <td>0.042845</td>\n",
       "      <td>0.042450</td>\n",
       "      <td>0.034990</td>\n",
       "    </tr>\n",
       "    <tr>\n",
       "      <th>97</th>\n",
       "      <td>-0.011203</td>\n",
       "      <td>-0.009362</td>\n",
       "      <td>0.042604</td>\n",
       "      <td>0.042229</td>\n",
       "      <td>0.034725</td>\n",
       "    </tr>\n",
       "    <tr>\n",
       "      <th>98</th>\n",
       "      <td>-0.011335</td>\n",
       "      <td>-0.009838</td>\n",
       "      <td>0.042336</td>\n",
       "      <td>0.041986</td>\n",
       "      <td>0.034436</td>\n",
       "    </tr>\n",
       "    <tr>\n",
       "      <th>99</th>\n",
       "      <td>-0.011470</td>\n",
       "      <td>-0.010327</td>\n",
       "      <td>0.042048</td>\n",
       "      <td>0.041729</td>\n",
       "      <td>0.034214</td>\n",
       "    </tr>\n",
       "  </tbody>\n",
       "</table>\n",
       "<p>100 rows × 5 columns</p>\n",
       "</div>"
      ],
      "text/plain": [
       "          ol         g       opx       cpx       liq\n",
       "0  -0.007731  0.001989  0.034526  0.043426       NaN\n",
       "1  -0.007747  0.001957  0.034612  0.043401       NaN\n",
       "2  -0.007764  0.001925  0.034699  0.043376       NaN\n",
       "3  -0.007779  0.001889  0.034785  0.043348       NaN\n",
       "4  -0.007796  0.001855  0.034873  0.043324       NaN\n",
       "..       ...       ...       ...       ...       ...\n",
       "95 -0.010998 -0.008579  0.042900  0.042543       NaN\n",
       "96 -0.011081 -0.008905  0.042845  0.042450  0.034990\n",
       "97 -0.011203 -0.009362  0.042604  0.042229  0.034725\n",
       "98 -0.011335 -0.009838  0.042336  0.041986  0.034436\n",
       "99 -0.011470 -0.010327  0.042048  0.041729  0.034214\n",
       "\n",
       "[100 rows x 5 columns]"
      ]
     },
     "execution_count": 75,
     "metadata": {},
     "output_type": "execute_result"
    }
   ],
   "source": [
    "delta56Fe_offset"
   ]
  },
  {
   "cell_type": "code",
   "execution_count": 76,
   "id": "f45f2264",
   "metadata": {},
   "outputs": [
    {
     "data": {
      "text/plain": [
       "Text(0, 0.5, 'Pressure (GPa)')"
      ]
     },
     "execution_count": 76,
     "metadata": {},
     "output_type": "execute_result"
    },
    {
     "data": {
      "image/png": "[encoded data removed]",
      "text/plain": [
       "<Figure size 640x480 with 1 Axes>"
      ]
     },
     "metadata": {},
     "output_type": "display_data"
    }
   ],
   "source": [
    "f, a = plt.subplots(1,1)\n",
    "a.plot(delta56Fe_offset['liq'], Results['Conditions']['P_kbar']/10, '-k')\n",
    "a.set_ylim([8, 1])\n",
    "a.set_ylabel('Pressure (GPa)')"
   ]
  },
  {
   "cell_type": "code",
   "execution_count": 77,
   "id": "e3bd7108",
   "metadata": {},
   "outputs": [
    {
     "data": {
      "text/html": [
       "<div>\n",
       "<style scoped>\n",
       "    .dataframe tbody tr th:only-of-type {\n",
       "        vertical-align: middle;\n",
       "    }\n",
       "\n",
       "    .dataframe tbody tr th {\n",
       "        vertical-align: top;\n",
       "    }\n",
       "\n",
       "    .dataframe thead th {\n",
       "        text-align: right;\n",
       "    }\n",
       "</style>\n",
       "<table border=\"1\" class=\"dataframe\">\n",
       "  <thead>\n",
       "    <tr style=\"text-align: right;\">\n",
       "      <th></th>\n",
       "      <th>ol</th>\n",
       "      <th>g</th>\n",
       "      <th>opx</th>\n",
       "      <th>cpx</th>\n",
       "      <th>liq</th>\n",
       "    </tr>\n",
       "  </thead>\n",
       "  <tbody>\n",
       "    <tr>\n",
       "      <th>0</th>\n",
       "      <td>0.615203</td>\n",
       "      <td>0.151866</td>\n",
       "      <td>0.075035</td>\n",
       "      <td>0.157870</td>\n",
       "      <td>0.000000</td>\n",
       "    </tr>\n",
       "    <tr>\n",
       "      <th>1</th>\n",
       "      <td>0.615204</td>\n",
       "      <td>0.151617</td>\n",
       "      <td>0.074877</td>\n",
       "      <td>0.158276</td>\n",
       "      <td>0.000000</td>\n",
       "    </tr>\n",
       "    <tr>\n",
       "      <th>2</th>\n",
       "      <td>0.615205</td>\n",
       "      <td>0.151363</td>\n",
       "      <td>0.074721</td>\n",
       "      <td>0.158686</td>\n",
       "      <td>0.000000</td>\n",
       "    </tr>\n",
       "    <tr>\n",
       "      <th>3</th>\n",
       "      <td>0.615210</td>\n",
       "      <td>0.151106</td>\n",
       "      <td>0.074564</td>\n",
       "      <td>0.159101</td>\n",
       "      <td>0.000000</td>\n",
       "    </tr>\n",
       "    <tr>\n",
       "      <th>4</th>\n",
       "      <td>0.615211</td>\n",
       "      <td>0.150843</td>\n",
       "      <td>0.074410</td>\n",
       "      <td>0.159517</td>\n",
       "      <td>0.000000</td>\n",
       "    </tr>\n",
       "    <tr>\n",
       "      <th>...</th>\n",
       "      <td>...</td>\n",
       "      <td>...</td>\n",
       "      <td>...</td>\n",
       "      <td>...</td>\n",
       "      <td>...</td>\n",
       "    </tr>\n",
       "    <tr>\n",
       "      <th>95</th>\n",
       "      <td>0.615443</td>\n",
       "      <td>0.083959</td>\n",
       "      <td>0.082192</td>\n",
       "      <td>0.218378</td>\n",
       "      <td>0.000000</td>\n",
       "    </tr>\n",
       "    <tr>\n",
       "      <th>96</th>\n",
       "      <td>0.615316</td>\n",
       "      <td>0.082106</td>\n",
       "      <td>0.083523</td>\n",
       "      <td>0.218546</td>\n",
       "      <td>0.000483</td>\n",
       "    </tr>\n",
       "    <tr>\n",
       "      <th>97</th>\n",
       "      <td>0.614781</td>\n",
       "      <td>0.079889</td>\n",
       "      <td>0.086844</td>\n",
       "      <td>0.216039</td>\n",
       "      <td>0.002424</td>\n",
       "    </tr>\n",
       "    <tr>\n",
       "      <th>98</th>\n",
       "      <td>0.614179</td>\n",
       "      <td>0.077558</td>\n",
       "      <td>0.090407</td>\n",
       "      <td>0.213228</td>\n",
       "      <td>0.004601</td>\n",
       "    </tr>\n",
       "    <tr>\n",
       "      <th>99</th>\n",
       "      <td>0.613543</td>\n",
       "      <td>0.075175</td>\n",
       "      <td>0.094109</td>\n",
       "      <td>0.210223</td>\n",
       "      <td>0.006923</td>\n",
       "    </tr>\n",
       "  </tbody>\n",
       "</table>\n",
       "<p>100 rows × 5 columns</p>\n",
       "</div>"
      ],
      "text/plain": [
       "          ol         g       opx       cpx       liq\n",
       "0   0.615203  0.151866  0.075035  0.157870  0.000000\n",
       "1   0.615204  0.151617  0.074877  0.158276  0.000000\n",
       "2   0.615205  0.151363  0.074721  0.158686  0.000000\n",
       "3   0.615210  0.151106  0.074564  0.159101  0.000000\n",
       "4   0.615211  0.150843  0.074410  0.159517  0.000000\n",
       "..       ...       ...       ...       ...       ...\n",
       "95  0.615443  0.083959  0.082192  0.218378  0.000000\n",
       "96  0.615316  0.082106  0.083523  0.218546  0.000483\n",
       "97  0.614781  0.079889  0.086844  0.216039  0.002424\n",
       "98  0.614179  0.077558  0.090407  0.213228  0.004601\n",
       "99  0.613543  0.075175  0.094109  0.210223  0.006923\n",
       "\n",
       "[100 rows x 5 columns]"
      ]
     },
     "execution_count": 77,
     "metadata": {},
     "output_type": "execute_result"
    }
   ],
   "source": [
    "Results['Mass']"
   ]
  },
  {
   "cell_type": "code",
   "execution_count": 78,
   "id": "ba872451",
   "metadata": {},
   "outputs": [
    {
     "data": {
      "text/plain": [
       "[<matplotlib.lines.Line2D at 0x1f1c4604d90>]"
      ]
     },
     "execution_count": 78,
     "metadata": {},
     "output_type": "execute_result"
    },
    {
     "data": {
      "image/png": "[encoded data removed]",
      "text/plain": [
       "<Figure size 640x480 with 1 Axes>"
      ]
     },
     "metadata": {},
     "output_type": "display_data"
    }
   ],
   "source": [
    "f, a = plt.subplots(1,1)\n",
    "a.plot(Results[\"liq_prop\"][\"Mass\"])"
   ]
  },
  {
   "cell_type": "code",
   "execution_count": 7,
   "id": "f1ee4116",
   "metadata": {},
   "outputs": [],
   "source": [
    "# import julia\n",
    "# julia.install()"
   ]
  },
  {
   "cell_type": "code",
   "execution_count": 66,
   "id": "0b65ec0f-e9e2-4c90-820b-00e2735b2788",
   "metadata": {},
   "outputs": [
    {
     "data": {
      "text/plain": [
       "Text(0, 0.5, 'Pressure (GPa)')"
      ]
     },
     "execution_count": 66,
     "metadata": {},
     "output_type": "execute_result"
    },
    {
     "data": {
      "image/png": "[encoded data removed]",
      "text/plain": [
       "<Figure size 640x480 with 1 Axes>"
      ]
     },
     "metadata": {},
     "output_type": "display_data"
    }
   ],
   "source": [
    "f, a = plt.subplots(1,1)\n",
    "a.plot(Results['liq_prop']['Mass'], Results['Conditions']['P_kbar']/10, '-k')\n",
    "a.set_ylim([8, 1])\n",
    "a.set_ylabel('Pressure (GPa)')"
   ]
  },
  {
   "cell_type": "code",
   "execution_count": 55,
   "id": "b826116b-577f-4370-975d-0aaad858cebc",
   "metadata": {},
   "outputs": [
    {
     "data": {
      "text/plain": [
       "Text(0, 0.5, 'Pressure (GPa)')"
      ]
     },
     "execution_count": 55,
     "metadata": {},
     "output_type": "execute_result"
    },
    {
     "data": {
      "image/png": "[encoded data removed]",
      "text/plain": [
       "<Figure size 640x480 with 1 Axes>"
      ]
     },
     "metadata": {},
     "output_type": "display_data"
    }
   ],
   "source": [
    "f, a = plt.subplots(1,1)\n",
    "a.plot(Results['cpx']['FeO'], Results['Conditions']['P_kbar']/10, '-k')\n",
    "a.set_ylim([8, 3])\n",
    "a.set_ylabel('Pressure (GPa)')"
   ]
  },
  {
   "cell_type": "code",
   "execution_count": 17,
   "id": "f181efaa",
   "metadata": {},
   "outputs": [
    {
     "data": {
      "text/plain": [
       "0      0.035510\n",
       "1      0.035555\n",
       "2      0.035605\n",
       "3      0.035651\n",
       "4      0.035697\n",
       "         ...   \n",
       "245    0.000000\n",
       "246    0.000000\n",
       "247    0.000000\n",
       "248    0.000000\n",
       "249    0.000000\n",
       "Name: FeO, Length: 250, dtype: float64"
      ]
     },
     "execution_count": 17,
     "metadata": {},
     "output_type": "execute_result"
    }
   ],
   "source": [
    "Results['cpx']['FeO']"
   ]
  },
  {
   "cell_type": "code",
   "execution_count": 11,
   "id": "ead8b15f",
   "metadata": {},
   "outputs": [
    {
     "ename": "KeyError",
     "evalue": "'Entropy'",
     "output_type": "error",
     "traceback": [
      "\u001b[1;31m---------------------------------------------------------------------------\u001b[0m",
      "\u001b[1;31mKeyError\u001b[0m                                  Traceback (most recent call last)",
      "\u001b[1;32m~\\AppData\\Roaming\\Python\\Python39\\site-packages\\pandas\\core\\indexes\\base.py\u001b[0m in \u001b[0;36mget_loc\u001b[1;34m(self, key)\u001b[0m\n\u001b[0;32m   3651\u001b[0m         \u001b[1;32mtry\u001b[0m\u001b[1;33m:\u001b[0m\u001b[1;33m\u001b[0m\u001b[1;33m\u001b[0m\u001b[0m\n\u001b[1;32m-> 3652\u001b[1;33m             \u001b[1;32mreturn\u001b[0m \u001b[0mself\u001b[0m\u001b[1;33m.\u001b[0m\u001b[0m_engine\u001b[0m\u001b[1;33m.\u001b[0m\u001b[0mget_loc\u001b[0m\u001b[1;33m(\u001b[0m\u001b[0mcasted_key\u001b[0m\u001b[1;33m)\u001b[0m\u001b[1;33m\u001b[0m\u001b[1;33m\u001b[0m\u001b[0m\n\u001b[0m\u001b[0;32m   3653\u001b[0m         \u001b[1;32mexcept\u001b[0m \u001b[0mKeyError\u001b[0m \u001b[1;32mas\u001b[0m \u001b[0merr\u001b[0m\u001b[1;33m:\u001b[0m\u001b[1;33m\u001b[0m\u001b[1;33m\u001b[0m\u001b[0m\n",
      "\u001b[1;32m~\\AppData\\Roaming\\Python\\Python39\\site-packages\\pandas\\_libs\\index.pyx\u001b[0m in \u001b[0;36mpandas._libs.index.IndexEngine.get_loc\u001b[1;34m()\u001b[0m\n",
      "\u001b[1;32m~\\AppData\\Roaming\\Python\\Python39\\site-packages\\pandas\\_libs\\index.pyx\u001b[0m in \u001b[0;36mpandas._libs.index.IndexEngine.get_loc\u001b[1;34m()\u001b[0m\n",
      "\u001b[1;32mpandas\\_libs\\hashtable_class_helper.pxi\u001b[0m in \u001b[0;36mpandas._libs.hashtable.PyObjectHashTable.get_item\u001b[1;34m()\u001b[0m\n",
      "\u001b[1;32mpandas\\_libs\\hashtable_class_helper.pxi\u001b[0m in \u001b[0;36mpandas._libs.hashtable.PyObjectHashTable.get_item\u001b[1;34m()\u001b[0m\n",
      "\u001b[1;31mKeyError\u001b[0m: 'Entropy'",
      "\nThe above exception was the direct cause of the following exception:\n",
      "\u001b[1;31mKeyError\u001b[0m                                  Traceback (most recent call last)",
      "\u001b[1;32m~\\AppData\\Local\\Temp\\ipykernel_10880\\2382430673.py\u001b[0m in \u001b[0;36m<module>\u001b[1;34m\u001b[0m\n\u001b[0;32m      1\u001b[0m \u001b[0mf\u001b[0m\u001b[1;33m,\u001b[0m \u001b[0ma\u001b[0m \u001b[1;33m=\u001b[0m \u001b[0mplt\u001b[0m\u001b[1;33m.\u001b[0m\u001b[0msubplots\u001b[0m\u001b[1;33m(\u001b[0m\u001b[1;36m1\u001b[0m\u001b[1;33m,\u001b[0m\u001b[1;36m1\u001b[0m\u001b[1;33m)\u001b[0m\u001b[1;33m\u001b[0m\u001b[1;33m\u001b[0m\u001b[0m\n\u001b[1;32m----> 2\u001b[1;33m \u001b[0ma\u001b[0m\u001b[1;33m.\u001b[0m\u001b[0mplot\u001b[0m\u001b[1;33m(\u001b[0m\u001b[0mResults\u001b[0m\u001b[1;33m[\u001b[0m\u001b[1;34m'Conditions'\u001b[0m\u001b[1;33m]\u001b[0m\u001b[1;33m[\u001b[0m\u001b[1;34m'Entropy'\u001b[0m\u001b[1;33m]\u001b[0m\u001b[1;33m,\u001b[0m \u001b[0mResults\u001b[0m\u001b[1;33m[\u001b[0m\u001b[1;34m'Conditions'\u001b[0m\u001b[1;33m]\u001b[0m\u001b[1;33m[\u001b[0m\u001b[1;34m'pressure'\u001b[0m\u001b[1;33m]\u001b[0m\u001b[1;33m/\u001b[0m\u001b[1;36m10000\u001b[0m\u001b[1;33m,\u001b[0m \u001b[1;34m'-k'\u001b[0m\u001b[1;33m)\u001b[0m\u001b[1;33m\u001b[0m\u001b[1;33m\u001b[0m\u001b[0m\n\u001b[0m\u001b[0;32m      3\u001b[0m \u001b[0ma\u001b[0m\u001b[1;33m.\u001b[0m\u001b[0mset_ylim\u001b[0m\u001b[1;33m(\u001b[0m\u001b[1;33m[\u001b[0m\u001b[1;36m4\u001b[0m\u001b[1;33m,\u001b[0m \u001b[1;36m0\u001b[0m\u001b[1;33m]\u001b[0m\u001b[1;33m)\u001b[0m\u001b[1;33m\u001b[0m\u001b[1;33m\u001b[0m\u001b[0m\n\u001b[0;32m      4\u001b[0m \u001b[0ma\u001b[0m\u001b[1;33m.\u001b[0m\u001b[0mset_ylabel\u001b[0m\u001b[1;33m(\u001b[0m\u001b[1;34m'Pressure (GPa)'\u001b[0m\u001b[1;33m)\u001b[0m\u001b[1;33m\u001b[0m\u001b[1;33m\u001b[0m\u001b[0m\n",
      "\u001b[1;32m~\\AppData\\Roaming\\Python\\Python39\\site-packages\\pandas\\core\\frame.py\u001b[0m in \u001b[0;36m__getitem__\u001b[1;34m(self, key)\u001b[0m\n\u001b[0;32m   3759\u001b[0m             \u001b[1;32mif\u001b[0m \u001b[0mself\u001b[0m\u001b[1;33m.\u001b[0m\u001b[0mcolumns\u001b[0m\u001b[1;33m.\u001b[0m\u001b[0mnlevels\u001b[0m \u001b[1;33m>\u001b[0m \u001b[1;36m1\u001b[0m\u001b[1;33m:\u001b[0m\u001b[1;33m\u001b[0m\u001b[1;33m\u001b[0m\u001b[0m\n\u001b[0;32m   3760\u001b[0m                 \u001b[1;32mreturn\u001b[0m \u001b[0mself\u001b[0m\u001b[1;33m.\u001b[0m\u001b[0m_getitem_multilevel\u001b[0m\u001b[1;33m(\u001b[0m\u001b[0mkey\u001b[0m\u001b[1;33m)\u001b[0m\u001b[1;33m\u001b[0m\u001b[1;33m\u001b[0m\u001b[0m\n\u001b[1;32m-> 3761\u001b[1;33m             \u001b[0mindexer\u001b[0m \u001b[1;33m=\u001b[0m \u001b[0mself\u001b[0m\u001b[1;33m.\u001b[0m\u001b[0mcolumns\u001b[0m\u001b[1;33m.\u001b[0m\u001b[0mget_loc\u001b[0m\u001b[1;33m(\u001b[0m\u001b[0mkey\u001b[0m\u001b[1;33m)\u001b[0m\u001b[1;33m\u001b[0m\u001b[1;33m\u001b[0m\u001b[0m\n\u001b[0m\u001b[0;32m   3762\u001b[0m             \u001b[1;32mif\u001b[0m \u001b[0mis_integer\u001b[0m\u001b[1;33m(\u001b[0m\u001b[0mindexer\u001b[0m\u001b[1;33m)\u001b[0m\u001b[1;33m:\u001b[0m\u001b[1;33m\u001b[0m\u001b[1;33m\u001b[0m\u001b[0m\n\u001b[0;32m   3763\u001b[0m                 \u001b[0mindexer\u001b[0m \u001b[1;33m=\u001b[0m \u001b[1;33m[\u001b[0m\u001b[0mindexer\u001b[0m\u001b[1;33m]\u001b[0m\u001b[1;33m\u001b[0m\u001b[1;33m\u001b[0m\u001b[0m\n",
      "\u001b[1;32m~\\AppData\\Roaming\\Python\\Python39\\site-packages\\pandas\\core\\indexes\\base.py\u001b[0m in \u001b[0;36mget_loc\u001b[1;34m(self, key)\u001b[0m\n\u001b[0;32m   3652\u001b[0m             \u001b[1;32mreturn\u001b[0m \u001b[0mself\u001b[0m\u001b[1;33m.\u001b[0m\u001b[0m_engine\u001b[0m\u001b[1;33m.\u001b[0m\u001b[0mget_loc\u001b[0m\u001b[1;33m(\u001b[0m\u001b[0mcasted_key\u001b[0m\u001b[1;33m)\u001b[0m\u001b[1;33m\u001b[0m\u001b[1;33m\u001b[0m\u001b[0m\n\u001b[0;32m   3653\u001b[0m         \u001b[1;32mexcept\u001b[0m \u001b[0mKeyError\u001b[0m \u001b[1;32mas\u001b[0m \u001b[0merr\u001b[0m\u001b[1;33m:\u001b[0m\u001b[1;33m\u001b[0m\u001b[1;33m\u001b[0m\u001b[0m\n\u001b[1;32m-> 3654\u001b[1;33m             \u001b[1;32mraise\u001b[0m \u001b[0mKeyError\u001b[0m\u001b[1;33m(\u001b[0m\u001b[0mkey\u001b[0m\u001b[1;33m)\u001b[0m \u001b[1;32mfrom\u001b[0m \u001b[0merr\u001b[0m\u001b[1;33m\u001b[0m\u001b[1;33m\u001b[0m\u001b[0m\n\u001b[0m\u001b[0;32m   3655\u001b[0m         \u001b[1;32mexcept\u001b[0m \u001b[0mTypeError\u001b[0m\u001b[1;33m:\u001b[0m\u001b[1;33m\u001b[0m\u001b[1;33m\u001b[0m\u001b[0m\n\u001b[0;32m   3656\u001b[0m             \u001b[1;31m# If we have a listlike key, _check_indexing_error will raise\u001b[0m\u001b[1;33m\u001b[0m\u001b[1;33m\u001b[0m\u001b[0m\n",
      "\u001b[1;31mKeyError\u001b[0m: 'Entropy'"
     ]
    },
    {
     "data": {
      "image/png": "[encoded data removed]",
      "text/plain": [
       "<Figure size 640x480 with 1 Axes>"
      ]
     },
     "metadata": {},
     "output_type": "display_data"
    }
   ],
   "source": [
    "f, a = plt.subplots(1,1)\n",
    "a.plot(Results['Conditions']['Entropy'], Results['Conditions']['pressure']/10000, '-k')\n",
    "a.set_ylim([4, 0])\n",
    "a.set_ylabel('Pressure (GPa)')"
   ]
  },
  {
   "cell_type": "code",
   "execution_count": null,
   "id": "f7eef042",
   "metadata": {},
   "outputs": [],
   "source": [
    "\n"
   ]
  }
 ],
 "metadata": {
  "kernelspec": {
   "display_name": "Python 3 (ipykernel)",
   "language": "python",
   "name": "python3"
  },
  "language_info": {
   "codemirror_mode": {
    "name": "ipython",
    "version": 3
   },
   "file_extension": ".py",
   "mimetype": "text/x-python",
   "name": "python",
   "nbconvert_exporter": "python",
   "pygments_lexer": "ipython3",
   "version": "3.9.13"
  }
 },
 "nbformat": 4,
 "nbformat_minor": 5
}
