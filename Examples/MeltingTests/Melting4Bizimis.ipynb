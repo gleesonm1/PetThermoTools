{
 "cells": [
  {
   "cell_type": "code",
   "execution_count": 1,
   "id": "83781bbf",
   "metadata": {},
   "outputs": [],
   "source": [
    "# import julia\n",
    "# julia.install()"
   ]
  },
  {
   "cell_type": "code",
   "execution_count": 1,
   "id": "f551ab11",
   "metadata": {},
   "outputs": [],
   "source": [
    "import numpy as np\n",
    "import pandas as pd\n",
    "import matplotlib.pyplot as plt\n",
    "# import pyMAGEMINcalc as MM\n",
    "import pyMELTScalc as M\n",
    "import pickle\n",
    "# MM.__version__\n",
    "\n",
    "import sys\n",
    "sys.path.append(r'H:\\My Drive\\2022\\GitHub\\pyMELTScalc\\MELTS')"
   ]
  },
  {
   "cell_type": "code",
   "execution_count": 59,
   "id": "ecc6db5a",
   "metadata": {},
   "outputs": [],
   "source": [
    "comp = {'SiO2': 49.84,\n",
    "       'TiO2': 0.65,\n",
    "       'Al2O3': 8.02,\n",
    "       'FeOt': 7.80,\n",
    "       'MgO': 13.55,\n",
    "       'CaO': 17.64,\n",
    "       'Na2O': 1.42,\n",
    "       'K2O': 0.0,\n",
    "       'Cr2O3': 0.025,\n",
    "       'H2O': 0.0,\n",
    "       'Fe3Fet': 0.252}"
   ]
  },
  {
   "cell_type": "code",
   "execution_count": 78,
   "id": "39fe4d04",
   "metadata": {},
   "outputs": [],
   "source": [
    "Results = M.AdiabaticDecompressionMelting(Model = \"Holland\", bulk = comp, Fe3Fet = 0.26,\n",
    "                                          Tp_C = 1360, P_start_bar = 56000, P_end_bar = 30000, dp_bar = 200)"
   ]
  },
  {
   "cell_type": "code",
   "execution_count": 79,
   "id": "76a1c57c-9b81-4520-be68-365f163aca7f",
   "metadata": {},
   "outputs": [
    {
     "data": {
      "text/plain": [
       "[<matplotlib.lines.Line2D at 0x2671ec897c0>]"
      ]
     },
     "execution_count": 79,
     "metadata": {},
     "output_type": "execute_result"
    },
    {
     "data": {
      "image/png": "[encoded data removed]",
      "text/plain": [
       "<Figure size 640x480 with 1 Axes>"
      ]
     },
     "metadata": {},
     "output_type": "display_data"
    }
   ],
   "source": [
    "f, a = plt.subplots(1,1)\n",
    "a.plot(Results['Mass']['liq'])"
   ]
  },
  {
   "cell_type": "code",
   "execution_count": 80,
   "id": "665e915f",
   "metadata": {},
   "outputs": [],
   "source": [
    "with open('594_Fe3Fet_026_Tp_1360.pkl', 'wb') as f:\n",
    "    pickle.dump(Results,f)"
   ]
  },
  {
   "cell_type": "code",
   "execution_count": 81,
   "id": "6f590661-4943-4549-ba52-23f1c4bc1bfb",
   "metadata": {},
   "outputs": [],
   "source": [
    "with open('594_Fe3Fet_026_Tp_1360.pkl', 'rb') as f:\n",
    "    Results = pickle.load(f)"
   ]
  },
  {
   "cell_type": "code",
   "execution_count": 82,
   "id": "ed6b7b27",
   "metadata": {},
   "outputs": [
    {
     "name": "stderr",
     "output_type": "stream",
     "text": [
      "h:\\my drive\\2022\\github\\feisotopecalc\\src\\FeIsotopeCalc\\main.py:79: SettingWithCopyWarning: \n",
      "A value is trying to be set on a copy of a slice from a DataFrame\n",
      "\n",
      "See the caveats in the documentation: https://pandas.pydata.org/pandas-docs/stable/user_guide/indexing.html#returning-a-view-versus-a-copy\n",
      "  Frac[s].loc[np.where(np.isnan(Frac[s]))] = 0\n",
      "h:\\my drive\\2022\\github\\feisotopecalc\\src\\FeIsotopeCalc\\main.py:79: SettingWithCopyWarning: \n",
      "A value is trying to be set on a copy of a slice from a DataFrame\n",
      "\n",
      "See the caveats in the documentation: https://pandas.pydata.org/pandas-docs/stable/user_guide/indexing.html#returning-a-view-versus-a-copy\n",
      "  Frac[s].loc[np.where(np.isnan(Frac[s]))] = 0\n",
      "h:\\my drive\\2022\\github\\feisotopecalc\\src\\FeIsotopeCalc\\main.py:79: SettingWithCopyWarning: \n",
      "A value is trying to be set on a copy of a slice from a DataFrame\n",
      "\n",
      "See the caveats in the documentation: https://pandas.pydata.org/pandas-docs/stable/user_guide/indexing.html#returning-a-view-versus-a-copy\n",
      "  Frac[s].loc[np.where(np.isnan(Frac[s]))] = 0\n",
      "h:\\my drive\\2022\\github\\feisotopecalc\\src\\FeIsotopeCalc\\main.py:79: SettingWithCopyWarning: \n",
      "A value is trying to be set on a copy of a slice from a DataFrame\n",
      "\n",
      "See the caveats in the documentation: https://pandas.pydata.org/pandas-docs/stable/user_guide/indexing.html#returning-a-view-versus-a-copy\n",
      "  Frac[s].loc[np.where(np.isnan(Frac[s]))] = 0\n",
      "h:\\my drive\\2022\\github\\feisotopecalc\\src\\FeIsotopeCalc\\main.py:79: SettingWithCopyWarning: \n",
      "A value is trying to be set on a copy of a slice from a DataFrame\n",
      "\n",
      "See the caveats in the documentation: https://pandas.pydata.org/pandas-docs/stable/user_guide/indexing.html#returning-a-view-versus-a-copy\n",
      "  Frac[s].loc[np.where(np.isnan(Frac[s]))] = 0\n"
     ]
    }
   ],
   "source": [
    "import FeIsotopeCalc as dfe\n",
    "delta56Fe_offset = dfe.calc_56Fe54Fe_all_phases(Results[\"Conditions\"], \n",
    "                                                   Results[\"Mass\"], \n",
    "                                                   Results)"
   ]
  },
  {
   "cell_type": "code",
   "execution_count": 83,
   "id": "45cba2fd-3255-4ea6-9d22-9628744f32f6",
   "metadata": {},
   "outputs": [],
   "source": [
    "import TraceElementEngine as TE"
   ]
  },
  {
   "cell_type": "code",
   "execution_count": 84,
   "id": "10235cdf-ecd2-42cc-a383-c48f06901aa3",
   "metadata": {},
   "outputs": [],
   "source": [
    "C_melt = TE.accum_frac_melt(Results['Mass'].copy())"
   ]
  },
  {
   "cell_type": "code",
   "execution_count": 85,
   "id": "488e660f",
   "metadata": {},
   "outputs": [],
   "source": [
    "Fe_results = pd.concat([Results['Conditions'], Results['Mass'].add_suffix('_Mass'), delta56Fe_offset.add_suffix('_$\\Delta ^{56}$Fe'), C_melt], axis = 1)"
   ]
  },
  {
   "cell_type": "code",
   "execution_count": 86,
   "id": "b7f7c128-014f-4adc-9a79-0563346d4000",
   "metadata": {},
   "outputs": [],
   "source": [
    "Fe_results.to_excel('594_Fe3Fet_026_Tp_1360.xlsx')"
   ]
  },
  {
   "cell_type": "code",
   "execution_count": null,
   "id": "bbf34ff7-5de0-4ea2-a1a4-524e990051d0",
   "metadata": {},
   "outputs": [],
   "source": []
  }
 ],
 "metadata": {
  "kernelspec": {
   "display_name": "Python 3 (ipykernel)",
   "language": "python",
   "name": "python3"
  },
  "language_info": {
   "codemirror_mode": {
    "name": "ipython",
    "version": 3
   },
   "file_extension": ".py",
   "mimetype": "text/x-python",
   "name": "python",
   "nbconvert_exporter": "python",
   "pygments_lexer": "ipython3",
   "version": "3.9.13"
  }
 },
 "nbformat": 4,
 "nbformat_minor": 5
}
