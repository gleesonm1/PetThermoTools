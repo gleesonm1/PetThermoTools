{
 "cells": [
  {
   "cell_type": "markdown",
   "id": "3e3260d9",
   "metadata": {},
   "source": [
    "## Using MELTS and MAGEMin as liquid-only thermometers (finding liquidus temperatures)"
   ]
  },
  {
   "cell_type": "markdown",
   "id": "ce0ce115",
   "metadata": {},
   "source": [
    "Prior to starting any calculations it is necessary to load the relevant packages. As most of the work is done in the pyMELTScalc functions, only a few packages need to be imported into your notebook. These include $numpy$ and $pandas$ (for data processing), $matplotlib.pyplot$ for the visualisation of results, and $pyMELTScalc$ itself. In addition, it is necessary to append the path to the alphaMELTS for MATLAB/Python packages (available via GitLab), which are done using $sys$."
   ]
  },
  {
   "cell_type": "code",
   "execution_count": 1,
   "id": "3de6fb57",
   "metadata": {},
   "outputs": [],
   "source": [
    "import numpy as np\n",
    "import pandas as pd\n",
    "import matplotlib.pyplot as plt\n",
    "import pyMELTScalc as M\n",
    "import Thermobar as pt\n",
    "\n",
    "import sys\n",
    "sys.path.append('G:/My Drive/2022/MELTS/MELTS_Matlab-master/package')"
   ]
  },
  {
   "cell_type": "markdown",
   "id": "04a64d78",
   "metadata": {},
   "source": [
    "To test the ability of MELTS and MAGEMin to act at liquid-only thermometers we need some experiments to test them against. Here, we use a database of experimental data compiled by Wieser and isolate all the melt compositions in the $Liq$ sheet. We then list the elements that must be present for MELTS calculations to be performed."
   ]
  },
  {
   "cell_type": "code",
   "execution_count": 2,
   "id": "936c6ed6",
   "metadata": {},
   "outputs": [],
   "source": [
    "Data = pd.read_excel('LEPR_Wet_stitched_Sept2022.xlsx', sheet_name = 'Liq')\n",
    "Data['Fe3Fet_Liq'] = np.zeros(len(Data['SiO2_Liq'])) + 0.15\n",
    "Data['CO2_Liq'] = np.zeros(len(Data['SiO2_Liq']))\n",
    "Elements = ['SiO2_Liq', 'TiO2_Liq', 'Al2O3_Liq', 'FeOt_Liq', 'MgO_Liq', 'MnO_Liq', \n",
    "            'CaO_Liq', 'Na2O_Liq', 'K2O_Liq', 'P2O5_Liq', 'H2O_Liq', 'CO2_Liq', 'Fe3Fet_Liq']"
   ]
  },
  {
   "cell_type": "markdown",
   "id": "8e67b0bb",
   "metadata": {},
   "source": [
    "The entire experimental dataset contains over 2000 samples. Therefore, to reduce the computational time in this example spreadsheet I isolate 400 experiments (randomly selected) to be used in the following calculations. A new DataFrame is constructed using only these experiments."
   ]
  },
  {
   "cell_type": "code",
   "execution_count": 3,
   "id": "108c082e",
   "metadata": {},
   "outputs": [],
   "source": [
    "Ch = np.random.choice(range(len(Data['SiO2_Liq'])), 2000, replace=False)\n",
    "Test = Data.copy()\n",
    "Test = Test.loc[Ch]\n",
    "Test = Test.reset_index(drop = True)"
   ]
  },
  {
   "cell_type": "markdown",
   "id": "c18f77a4",
   "metadata": {},
   "source": [
    "Now we have our dataset to be investigated we can run the liquidus calculations. As a standard, I run these with 20 calculations run in parallel ($'cores'$), but you may need to reduce this number for computers with less RAM or lower spec processors.\n",
    "\n",
    "The calculation here specifies that we wish to use the MELTS thermodynamic models, provides a DataFrame of compositions, and the conditions of the calculation. The pressure is taken from the pressure of each experiment and the initial temperature for the calculation (the starting point for the findLiq function) is set at the experimental temperature in K. By setting the initial temperature to the experimental temperature in K, but searching for the liquidus in Celcius, we ensure that most calculations will start above the liquidus, which reduces the possibility that the calculations will hit a failure prior to the liquidus being found."
   ]
  },
  {
   "cell_type": "code",
   "execution_count": null,
   "id": "09266635",
   "metadata": {},
   "outputs": [
    {
     "data": {
      "application/vnd.jupyter.widget-view+json": {
       "model_id": "7f0c0494a7f74ca39b306993da8c2903",
       "version_major": 2,
       "version_minor": 0
      },
      "text/plain": [
       "  0%|          | 0/100 [00:00<?, ?it/s]"
      ]
     },
     "metadata": {},
     "output_type": "display_data"
    }
   ],
   "source": [
    "%timeit T_liq, H2O = M.findLiq_multi(Model = \"MELTSv1.2.0\", comp = Test[Elements], T_initial_C = Test['T_K'].values-200, P_bar = Test['P_kbar'].values*1000)"
   ]
  },
  {
   "cell_type": "code",
   "execution_count": 10,
   "id": "703cb3d2",
   "metadata": {},
   "outputs": [
    {
     "name": "stdout",
     "output_type": "stream",
     "text": [
      "15 ms ± 184 µs per loop (mean ± std. dev. of 7 runs, 100 loops each)\n"
     ]
    }
   ],
   "source": [
    "%timeit T_Liq = pt.calculate_liq_only_temp(liq_comps=Test, equationT=\"T_Put2008_eq22_BeattDMg\", P = Test['P_kbar'].values)-273.15"
   ]
  },
  {
   "cell_type": "markdown",
   "id": "3c5a9736",
   "metadata": {},
   "source": [
    "Now that we have the results of this analysis, we can compare the results of these calculations to the true experimental temperature. Experiments that have no reported water typically show a very poor match to the experimental temperature, and are thus excluded from the following comparison. Additionally, we exlude any calculations that did not return a result (T_liq = 0).\n",
    "\n",
    "Overall, MELTS does an acceptable job in reproducing the experimental temperatures, although it is notable that the liquidus temperature is typically overpredicted by around 50 $^{o}$C."
   ]
  },
  {
   "cell_type": "code",
   "execution_count": 12,
   "id": "eea88d76",
   "metadata": {},
   "outputs": [
    {
     "data": {
      "text/plain": [
       "Text(0, 0.5, 'Experimental Temperature ($^{o}$C)')"
      ]
     },
     "execution_count": 12,
     "metadata": {},
     "output_type": "execute_result"
    },
    {
     "data": {
      "image/png": "[encoded data removed]",
      "text/plain": [
       "<Figure size 432x288 with 1 Axes>"
      ]
     },
     "metadata": {
      "needs_background": "light"
     },
     "output_type": "display_data"
    }
   ],
   "source": [
    "f, a = plt.subplots(1,1)\n",
    "a.plot(T_Liq[(Test['H2O_Liq'] > 0) & (T_liq > 0)], Test['T_K'][(Test['H2O_Liq'] > 0) & (T_liq > 0)]-273.15, 'ok')\n",
    "a.plot([800,1400],[800,1400], 'r-')\n",
    "a.set_xlabel('Estimated Temperature ($^{o}$C)')\n",
    "a.set_ylabel('Experimental Temperature ($^{o}$C)')"
   ]
  },
  {
   "cell_type": "markdown",
   "id": "3781bcbb",
   "metadata": {},
   "source": [
    "To perform calculations in MAGEMin, a column for Cr2O3 is required in the input dataset and a new list of Elements must be specified."
   ]
  },
  {
   "cell_type": "code",
   "execution_count": 6,
   "id": "916eb505",
   "metadata": {},
   "outputs": [],
   "source": [
    "Test['Cr2O3_Liq'] = np.zeros(len(Test['SiO2_Liq']))\n",
    "Elements = ['SiO2_Liq', 'Al2O3_Liq', 'CaO_Liq', 'MgO_Liq', 'FeOt_Liq', 'K2O_Liq', 'Na2O_Liq', 'TiO2_Liq', 'Cr2O3_Liq', 'H2O_Liq', 'Fe3Fet_Liq']\n"
   ]
  },
  {
   "cell_type": "markdown",
   "id": "d75c4e17",
   "metadata": {},
   "source": [
    "Now the new elements list has been described, we can repeat the calculations performed above in MAGEMin. For these calculations we run 10 simulations in parallel and specify the MAGEMin calculations by stating $Model = \"Holland\"$."
   ]
  },
  {
   "cell_type": "code",
   "execution_count": 7,
   "id": "c4f0f08f",
   "metadata": {},
   "outputs": [
    {
     "data": {
      "application/vnd.jupyter.widget-view+json": {
       "model_id": "3c7ffbd5a9d74737b88d474baa6f4845",
       "version_major": 2,
       "version_minor": 0
      },
      "text/plain": [
       "  0%|          | 0/20 [00:00<?, ?it/s]"
      ]
     },
     "metadata": {},
     "output_type": "display_data"
    }
   ],
   "source": [
    "T_liq, H2O = M.findLiq_multi(Model = \"Holland\", comp = Test[Elements], T_initial_C = Test['T_K'].values-273.15, \n",
    "                             P_bar = Test['P_kbar'].values*1000)"
   ]
  },
  {
   "cell_type": "markdown",
   "id": "567929f9",
   "metadata": {},
   "source": [
    "Plotting up the results, we can see that below 1100 $^{o}$C the fit between the experimental and predicted temperatures are quite poor. Above 1100 $^{o}$C, however, these is a good agreement between these experiments and predictions. "
   ]
  },
  {
   "cell_type": "code",
   "execution_count": 8,
   "id": "9120319e",
   "metadata": {},
   "outputs": [
    {
     "data": {
      "text/plain": [
       "Text(0, 0.5, 'Experimental Temperature ($^{o}$C)')"
      ]
     },
     "execution_count": 8,
     "metadata": {},
     "output_type": "execute_result"
    },
    {
     "data": {
      "image/png": "[encoded data removed]",
      "text/plain": [
       "<Figure size 432x288 with 1 Axes>"
      ]
     },
     "metadata": {
      "needs_background": "light"
     },
     "output_type": "display_data"
    }
   ],
   "source": [
    "f, a = plt.subplots(1,1)\n",
    "a.plot(T_liq[(Test['H2O_Liq'] > 0) & (T_liq > 0)], Test['T_K'][(Test['H2O_Liq'] > 0) & (T_liq > 0)]-273.15, 'ok')\n",
    "a.plot([800,1400],[800,1400], 'r-')\n",
    "a.set_xlabel('Estimated Temperature ($^{o}$C)')\n",
    "a.set_ylabel('Experimental Temperature ($^{o}$C)')"
   ]
  },
  {
   "cell_type": "code",
   "execution_count": null,
   "id": "7c756f74",
   "metadata": {},
   "outputs": [],
   "source": []
  }
 ],
 "metadata": {
  "kernelspec": {
   "display_name": "Python 3 (ipykernel)",
   "language": "python",
   "name": "python3"
  },
  "language_info": {
   "codemirror_mode": {
    "name": "ipython",
    "version": 3
   },
   "file_extension": ".py",
   "mimetype": "text/x-python",
   "name": "python",
   "nbconvert_exporter": "python",
   "pygments_lexer": "ipython3",
   "version": "3.9.7"
  }
 },
 "nbformat": 4,
 "nbformat_minor": 5
}
